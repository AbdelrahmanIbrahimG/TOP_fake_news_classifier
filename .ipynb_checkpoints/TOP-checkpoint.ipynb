{
 "cells": [
  {
   "cell_type": "markdown",
   "metadata": {
    "id": "9WFwa7M7xrsw"
   },
   "source": [
    "# Importing the libs"
   ]
  },
  {
   "cell_type": "code",
   "execution_count": 55,
   "metadata": {
    "colab": {
     "base_uri": "https://localhost:8080/"
    },
    "id": "AoMFY-4RxxKP",
    "outputId": "917c8b82-aa70-4bbb-aaf3-847606ac4a00"
   },
   "outputs": [
    {
     "name": "stderr",
     "output_type": "stream",
     "text": [
      "[nltk_data] Downloading package stopwords to\n",
      "[nltk_data]     C:\\Users\\alihi\\AppData\\Roaming\\nltk_data...\n",
      "[nltk_data]   Package stopwords is already up-to-date!\n"
     ]
    }
   ],
   "source": [
    "import numpy as np\n",
    "import pandas as pd\n",
    "import re #substitution or replacement of substrings\n",
    "from textblob import TextBlob\n",
    "from nltk.corpus import stopwords\n",
    "from nltk.tokenize import word_tokenize\n",
    "from nltk.stem import WordNetLemmatizer\n",
    "import matplotlib.pyplot as plt\n",
    "from sklearn.feature_extraction.text import TfidfVectorizer\n",
    "from sklearn.model_selection import train_test_split\n",
    "import nltk\n",
    "# !pip install contractions\n",
    "import contractions\n",
    "nltk.download('stopwords')\n",
    "lemmatizer = WordNetLemmatizer()\n",
    "tfidf_vectorizer = TfidfVectorizer()"
   ]
  },
  {
   "cell_type": "markdown",
   "metadata": {
    "id": "eKwx-2awzIzJ"
   },
   "source": [
    "# Defined methods"
   ]
  },
  {
   "cell_type": "code",
   "execution_count": 56,
   "metadata": {
    "id": "wzUZN53izM9o"
   },
   "outputs": [],
   "source": [
    "def clean_text(text):\n",
    "    # \\S matches any character that is not a space tab newline\n",
    "    text = re.sub(r'http\\S+', '', text)\n",
    "    #remove emojis\n",
    "    text = text.encode('ascii', 'ignore').decode('ascii')\n",
    "    # igore => specifies how to handle characters that cannot be represented in ASCII\n",
    "    # remove htmk tags  => . any char except newline\n",
    "    text = re.sub(r'<.*>', '', text)\n",
    "    # remove punctiuations\n",
    "    text = re.sub(r'[^\\w\\s]', '', text)\n",
    "    return text\n",
    "\n",
    "def remove_stopwords(text):\n",
    "    words = word_tokenize(text)\n",
    "    english_stopwords = set(stopwords.words('english'))\n",
    "    filtered_words = []\n",
    "    for word in words:\n",
    "        if word.lower() not in english_stopwords:\n",
    "            filtered_words.append(word)\n",
    "    filtered_text = ' '.join(filtered_words)\n",
    "    return filtered_text\n",
    "\n",
    "def spell_check_and_correction(text):\n",
    "    blob = TextBlob(text)\n",
    "    corrected_text = str(blob.correct())\n",
    "    return corrected_text\n",
    "\n",
    "def to_lower(s):\n",
    "    return s.lower()\n",
    "\n",
    "def expanding_contractions(text):\n",
    "    text = contractions.fix(text)\n",
    "    return text\n",
    "\n",
    "def tokenization_and_lemmatization(text):\n",
    "    text_tokenized = []\n",
    "    \n",
    "    words = nltk.word_tokenize(text) #Tokenize\n",
    "\n",
    "    for word in words:\n",
    "        text_tokenized.append(lemmatizer.lemmatize(word)) #lemmatize\n",
    "    \n",
    "    text_tokenized = ' '.join(text_tokenized)\n",
    "    \n",
    "    return text_tokenized"
   ]
  },
  {
   "cell_type": "code",
   "execution_count": 57,
   "metadata": {
    "id": "VDf9tZIZ_mWy",
    "scrolled": false
   },
   "outputs": [
    {
     "name": "stdout",
     "output_type": "stream",
     "text": [
      "print pay back money plus interest entire family everyone came need deported soon possible take two year bust go another group stealing government taxpayer group somali stole four million government benefit month reported numerous case like one muslim refugeesimmigrants commit fraud scamming systemits way control related\n"
     ]
    }
   ],
   "source": [
    "def preprocess_text(text):\n",
    "    text = clean_text(text)\n",
    "#     text = spell_check_and_correction(text)\n",
    "    text = expanding_contractions(text)\n",
    "    text = remove_stopwords(text)\n",
    "    text = to_lower(text)\n",
    "    text = tokenization_and_lemmatization(text)\n",
    "\n",
    "    return text\n",
    "\n",
    "# Testing the methods\n",
    "print(preprocess_text(\"print they should pay all the back all the money plus interest the entire family and everyone who came in with them need to be deported asap why didn't it take two years to bust them here we go again another group stealing from the government and taxpayers a group of somalis stole over four million in government benefits over just  months weve reported on numerous cases like this one where the muslim refugeesimmigrants commit fraud by scamming our systemits way out of control more related\"))"
   ]
  },
  {
   "cell_type": "markdown",
   "metadata": {},
   "source": [
    "# Data analysis"
   ]
  },
  {
   "cell_type": "code",
   "execution_count": 58,
   "metadata": {
    "colab": {
     "base_uri": "https://localhost:8080/",
     "height": 112
    },
    "id": "jeCPjdzYyYfy",
    "outputId": "b4c76d63-386b-4433-c83e-63ab88865fe2"
   },
   "outputs": [
    {
     "data": {
      "text/html": [
       "<div>\n",
       "<style scoped>\n",
       "    .dataframe tbody tr th:only-of-type {\n",
       "        vertical-align: middle;\n",
       "    }\n",
       "\n",
       "    .dataframe tbody tr th {\n",
       "        vertical-align: top;\n",
       "    }\n",
       "\n",
       "    .dataframe thead th {\n",
       "        text-align: right;\n",
       "    }\n",
       "</style>\n",
       "<table border=\"1\" class=\"dataframe\">\n",
       "  <thead>\n",
       "    <tr style=\"text-align: right;\">\n",
       "      <th></th>\n",
       "      <th>text</th>\n",
       "      <th>label</th>\n",
       "    </tr>\n",
       "  </thead>\n",
       "  <tbody>\n",
       "    <tr>\n",
       "      <th>0</th>\n",
       "      <td>Print They should pay all the back all the mon...</td>\n",
       "      <td>0.0</td>\n",
       "    </tr>\n",
       "    <tr>\n",
       "      <th>1</th>\n",
       "      <td>Why Did Attorney General Loretta Lynch Plead T...</td>\n",
       "      <td>0.0</td>\n",
       "    </tr>\n",
       "    <tr>\n",
       "      <th>2</th>\n",
       "      <td>Red State : \\nFox News Sunday reported this mo...</td>\n",
       "      <td>0.0</td>\n",
       "    </tr>\n",
       "    <tr>\n",
       "      <th>3</th>\n",
       "      <td>Email Kayla Mueller was a prisoner and torture...</td>\n",
       "      <td>0.0</td>\n",
       "    </tr>\n",
       "    <tr>\n",
       "      <th>4</th>\n",
       "      <td>Email HEALTHCARE REFORM TO MAKE AMERICA GREAT ...</td>\n",
       "      <td>0.0</td>\n",
       "    </tr>\n",
       "    <tr>\n",
       "      <th>5</th>\n",
       "      <td>Print Hillary goes absolutely berserk! She exp...</td>\n",
       "      <td>0.0</td>\n",
       "    </tr>\n",
       "    <tr>\n",
       "      <th>6</th>\n",
       "      <td>BREAKING! NYPD Ready To Make Arrests In Weiner...</td>\n",
       "      <td>0.0</td>\n",
       "    </tr>\n",
       "    <tr>\n",
       "      <th>7</th>\n",
       "      <td>BREAKING! NYPD Ready To Make Arrests In Weiner...</td>\n",
       "      <td>0.0</td>\n",
       "    </tr>\n",
       "    <tr>\n",
       "      <th>8</th>\n",
       "      <td>\\nLimbaugh said that the revelations in the Wi...</td>\n",
       "      <td>0.0</td>\n",
       "    </tr>\n",
       "    <tr>\n",
       "      <th>9</th>\n",
       "      <td>Email \\nThese people are sick and evil. They w...</td>\n",
       "      <td>0.0</td>\n",
       "    </tr>\n",
       "  </tbody>\n",
       "</table>\n",
       "</div>"
      ],
      "text/plain": [
       "                                                text  label\n",
       "0  Print They should pay all the back all the mon...    0.0\n",
       "1  Why Did Attorney General Loretta Lynch Plead T...    0.0\n",
       "2  Red State : \\nFox News Sunday reported this mo...    0.0\n",
       "3  Email Kayla Mueller was a prisoner and torture...    0.0\n",
       "4  Email HEALTHCARE REFORM TO MAKE AMERICA GREAT ...    0.0\n",
       "5  Print Hillary goes absolutely berserk! She exp...    0.0\n",
       "6  BREAKING! NYPD Ready To Make Arrests In Weiner...    0.0\n",
       "7  BREAKING! NYPD Ready To Make Arrests In Weiner...    0.0\n",
       "8  \\nLimbaugh said that the revelations in the Wi...    0.0\n",
       "9  Email \\nThese people are sick and evil. They w...    0.0"
      ]
     },
     "execution_count": 58,
     "metadata": {},
     "output_type": "execute_result"
    }
   ],
   "source": [
    "df = pd.read_csv(\"dataset.csv\",encoding = \"latin1\")\n",
    "df.head(10)"
   ]
  },
  {
   "cell_type": "code",
   "execution_count": 59,
   "metadata": {
    "colab": {
     "base_uri": "https://localhost:8080/"
    },
    "id": "GvH5D7O2TUqc",
    "outputId": "eb48a68d-5754-45ab-9968-14c746d4e60c"
   },
   "outputs": [
    {
     "name": "stdout",
     "output_type": "stream",
     "text": [
      "<class 'pandas.core.frame.DataFrame'>\n",
      "RangeIndex: 156790 entries, 0 to 156789\n",
      "Data columns (total 2 columns):\n",
      " #   Column  Non-Null Count   Dtype  \n",
      "---  ------  --------------   -----  \n",
      " 0   text    153247 non-null  object \n",
      " 1   label   151791 non-null  float64\n",
      "dtypes: float64(1), object(1)\n",
      "memory usage: 2.4+ MB\n"
     ]
    }
   ],
   "source": [
    "df.info()"
   ]
  },
  {
   "cell_type": "code",
   "execution_count": 60,
   "metadata": {
    "colab": {
     "base_uri": "https://localhost:8080/"
    },
    "id": "BFNFgS9YTP18",
    "outputId": "50fd6438-e8e0-4fd1-9b62-6eca1c196a5f"
   },
   "outputs": [
    {
     "data": {
      "text/plain": [
       "label\n",
       "0.0    84308\n",
       "1.0    67483\n",
       "Name: count, dtype: int64"
      ]
     },
     "execution_count": 60,
     "metadata": {},
     "output_type": "execute_result"
    }
   ],
   "source": [
    "df[\"label\"].value_counts()"
   ]
  },
  {
   "cell_type": "code",
   "execution_count": 61,
   "metadata": {
    "colab": {
     "base_uri": "https://localhost:8080/"
    },
    "id": "ptDzMYALTSzk",
    "outputId": "54f0c921-08ce-4257-b912-4d55aa627ec5"
   },
   "outputs": [
    {
     "data": {
      "text/plain": [
       "text     3543\n",
       "label    4999\n",
       "dtype: int64"
      ]
     },
     "execution_count": 61,
     "metadata": {},
     "output_type": "execute_result"
    }
   ],
   "source": [
    "df.isna().sum()"
   ]
  },
  {
   "cell_type": "code",
   "execution_count": 62,
   "metadata": {},
   "outputs": [
    {
     "data": {
      "text/plain": [
       "text     0\n",
       "label    0\n",
       "dtype: int64"
      ]
     },
     "execution_count": 62,
     "metadata": {},
     "output_type": "execute_result"
    }
   ],
   "source": [
    "# remove nan and -inf values\n",
    "df = df.dropna()\n",
    "df.isna().sum()"
   ]
  },
  {
   "cell_type": "code",
   "execution_count": 63,
   "metadata": {
    "scrolled": true
   },
   "outputs": [
    {
     "data": {
      "text/html": [
       "<div>\n",
       "<style scoped>\n",
       "    .dataframe tbody tr th:only-of-type {\n",
       "        vertical-align: middle;\n",
       "    }\n",
       "\n",
       "    .dataframe tbody tr th {\n",
       "        vertical-align: top;\n",
       "    }\n",
       "\n",
       "    .dataframe thead th {\n",
       "        text-align: right;\n",
       "    }\n",
       "</style>\n",
       "<table border=\"1\" class=\"dataframe\">\n",
       "  <thead>\n",
       "    <tr style=\"text-align: right;\">\n",
       "      <th></th>\n",
       "      <th>text</th>\n",
       "      <th>label</th>\n",
       "    </tr>\n",
       "  </thead>\n",
       "  <tbody>\n",
       "    <tr>\n",
       "      <th>0</th>\n",
       "      <td>Print They should pay all the back all the mon...</td>\n",
       "      <td>0</td>\n",
       "    </tr>\n",
       "    <tr>\n",
       "      <th>1</th>\n",
       "      <td>Why Did Attorney General Loretta Lynch Plead T...</td>\n",
       "      <td>0</td>\n",
       "    </tr>\n",
       "    <tr>\n",
       "      <th>2</th>\n",
       "      <td>Red State : \\nFox News Sunday reported this mo...</td>\n",
       "      <td>0</td>\n",
       "    </tr>\n",
       "    <tr>\n",
       "      <th>3</th>\n",
       "      <td>Email Kayla Mueller was a prisoner and torture...</td>\n",
       "      <td>0</td>\n",
       "    </tr>\n",
       "    <tr>\n",
       "      <th>4</th>\n",
       "      <td>Email HEALTHCARE REFORM TO MAKE AMERICA GREAT ...</td>\n",
       "      <td>0</td>\n",
       "    </tr>\n",
       "    <tr>\n",
       "      <th>...</th>\n",
       "      <td>...</td>\n",
       "      <td>...</td>\n",
       "    </tr>\n",
       "    <tr>\n",
       "      <th>156784</th>\n",
       "      <td>BRUSSELS (Reuters) - NATO allies on Tuesday we...</td>\n",
       "      <td>1</td>\n",
       "    </tr>\n",
       "    <tr>\n",
       "      <th>156785</th>\n",
       "      <td>LONDON (Reuters) - LexisNexis, a provider of l...</td>\n",
       "      <td>1</td>\n",
       "    </tr>\n",
       "    <tr>\n",
       "      <th>156786</th>\n",
       "      <td>MINSK (Reuters) - In the shadow of disused Sov...</td>\n",
       "      <td>1</td>\n",
       "    </tr>\n",
       "    <tr>\n",
       "      <th>156787</th>\n",
       "      <td>MOSCOW (Reuters) - Vatican Secretary of State ...</td>\n",
       "      <td>1</td>\n",
       "    </tr>\n",
       "    <tr>\n",
       "      <th>156788</th>\n",
       "      <td>JAKARTA (Reuters) - Indonesia will buy 11 Sukh...</td>\n",
       "      <td>1</td>\n",
       "    </tr>\n",
       "  </tbody>\n",
       "</table>\n",
       "<p>151633 rows × 2 columns</p>\n",
       "</div>"
      ],
      "text/plain": [
       "                                                     text  label\n",
       "0       Print They should pay all the back all the mon...      0\n",
       "1       Why Did Attorney General Loretta Lynch Plead T...      0\n",
       "2       Red State : \\nFox News Sunday reported this mo...      0\n",
       "3       Email Kayla Mueller was a prisoner and torture...      0\n",
       "4       Email HEALTHCARE REFORM TO MAKE AMERICA GREAT ...      0\n",
       "...                                                   ...    ...\n",
       "156784  BRUSSELS (Reuters) - NATO allies on Tuesday we...      1\n",
       "156785  LONDON (Reuters) - LexisNexis, a provider of l...      1\n",
       "156786  MINSK (Reuters) - In the shadow of disused Sov...      1\n",
       "156787  MOSCOW (Reuters) - Vatican Secretary of State ...      1\n",
       "156788  JAKARTA (Reuters) - Indonesia will buy 11 Sukh...      1\n",
       "\n",
       "[151633 rows x 2 columns]"
      ]
     },
     "execution_count": 63,
     "metadata": {},
     "output_type": "execute_result"
    }
   ],
   "source": [
    "# change the type of the label column to int\n",
    "df['label'] = df['label'].astype(int)\n",
    "df"
   ]
  },
  {
   "cell_type": "code",
   "execution_count": 64,
   "metadata": {},
   "outputs": [
    {
     "data": {
      "text/plain": [
       "12963"
      ]
     },
     "execution_count": 64,
     "metadata": {},
     "output_type": "execute_result"
    }
   ],
   "source": [
    "df.duplicated().sum()"
   ]
  },
  {
   "cell_type": "code",
   "execution_count": 65,
   "metadata": {},
   "outputs": [
    {
     "data": {
      "text/html": [
       "<div>\n",
       "<style scoped>\n",
       "    .dataframe tbody tr th:only-of-type {\n",
       "        vertical-align: middle;\n",
       "    }\n",
       "\n",
       "    .dataframe tbody tr th {\n",
       "        vertical-align: top;\n",
       "    }\n",
       "\n",
       "    .dataframe thead th {\n",
       "        text-align: right;\n",
       "    }\n",
       "</style>\n",
       "<table border=\"1\" class=\"dataframe\">\n",
       "  <thead>\n",
       "    <tr style=\"text-align: right;\">\n",
       "      <th></th>\n",
       "      <th>text</th>\n",
       "      <th>label</th>\n",
       "    </tr>\n",
       "  </thead>\n",
       "  <tbody>\n",
       "    <tr>\n",
       "      <th>0</th>\n",
       "      <td>Print They should pay all the back all the mon...</td>\n",
       "      <td>0</td>\n",
       "    </tr>\n",
       "    <tr>\n",
       "      <th>1</th>\n",
       "      <td>Why Did Attorney General Loretta Lynch Plead T...</td>\n",
       "      <td>0</td>\n",
       "    </tr>\n",
       "    <tr>\n",
       "      <th>2</th>\n",
       "      <td>Red State : \\nFox News Sunday reported this mo...</td>\n",
       "      <td>0</td>\n",
       "    </tr>\n",
       "    <tr>\n",
       "      <th>3</th>\n",
       "      <td>Email Kayla Mueller was a prisoner and torture...</td>\n",
       "      <td>0</td>\n",
       "    </tr>\n",
       "    <tr>\n",
       "      <th>4</th>\n",
       "      <td>Email HEALTHCARE REFORM TO MAKE AMERICA GREAT ...</td>\n",
       "      <td>0</td>\n",
       "    </tr>\n",
       "    <tr>\n",
       "      <th>...</th>\n",
       "      <td>...</td>\n",
       "      <td>...</td>\n",
       "    </tr>\n",
       "    <tr>\n",
       "      <th>156784</th>\n",
       "      <td>BRUSSELS (Reuters) - NATO allies on Tuesday we...</td>\n",
       "      <td>1</td>\n",
       "    </tr>\n",
       "    <tr>\n",
       "      <th>156785</th>\n",
       "      <td>LONDON (Reuters) - LexisNexis, a provider of l...</td>\n",
       "      <td>1</td>\n",
       "    </tr>\n",
       "    <tr>\n",
       "      <th>156786</th>\n",
       "      <td>MINSK (Reuters) - In the shadow of disused Sov...</td>\n",
       "      <td>1</td>\n",
       "    </tr>\n",
       "    <tr>\n",
       "      <th>156787</th>\n",
       "      <td>MOSCOW (Reuters) - Vatican Secretary of State ...</td>\n",
       "      <td>1</td>\n",
       "    </tr>\n",
       "    <tr>\n",
       "      <th>156788</th>\n",
       "      <td>JAKARTA (Reuters) - Indonesia will buy 11 Sukh...</td>\n",
       "      <td>1</td>\n",
       "    </tr>\n",
       "  </tbody>\n",
       "</table>\n",
       "<p>138670 rows × 2 columns</p>\n",
       "</div>"
      ],
      "text/plain": [
       "                                                     text  label\n",
       "0       Print They should pay all the back all the mon...      0\n",
       "1       Why Did Attorney General Loretta Lynch Plead T...      0\n",
       "2       Red State : \\nFox News Sunday reported this mo...      0\n",
       "3       Email Kayla Mueller was a prisoner and torture...      0\n",
       "4       Email HEALTHCARE REFORM TO MAKE AMERICA GREAT ...      0\n",
       "...                                                   ...    ...\n",
       "156784  BRUSSELS (Reuters) - NATO allies on Tuesday we...      1\n",
       "156785  LONDON (Reuters) - LexisNexis, a provider of l...      1\n",
       "156786  MINSK (Reuters) - In the shadow of disused Sov...      1\n",
       "156787  MOSCOW (Reuters) - Vatican Secretary of State ...      1\n",
       "156788  JAKARTA (Reuters) - Indonesia will buy 11 Sukh...      1\n",
       "\n",
       "[138670 rows x 2 columns]"
      ]
     },
     "execution_count": 65,
     "metadata": {},
     "output_type": "execute_result"
    }
   ],
   "source": [
    "df = df.drop_duplicates()\n",
    "df"
   ]
  },
  {
   "cell_type": "code",
   "execution_count": 66,
   "metadata": {
    "scrolled": true
   },
   "outputs": [
    {
     "data": {
      "text/html": [
       "<div>\n",
       "<style scoped>\n",
       "    .dataframe tbody tr th:only-of-type {\n",
       "        vertical-align: middle;\n",
       "    }\n",
       "\n",
       "    .dataframe tbody tr th {\n",
       "        vertical-align: top;\n",
       "    }\n",
       "\n",
       "    .dataframe thead th {\n",
       "        text-align: right;\n",
       "    }\n",
       "</style>\n",
       "<table border=\"1\" class=\"dataframe\">\n",
       "  <thead>\n",
       "    <tr style=\"text-align: right;\">\n",
       "      <th></th>\n",
       "      <th>text</th>\n",
       "      <th>label</th>\n",
       "    </tr>\n",
       "  </thead>\n",
       "  <tbody>\n",
       "    <tr>\n",
       "      <th>0</th>\n",
       "      <td>us air strikes in afghanistan increase in  sun...</td>\n",
       "      <td>1</td>\n",
       "    </tr>\n",
       "    <tr>\n",
       "      <th>1</th>\n",
       "      <td>senate republican leader obama politicize supr...</td>\n",
       "      <td>1</td>\n",
       "    </tr>\n",
       "    <tr>\n",
       "      <th>2</th>\n",
       "      <td>TUNIS (Reuters) - The Tunisian navy has arrest...</td>\n",
       "      <td>1</td>\n",
       "    </tr>\n",
       "    <tr>\n",
       "      <th>3</th>\n",
       "      <td>Donald Trump and his and the conservative medi...</td>\n",
       "      <td>0</td>\n",
       "    </tr>\n",
       "    <tr>\n",
       "      <th>4</th>\n",
       "      <td>u senator graham agrees putin north korea sanc...</td>\n",
       "      <td>1</td>\n",
       "    </tr>\n",
       "    <tr>\n",
       "      <th>...</th>\n",
       "      <td>...</td>\n",
       "      <td>...</td>\n",
       "    </tr>\n",
       "    <tr>\n",
       "      <th>138665</th>\n",
       "      <td>So words deemed offensive are only offensive i...</td>\n",
       "      <td>0</td>\n",
       "    </tr>\n",
       "    <tr>\n",
       "      <th>138666</th>\n",
       "      <td>President Donald Trump fumed against a federal...</td>\n",
       "      <td>0</td>\n",
       "    </tr>\n",
       "    <tr>\n",
       "      <th>138667</th>\n",
       "      <td>On MondayÃ¢ÂÂs broadcast of the Fox News Cha...</td>\n",
       "      <td>0</td>\n",
       "    </tr>\n",
       "    <tr>\n",
       "      <th>138668</th>\n",
       "      <td>There are a ton of tards who will continue to ...</td>\n",
       "      <td>0</td>\n",
       "    </tr>\n",
       "    <tr>\n",
       "      <th>138669</th>\n",
       "      <td>WASHINGTON (Reuters) - U.S. House of Represent...</td>\n",
       "      <td>1</td>\n",
       "    </tr>\n",
       "  </tbody>\n",
       "</table>\n",
       "<p>138670 rows × 2 columns</p>\n",
       "</div>"
      ],
      "text/plain": [
       "                                                     text  label\n",
       "0       us air strikes in afghanistan increase in  sun...      1\n",
       "1       senate republican leader obama politicize supr...      1\n",
       "2       TUNIS (Reuters) - The Tunisian navy has arrest...      1\n",
       "3       Donald Trump and his and the conservative medi...      0\n",
       "4       u senator graham agrees putin north korea sanc...      1\n",
       "...                                                   ...    ...\n",
       "138665  So words deemed offensive are only offensive i...      0\n",
       "138666  President Donald Trump fumed against a federal...      0\n",
       "138667  On MondayÃ¢ÂÂs broadcast of the Fox News Cha...      0\n",
       "138668  There are a ton of tards who will continue to ...      0\n",
       "138669  WASHINGTON (Reuters) - U.S. House of Represent...      1\n",
       "\n",
       "[138670 rows x 2 columns]"
      ]
     },
     "execution_count": 66,
     "metadata": {},
     "output_type": "execute_result"
    }
   ],
   "source": [
    "# shuffle the rows\n",
    "df = df.sample(frac=1)\n",
    "df = df.reset_index(drop=True)\n",
    "# df = df[0:50000]\n",
    "df"
   ]
  },
  {
   "cell_type": "code",
   "execution_count": 67,
   "metadata": {},
   "outputs": [],
   "source": [
    "# true = np.count_nonzero(df['label'] == 1)\n",
    "# false = len(df['label']) - true\n",
    "# plt.pie([true , false], labels= [\"TRUE\" , \"FALSE\"], autopct=\"%1.1f%%\" )\n",
    "# plt.show(block=False)"
   ]
  },
  {
   "cell_type": "code",
   "execution_count": 68,
   "metadata": {},
   "outputs": [
    {
     "data": {
      "application/vnd.plotly.v1+json": {
       "config": {
        "plotlyServerURL": "https://plot.ly"
       },
       "data": [
        {
         "domain": {
          "x": [
           0,
           1
          ],
          "y": [
           0,
           1
          ]
         },
         "hoverinfo": "label+percent",
         "hovertemplate": "label=%{label}<br>value=%{value}<extra></extra>",
         "labels": [
          0,
          1
         ],
         "legendgroup": "",
         "marker": {
          "colors": [
           "gold",
           "mediumturquoise"
          ],
          "line": {
           "color": "#000000",
           "width": 2
          }
         },
         "name": "",
         "showlegend": true,
         "textfont": {
          "size": 20
         },
         "textinfo": "percent",
         "type": "pie",
         "values": [
          72614,
          66056
         ]
        }
       ],
       "layout": {
        "font": {
         "color": "white"
        },
        "legend": {
         "tracegroupgap": 0
        },
        "margin": {
         "t": 60
        },
        "paper_bgcolor": "black",
        "template": {
         "data": {
          "bar": [
           {
            "error_x": {
             "color": "#2a3f5f"
            },
            "error_y": {
             "color": "#2a3f5f"
            },
            "marker": {
             "line": {
              "color": "#E5ECF6",
              "width": 0.5
             },
             "pattern": {
              "fillmode": "overlay",
              "size": 10,
              "solidity": 0.2
             }
            },
            "type": "bar"
           }
          ],
          "barpolar": [
           {
            "marker": {
             "line": {
              "color": "#E5ECF6",
              "width": 0.5
             },
             "pattern": {
              "fillmode": "overlay",
              "size": 10,
              "solidity": 0.2
             }
            },
            "type": "barpolar"
           }
          ],
          "carpet": [
           {
            "aaxis": {
             "endlinecolor": "#2a3f5f",
             "gridcolor": "white",
             "linecolor": "white",
             "minorgridcolor": "white",
             "startlinecolor": "#2a3f5f"
            },
            "baxis": {
             "endlinecolor": "#2a3f5f",
             "gridcolor": "white",
             "linecolor": "white",
             "minorgridcolor": "white",
             "startlinecolor": "#2a3f5f"
            },
            "type": "carpet"
           }
          ],
          "choropleth": [
           {
            "colorbar": {
             "outlinewidth": 0,
             "ticks": ""
            },
            "type": "choropleth"
           }
          ],
          "contour": [
           {
            "colorbar": {
             "outlinewidth": 0,
             "ticks": ""
            },
            "colorscale": [
             [
              0,
              "#0d0887"
             ],
             [
              0.1111111111111111,
              "#46039f"
             ],
             [
              0.2222222222222222,
              "#7201a8"
             ],
             [
              0.3333333333333333,
              "#9c179e"
             ],
             [
              0.4444444444444444,
              "#bd3786"
             ],
             [
              0.5555555555555556,
              "#d8576b"
             ],
             [
              0.6666666666666666,
              "#ed7953"
             ],
             [
              0.7777777777777778,
              "#fb9f3a"
             ],
             [
              0.8888888888888888,
              "#fdca26"
             ],
             [
              1,
              "#f0f921"
             ]
            ],
            "type": "contour"
           }
          ],
          "contourcarpet": [
           {
            "colorbar": {
             "outlinewidth": 0,
             "ticks": ""
            },
            "type": "contourcarpet"
           }
          ],
          "heatmap": [
           {
            "colorbar": {
             "outlinewidth": 0,
             "ticks": ""
            },
            "colorscale": [
             [
              0,
              "#0d0887"
             ],
             [
              0.1111111111111111,
              "#46039f"
             ],
             [
              0.2222222222222222,
              "#7201a8"
             ],
             [
              0.3333333333333333,
              "#9c179e"
             ],
             [
              0.4444444444444444,
              "#bd3786"
             ],
             [
              0.5555555555555556,
              "#d8576b"
             ],
             [
              0.6666666666666666,
              "#ed7953"
             ],
             [
              0.7777777777777778,
              "#fb9f3a"
             ],
             [
              0.8888888888888888,
              "#fdca26"
             ],
             [
              1,
              "#f0f921"
             ]
            ],
            "type": "heatmap"
           }
          ],
          "heatmapgl": [
           {
            "colorbar": {
             "outlinewidth": 0,
             "ticks": ""
            },
            "colorscale": [
             [
              0,
              "#0d0887"
             ],
             [
              0.1111111111111111,
              "#46039f"
             ],
             [
              0.2222222222222222,
              "#7201a8"
             ],
             [
              0.3333333333333333,
              "#9c179e"
             ],
             [
              0.4444444444444444,
              "#bd3786"
             ],
             [
              0.5555555555555556,
              "#d8576b"
             ],
             [
              0.6666666666666666,
              "#ed7953"
             ],
             [
              0.7777777777777778,
              "#fb9f3a"
             ],
             [
              0.8888888888888888,
              "#fdca26"
             ],
             [
              1,
              "#f0f921"
             ]
            ],
            "type": "heatmapgl"
           }
          ],
          "histogram": [
           {
            "marker": {
             "pattern": {
              "fillmode": "overlay",
              "size": 10,
              "solidity": 0.2
             }
            },
            "type": "histogram"
           }
          ],
          "histogram2d": [
           {
            "colorbar": {
             "outlinewidth": 0,
             "ticks": ""
            },
            "colorscale": [
             [
              0,
              "#0d0887"
             ],
             [
              0.1111111111111111,
              "#46039f"
             ],
             [
              0.2222222222222222,
              "#7201a8"
             ],
             [
              0.3333333333333333,
              "#9c179e"
             ],
             [
              0.4444444444444444,
              "#bd3786"
             ],
             [
              0.5555555555555556,
              "#d8576b"
             ],
             [
              0.6666666666666666,
              "#ed7953"
             ],
             [
              0.7777777777777778,
              "#fb9f3a"
             ],
             [
              0.8888888888888888,
              "#fdca26"
             ],
             [
              1,
              "#f0f921"
             ]
            ],
            "type": "histogram2d"
           }
          ],
          "histogram2dcontour": [
           {
            "colorbar": {
             "outlinewidth": 0,
             "ticks": ""
            },
            "colorscale": [
             [
              0,
              "#0d0887"
             ],
             [
              0.1111111111111111,
              "#46039f"
             ],
             [
              0.2222222222222222,
              "#7201a8"
             ],
             [
              0.3333333333333333,
              "#9c179e"
             ],
             [
              0.4444444444444444,
              "#bd3786"
             ],
             [
              0.5555555555555556,
              "#d8576b"
             ],
             [
              0.6666666666666666,
              "#ed7953"
             ],
             [
              0.7777777777777778,
              "#fb9f3a"
             ],
             [
              0.8888888888888888,
              "#fdca26"
             ],
             [
              1,
              "#f0f921"
             ]
            ],
            "type": "histogram2dcontour"
           }
          ],
          "mesh3d": [
           {
            "colorbar": {
             "outlinewidth": 0,
             "ticks": ""
            },
            "type": "mesh3d"
           }
          ],
          "parcoords": [
           {
            "line": {
             "colorbar": {
              "outlinewidth": 0,
              "ticks": ""
             }
            },
            "type": "parcoords"
           }
          ],
          "pie": [
           {
            "automargin": true,
            "type": "pie"
           }
          ],
          "scatter": [
           {
            "fillpattern": {
             "fillmode": "overlay",
             "size": 10,
             "solidity": 0.2
            },
            "type": "scatter"
           }
          ],
          "scatter3d": [
           {
            "line": {
             "colorbar": {
              "outlinewidth": 0,
              "ticks": ""
             }
            },
            "marker": {
             "colorbar": {
              "outlinewidth": 0,
              "ticks": ""
             }
            },
            "type": "scatter3d"
           }
          ],
          "scattercarpet": [
           {
            "marker": {
             "colorbar": {
              "outlinewidth": 0,
              "ticks": ""
             }
            },
            "type": "scattercarpet"
           }
          ],
          "scattergeo": [
           {
            "marker": {
             "colorbar": {
              "outlinewidth": 0,
              "ticks": ""
             }
            },
            "type": "scattergeo"
           }
          ],
          "scattergl": [
           {
            "marker": {
             "colorbar": {
              "outlinewidth": 0,
              "ticks": ""
             }
            },
            "type": "scattergl"
           }
          ],
          "scattermapbox": [
           {
            "marker": {
             "colorbar": {
              "outlinewidth": 0,
              "ticks": ""
             }
            },
            "type": "scattermapbox"
           }
          ],
          "scatterpolar": [
           {
            "marker": {
             "colorbar": {
              "outlinewidth": 0,
              "ticks": ""
             }
            },
            "type": "scatterpolar"
           }
          ],
          "scatterpolargl": [
           {
            "marker": {
             "colorbar": {
              "outlinewidth": 0,
              "ticks": ""
             }
            },
            "type": "scatterpolargl"
           }
          ],
          "scatterternary": [
           {
            "marker": {
             "colorbar": {
              "outlinewidth": 0,
              "ticks": ""
             }
            },
            "type": "scatterternary"
           }
          ],
          "surface": [
           {
            "colorbar": {
             "outlinewidth": 0,
             "ticks": ""
            },
            "colorscale": [
             [
              0,
              "#0d0887"
             ],
             [
              0.1111111111111111,
              "#46039f"
             ],
             [
              0.2222222222222222,
              "#7201a8"
             ],
             [
              0.3333333333333333,
              "#9c179e"
             ],
             [
              0.4444444444444444,
              "#bd3786"
             ],
             [
              0.5555555555555556,
              "#d8576b"
             ],
             [
              0.6666666666666666,
              "#ed7953"
             ],
             [
              0.7777777777777778,
              "#fb9f3a"
             ],
             [
              0.8888888888888888,
              "#fdca26"
             ],
             [
              1,
              "#f0f921"
             ]
            ],
            "type": "surface"
           }
          ],
          "table": [
           {
            "cells": {
             "fill": {
              "color": "#EBF0F8"
             },
             "line": {
              "color": "white"
             }
            },
            "header": {
             "fill": {
              "color": "#C8D4E3"
             },
             "line": {
              "color": "white"
             }
            },
            "type": "table"
           }
          ]
         },
         "layout": {
          "annotationdefaults": {
           "arrowcolor": "#2a3f5f",
           "arrowhead": 0,
           "arrowwidth": 1
          },
          "autotypenumbers": "strict",
          "coloraxis": {
           "colorbar": {
            "outlinewidth": 0,
            "ticks": ""
           }
          },
          "colorscale": {
           "diverging": [
            [
             0,
             "#8e0152"
            ],
            [
             0.1,
             "#c51b7d"
            ],
            [
             0.2,
             "#de77ae"
            ],
            [
             0.3,
             "#f1b6da"
            ],
            [
             0.4,
             "#fde0ef"
            ],
            [
             0.5,
             "#f7f7f7"
            ],
            [
             0.6,
             "#e6f5d0"
            ],
            [
             0.7,
             "#b8e186"
            ],
            [
             0.8,
             "#7fbc41"
            ],
            [
             0.9,
             "#4d9221"
            ],
            [
             1,
             "#276419"
            ]
           ],
           "sequential": [
            [
             0,
             "#0d0887"
            ],
            [
             0.1111111111111111,
             "#46039f"
            ],
            [
             0.2222222222222222,
             "#7201a8"
            ],
            [
             0.3333333333333333,
             "#9c179e"
            ],
            [
             0.4444444444444444,
             "#bd3786"
            ],
            [
             0.5555555555555556,
             "#d8576b"
            ],
            [
             0.6666666666666666,
             "#ed7953"
            ],
            [
             0.7777777777777778,
             "#fb9f3a"
            ],
            [
             0.8888888888888888,
             "#fdca26"
            ],
            [
             1,
             "#f0f921"
            ]
           ],
           "sequentialminus": [
            [
             0,
             "#0d0887"
            ],
            [
             0.1111111111111111,
             "#46039f"
            ],
            [
             0.2222222222222222,
             "#7201a8"
            ],
            [
             0.3333333333333333,
             "#9c179e"
            ],
            [
             0.4444444444444444,
             "#bd3786"
            ],
            [
             0.5555555555555556,
             "#d8576b"
            ],
            [
             0.6666666666666666,
             "#ed7953"
            ],
            [
             0.7777777777777778,
             "#fb9f3a"
            ],
            [
             0.8888888888888888,
             "#fdca26"
            ],
            [
             1,
             "#f0f921"
            ]
           ]
          },
          "colorway": [
           "#636efa",
           "#EF553B",
           "#00cc96",
           "#ab63fa",
           "#FFA15A",
           "#19d3f3",
           "#FF6692",
           "#B6E880",
           "#FF97FF",
           "#FECB52"
          ],
          "font": {
           "color": "#2a3f5f"
          },
          "geo": {
           "bgcolor": "white",
           "lakecolor": "white",
           "landcolor": "#E5ECF6",
           "showlakes": true,
           "showland": true,
           "subunitcolor": "white"
          },
          "hoverlabel": {
           "align": "left"
          },
          "hovermode": "closest",
          "mapbox": {
           "style": "light"
          },
          "paper_bgcolor": "white",
          "plot_bgcolor": "#E5ECF6",
          "polar": {
           "angularaxis": {
            "gridcolor": "white",
            "linecolor": "white",
            "ticks": ""
           },
           "bgcolor": "#E5ECF6",
           "radialaxis": {
            "gridcolor": "white",
            "linecolor": "white",
            "ticks": ""
           }
          },
          "scene": {
           "xaxis": {
            "backgroundcolor": "#E5ECF6",
            "gridcolor": "white",
            "gridwidth": 2,
            "linecolor": "white",
            "showbackground": true,
            "ticks": "",
            "zerolinecolor": "white"
           },
           "yaxis": {
            "backgroundcolor": "#E5ECF6",
            "gridcolor": "white",
            "gridwidth": 2,
            "linecolor": "white",
            "showbackground": true,
            "ticks": "",
            "zerolinecolor": "white"
           },
           "zaxis": {
            "backgroundcolor": "#E5ECF6",
            "gridcolor": "white",
            "gridwidth": 2,
            "linecolor": "white",
            "showbackground": true,
            "ticks": "",
            "zerolinecolor": "white"
           }
          },
          "shapedefaults": {
           "line": {
            "color": "#2a3f5f"
           }
          },
          "ternary": {
           "aaxis": {
            "gridcolor": "white",
            "linecolor": "white",
            "ticks": ""
           },
           "baxis": {
            "gridcolor": "white",
            "linecolor": "white",
            "ticks": ""
           },
           "bgcolor": "#E5ECF6",
           "caxis": {
            "gridcolor": "white",
            "linecolor": "white",
            "ticks": ""
           }
          },
          "title": {
           "x": 0.05
          },
          "xaxis": {
           "automargin": true,
           "gridcolor": "white",
           "linecolor": "white",
           "ticks": "",
           "title": {
            "standoff": 15
           },
           "zerolinecolor": "white",
           "zerolinewidth": 2
          },
          "yaxis": {
           "automargin": true,
           "gridcolor": "white",
           "linecolor": "white",
           "ticks": "",
           "title": {
            "standoff": 15
           },
           "zerolinecolor": "white",
           "zerolinewidth": 2
          }
         }
        },
        "title": {
         "font": {
          "color": "white"
         },
         "text": "Label column"
        }
       }
      },
      "text/html": [
       "<div>                            <div id=\"ddbd02b2-b974-4d4a-882a-9afef5c8e38d\" class=\"plotly-graph-div\" style=\"height:525px; width:100%;\"></div>            <script type=\"text/javascript\">                require([\"plotly\"], function(Plotly) {                    window.PLOTLYENV=window.PLOTLYENV || {};                                    if (document.getElementById(\"ddbd02b2-b974-4d4a-882a-9afef5c8e38d\")) {                    Plotly.newPlot(                        \"ddbd02b2-b974-4d4a-882a-9afef5c8e38d\",                        [{\"domain\":{\"x\":[0.0,1.0],\"y\":[0.0,1.0]},\"hovertemplate\":\"label=%{label}<br>value=%{value}<extra></extra>\",\"labels\":[0,1],\"legendgroup\":\"\",\"name\":\"\",\"showlegend\":true,\"values\":[72614,66056],\"type\":\"pie\",\"textfont\":{\"size\":20},\"marker\":{\"line\":{\"color\":\"#000000\",\"width\":2},\"colors\":[\"gold\",\"mediumturquoise\"]},\"hoverinfo\":\"label+percent\",\"textinfo\":\"percent\"}],                        {\"template\":{\"data\":{\"histogram2dcontour\":[{\"type\":\"histogram2dcontour\",\"colorbar\":{\"outlinewidth\":0,\"ticks\":\"\"},\"colorscale\":[[0.0,\"#0d0887\"],[0.1111111111111111,\"#46039f\"],[0.2222222222222222,\"#7201a8\"],[0.3333333333333333,\"#9c179e\"],[0.4444444444444444,\"#bd3786\"],[0.5555555555555556,\"#d8576b\"],[0.6666666666666666,\"#ed7953\"],[0.7777777777777778,\"#fb9f3a\"],[0.8888888888888888,\"#fdca26\"],[1.0,\"#f0f921\"]]}],\"choropleth\":[{\"type\":\"choropleth\",\"colorbar\":{\"outlinewidth\":0,\"ticks\":\"\"}}],\"histogram2d\":[{\"type\":\"histogram2d\",\"colorbar\":{\"outlinewidth\":0,\"ticks\":\"\"},\"colorscale\":[[0.0,\"#0d0887\"],[0.1111111111111111,\"#46039f\"],[0.2222222222222222,\"#7201a8\"],[0.3333333333333333,\"#9c179e\"],[0.4444444444444444,\"#bd3786\"],[0.5555555555555556,\"#d8576b\"],[0.6666666666666666,\"#ed7953\"],[0.7777777777777778,\"#fb9f3a\"],[0.8888888888888888,\"#fdca26\"],[1.0,\"#f0f921\"]]}],\"heatmap\":[{\"type\":\"heatmap\",\"colorbar\":{\"outlinewidth\":0,\"ticks\":\"\"},\"colorscale\":[[0.0,\"#0d0887\"],[0.1111111111111111,\"#46039f\"],[0.2222222222222222,\"#7201a8\"],[0.3333333333333333,\"#9c179e\"],[0.4444444444444444,\"#bd3786\"],[0.5555555555555556,\"#d8576b\"],[0.6666666666666666,\"#ed7953\"],[0.7777777777777778,\"#fb9f3a\"],[0.8888888888888888,\"#fdca26\"],[1.0,\"#f0f921\"]]}],\"heatmapgl\":[{\"type\":\"heatmapgl\",\"colorbar\":{\"outlinewidth\":0,\"ticks\":\"\"},\"colorscale\":[[0.0,\"#0d0887\"],[0.1111111111111111,\"#46039f\"],[0.2222222222222222,\"#7201a8\"],[0.3333333333333333,\"#9c179e\"],[0.4444444444444444,\"#bd3786\"],[0.5555555555555556,\"#d8576b\"],[0.6666666666666666,\"#ed7953\"],[0.7777777777777778,\"#fb9f3a\"],[0.8888888888888888,\"#fdca26\"],[1.0,\"#f0f921\"]]}],\"contourcarpet\":[{\"type\":\"contourcarpet\",\"colorbar\":{\"outlinewidth\":0,\"ticks\":\"\"}}],\"contour\":[{\"type\":\"contour\",\"colorbar\":{\"outlinewidth\":0,\"ticks\":\"\"},\"colorscale\":[[0.0,\"#0d0887\"],[0.1111111111111111,\"#46039f\"],[0.2222222222222222,\"#7201a8\"],[0.3333333333333333,\"#9c179e\"],[0.4444444444444444,\"#bd3786\"],[0.5555555555555556,\"#d8576b\"],[0.6666666666666666,\"#ed7953\"],[0.7777777777777778,\"#fb9f3a\"],[0.8888888888888888,\"#fdca26\"],[1.0,\"#f0f921\"]]}],\"surface\":[{\"type\":\"surface\",\"colorbar\":{\"outlinewidth\":0,\"ticks\":\"\"},\"colorscale\":[[0.0,\"#0d0887\"],[0.1111111111111111,\"#46039f\"],[0.2222222222222222,\"#7201a8\"],[0.3333333333333333,\"#9c179e\"],[0.4444444444444444,\"#bd3786\"],[0.5555555555555556,\"#d8576b\"],[0.6666666666666666,\"#ed7953\"],[0.7777777777777778,\"#fb9f3a\"],[0.8888888888888888,\"#fdca26\"],[1.0,\"#f0f921\"]]}],\"mesh3d\":[{\"type\":\"mesh3d\",\"colorbar\":{\"outlinewidth\":0,\"ticks\":\"\"}}],\"scatter\":[{\"fillpattern\":{\"fillmode\":\"overlay\",\"size\":10,\"solidity\":0.2},\"type\":\"scatter\"}],\"parcoords\":[{\"type\":\"parcoords\",\"line\":{\"colorbar\":{\"outlinewidth\":0,\"ticks\":\"\"}}}],\"scatterpolargl\":[{\"type\":\"scatterpolargl\",\"marker\":{\"colorbar\":{\"outlinewidth\":0,\"ticks\":\"\"}}}],\"bar\":[{\"error_x\":{\"color\":\"#2a3f5f\"},\"error_y\":{\"color\":\"#2a3f5f\"},\"marker\":{\"line\":{\"color\":\"#E5ECF6\",\"width\":0.5},\"pattern\":{\"fillmode\":\"overlay\",\"size\":10,\"solidity\":0.2}},\"type\":\"bar\"}],\"scattergeo\":[{\"type\":\"scattergeo\",\"marker\":{\"colorbar\":{\"outlinewidth\":0,\"ticks\":\"\"}}}],\"scatterpolar\":[{\"type\":\"scatterpolar\",\"marker\":{\"colorbar\":{\"outlinewidth\":0,\"ticks\":\"\"}}}],\"histogram\":[{\"marker\":{\"pattern\":{\"fillmode\":\"overlay\",\"size\":10,\"solidity\":0.2}},\"type\":\"histogram\"}],\"scattergl\":[{\"type\":\"scattergl\",\"marker\":{\"colorbar\":{\"outlinewidth\":0,\"ticks\":\"\"}}}],\"scatter3d\":[{\"type\":\"scatter3d\",\"line\":{\"colorbar\":{\"outlinewidth\":0,\"ticks\":\"\"}},\"marker\":{\"colorbar\":{\"outlinewidth\":0,\"ticks\":\"\"}}}],\"scattermapbox\":[{\"type\":\"scattermapbox\",\"marker\":{\"colorbar\":{\"outlinewidth\":0,\"ticks\":\"\"}}}],\"scatterternary\":[{\"type\":\"scatterternary\",\"marker\":{\"colorbar\":{\"outlinewidth\":0,\"ticks\":\"\"}}}],\"scattercarpet\":[{\"type\":\"scattercarpet\",\"marker\":{\"colorbar\":{\"outlinewidth\":0,\"ticks\":\"\"}}}],\"carpet\":[{\"aaxis\":{\"endlinecolor\":\"#2a3f5f\",\"gridcolor\":\"white\",\"linecolor\":\"white\",\"minorgridcolor\":\"white\",\"startlinecolor\":\"#2a3f5f\"},\"baxis\":{\"endlinecolor\":\"#2a3f5f\",\"gridcolor\":\"white\",\"linecolor\":\"white\",\"minorgridcolor\":\"white\",\"startlinecolor\":\"#2a3f5f\"},\"type\":\"carpet\"}],\"table\":[{\"cells\":{\"fill\":{\"color\":\"#EBF0F8\"},\"line\":{\"color\":\"white\"}},\"header\":{\"fill\":{\"color\":\"#C8D4E3\"},\"line\":{\"color\":\"white\"}},\"type\":\"table\"}],\"barpolar\":[{\"marker\":{\"line\":{\"color\":\"#E5ECF6\",\"width\":0.5},\"pattern\":{\"fillmode\":\"overlay\",\"size\":10,\"solidity\":0.2}},\"type\":\"barpolar\"}],\"pie\":[{\"automargin\":true,\"type\":\"pie\"}]},\"layout\":{\"autotypenumbers\":\"strict\",\"colorway\":[\"#636efa\",\"#EF553B\",\"#00cc96\",\"#ab63fa\",\"#FFA15A\",\"#19d3f3\",\"#FF6692\",\"#B6E880\",\"#FF97FF\",\"#FECB52\"],\"font\":{\"color\":\"#2a3f5f\"},\"hovermode\":\"closest\",\"hoverlabel\":{\"align\":\"left\"},\"paper_bgcolor\":\"white\",\"plot_bgcolor\":\"#E5ECF6\",\"polar\":{\"bgcolor\":\"#E5ECF6\",\"angularaxis\":{\"gridcolor\":\"white\",\"linecolor\":\"white\",\"ticks\":\"\"},\"radialaxis\":{\"gridcolor\":\"white\",\"linecolor\":\"white\",\"ticks\":\"\"}},\"ternary\":{\"bgcolor\":\"#E5ECF6\",\"aaxis\":{\"gridcolor\":\"white\",\"linecolor\":\"white\",\"ticks\":\"\"},\"baxis\":{\"gridcolor\":\"white\",\"linecolor\":\"white\",\"ticks\":\"\"},\"caxis\":{\"gridcolor\":\"white\",\"linecolor\":\"white\",\"ticks\":\"\"}},\"coloraxis\":{\"colorbar\":{\"outlinewidth\":0,\"ticks\":\"\"}},\"colorscale\":{\"sequential\":[[0.0,\"#0d0887\"],[0.1111111111111111,\"#46039f\"],[0.2222222222222222,\"#7201a8\"],[0.3333333333333333,\"#9c179e\"],[0.4444444444444444,\"#bd3786\"],[0.5555555555555556,\"#d8576b\"],[0.6666666666666666,\"#ed7953\"],[0.7777777777777778,\"#fb9f3a\"],[0.8888888888888888,\"#fdca26\"],[1.0,\"#f0f921\"]],\"sequentialminus\":[[0.0,\"#0d0887\"],[0.1111111111111111,\"#46039f\"],[0.2222222222222222,\"#7201a8\"],[0.3333333333333333,\"#9c179e\"],[0.4444444444444444,\"#bd3786\"],[0.5555555555555556,\"#d8576b\"],[0.6666666666666666,\"#ed7953\"],[0.7777777777777778,\"#fb9f3a\"],[0.8888888888888888,\"#fdca26\"],[1.0,\"#f0f921\"]],\"diverging\":[[0,\"#8e0152\"],[0.1,\"#c51b7d\"],[0.2,\"#de77ae\"],[0.3,\"#f1b6da\"],[0.4,\"#fde0ef\"],[0.5,\"#f7f7f7\"],[0.6,\"#e6f5d0\"],[0.7,\"#b8e186\"],[0.8,\"#7fbc41\"],[0.9,\"#4d9221\"],[1,\"#276419\"]]},\"xaxis\":{\"gridcolor\":\"white\",\"linecolor\":\"white\",\"ticks\":\"\",\"title\":{\"standoff\":15},\"zerolinecolor\":\"white\",\"automargin\":true,\"zerolinewidth\":2},\"yaxis\":{\"gridcolor\":\"white\",\"linecolor\":\"white\",\"ticks\":\"\",\"title\":{\"standoff\":15},\"zerolinecolor\":\"white\",\"automargin\":true,\"zerolinewidth\":2},\"scene\":{\"xaxis\":{\"backgroundcolor\":\"#E5ECF6\",\"gridcolor\":\"white\",\"linecolor\":\"white\",\"showbackground\":true,\"ticks\":\"\",\"zerolinecolor\":\"white\",\"gridwidth\":2},\"yaxis\":{\"backgroundcolor\":\"#E5ECF6\",\"gridcolor\":\"white\",\"linecolor\":\"white\",\"showbackground\":true,\"ticks\":\"\",\"zerolinecolor\":\"white\",\"gridwidth\":2},\"zaxis\":{\"backgroundcolor\":\"#E5ECF6\",\"gridcolor\":\"white\",\"linecolor\":\"white\",\"showbackground\":true,\"ticks\":\"\",\"zerolinecolor\":\"white\",\"gridwidth\":2}},\"shapedefaults\":{\"line\":{\"color\":\"#2a3f5f\"}},\"annotationdefaults\":{\"arrowcolor\":\"#2a3f5f\",\"arrowhead\":0,\"arrowwidth\":1},\"geo\":{\"bgcolor\":\"white\",\"landcolor\":\"#E5ECF6\",\"subunitcolor\":\"white\",\"showland\":true,\"showlakes\":true,\"lakecolor\":\"white\"},\"title\":{\"x\":0.05},\"mapbox\":{\"style\":\"light\"}}},\"legend\":{\"tracegroupgap\":0},\"margin\":{\"t\":60},\"title\":{\"font\":{\"color\":\"white\"},\"text\":\"Label column\"},\"font\":{\"color\":\"white\"},\"paper_bgcolor\":\"black\"},                        {\"responsive\": true}                    ).then(function(){\n",
       "                            \n",
       "var gd = document.getElementById('ddbd02b2-b974-4d4a-882a-9afef5c8e38d');\n",
       "var x = new MutationObserver(function (mutations, observer) {{\n",
       "        var display = window.getComputedStyle(gd).display;\n",
       "        if (!display || display === 'none') {{\n",
       "            console.log([gd, 'removed!']);\n",
       "            Plotly.purge(gd);\n",
       "            observer.disconnect();\n",
       "        }}\n",
       "}});\n",
       "\n",
       "// Listen for the removal of the full notebook cells\n",
       "var notebookContainer = gd.closest('#notebook-container');\n",
       "if (notebookContainer) {{\n",
       "    x.observe(notebookContainer, {childList: true});\n",
       "}}\n",
       "\n",
       "// Listen for the clearing of the current output cell\n",
       "var outputEl = gd.closest('.output');\n",
       "if (outputEl) {{\n",
       "    x.observe(outputEl, {childList: true});\n",
       "}}\n",
       "\n",
       "                        })                };                });            </script>        </div>"
      ]
     },
     "metadata": {},
     "output_type": "display_data"
    }
   ],
   "source": [
    "import plotly.express as px\n",
    "# Count the occurrences of 0 and 1 in the 'label' column\n",
    "label_counts = df['label'].value_counts()\n",
    "# Extract the actual values (0 and 1) as a list\n",
    "label_values = label_counts.index.to_list()\n",
    "# Extract the counts (occurrences) as a list\n",
    "value_counts = label_counts.to_list()\n",
    "# Create the pie chart\n",
    "fig = px.pie(values=value_counts, names=label_values)\n",
    "fig.update_traces(hoverinfo='label+percent',\n",
    "                  textinfo='percent', \n",
    "                  textfont_size=20,\n",
    "                  marker=dict(colors=['gold', 'mediumturquoise'], \n",
    "                              line=dict(color='#000000', width=2)))\n",
    "fig.update_layout(\n",
    "    title_text=\"Label column\",\n",
    "    title_font_color=\"white\",\n",
    "    paper_bgcolor=\"black\",\n",
    "    font_color=\"white\") \n",
    "# Add data labels with percentages (optional)\n",
    "# fig.update_traces(textposition='inside', textinfo='percent+n')  # Adjust position and content\n",
    "fig.show()"
   ]
  },
  {
   "cell_type": "markdown",
   "metadata": {
    "id": "gKFisU-OyP2Q"
   },
   "source": [
    "# Data preprocssing"
   ]
  },
  {
   "cell_type": "code",
   "execution_count": 69,
   "metadata": {
    "id": "zMbR2Z6JTfFU"
   },
   "outputs": [
    {
     "data": {
      "text/html": [
       "<div>\n",
       "<style scoped>\n",
       "    .dataframe tbody tr th:only-of-type {\n",
       "        vertical-align: middle;\n",
       "    }\n",
       "\n",
       "    .dataframe tbody tr th {\n",
       "        vertical-align: top;\n",
       "    }\n",
       "\n",
       "    .dataframe thead th {\n",
       "        text-align: right;\n",
       "    }\n",
       "</style>\n",
       "<table border=\"1\" class=\"dataframe\">\n",
       "  <thead>\n",
       "    <tr style=\"text-align: right;\">\n",
       "      <th></th>\n",
       "      <th>text</th>\n",
       "      <th>label</th>\n",
       "    </tr>\n",
       "  </thead>\n",
       "  <tbody>\n",
       "    <tr>\n",
       "      <th>0</th>\n",
       "      <td>u air strike afghanistan increase sun oct pm u...</td>\n",
       "      <td>1</td>\n",
       "    </tr>\n",
       "    <tr>\n",
       "      <th>1</th>\n",
       "      <td>senate republican leader obama politicize supr...</td>\n",
       "      <td>1</td>\n",
       "    </tr>\n",
       "    <tr>\n",
       "      <th>2</th>\n",
       "      <td>tunis reuters tunisian navy arrested 550 tunis...</td>\n",
       "      <td>1</td>\n",
       "    </tr>\n",
       "    <tr>\n",
       "      <th>3</th>\n",
       "      <td>donald trump conservative medium pushing consp...</td>\n",
       "      <td>0</td>\n",
       "    </tr>\n",
       "    <tr>\n",
       "      <th>4</th>\n",
       "      <td>senator graham agrees putin north korea sancti...</td>\n",
       "      <td>1</td>\n",
       "    </tr>\n",
       "    <tr>\n",
       "      <th>...</th>\n",
       "      <td>...</td>\n",
       "      <td>...</td>\n",
       "    </tr>\n",
       "    <tr>\n",
       "      <th>138665</th>\n",
       "      <td>word deemed offensive offensive white racist p...</td>\n",
       "      <td>0</td>\n",
       "    </tr>\n",
       "    <tr>\n",
       "      <th>138666</th>\n",
       "      <td>president donald trump fumed federal judge haw...</td>\n",
       "      <td>0</td>\n",
       "    </tr>\n",
       "    <tr>\n",
       "      <th>138667</th>\n",
       "      <td>monday broadcast fox news channel tucker carls...</td>\n",
       "      <td>0</td>\n",
       "    </tr>\n",
       "    <tr>\n",
       "      <th>138668</th>\n",
       "      <td>ton tards continue laugh tongue consumed still...</td>\n",
       "      <td>0</td>\n",
       "    </tr>\n",
       "    <tr>\n",
       "      <th>138669</th>\n",
       "      <td>washington reuters u house representative spea...</td>\n",
       "      <td>1</td>\n",
       "    </tr>\n",
       "  </tbody>\n",
       "</table>\n",
       "<p>138670 rows × 2 columns</p>\n",
       "</div>"
      ],
      "text/plain": [
       "                                                     text  label\n",
       "0       u air strike afghanistan increase sun oct pm u...      1\n",
       "1       senate republican leader obama politicize supr...      1\n",
       "2       tunis reuters tunisian navy arrested 550 tunis...      1\n",
       "3       donald trump conservative medium pushing consp...      0\n",
       "4       senator graham agrees putin north korea sancti...      1\n",
       "...                                                   ...    ...\n",
       "138665  word deemed offensive offensive white racist p...      0\n",
       "138666  president donald trump fumed federal judge haw...      0\n",
       "138667  monday broadcast fox news channel tucker carls...      0\n",
       "138668  ton tards continue laugh tongue consumed still...      0\n",
       "138669  washington reuters u house representative spea...      1\n",
       "\n",
       "[138670 rows x 2 columns]"
      ]
     },
     "execution_count": 69,
     "metadata": {},
     "output_type": "execute_result"
    }
   ],
   "source": [
    "df[\"text\"] = df[\"text\"].apply(preprocess_text)\n",
    "df"
   ]
  },
  {
   "cell_type": "code",
   "execution_count": 70,
   "metadata": {},
   "outputs": [],
   "source": [
    "# df.to_csv(\"C:\\\\Users\\\\alihi\\\\Desktop\\\\Programming\\\\df_processed.csv\", index=False)"
   ]
  },
  {
   "cell_type": "code",
   "execution_count": 71,
   "metadata": {},
   "outputs": [
    {
     "name": "stdout",
     "output_type": "stream",
     "text": [
      "138670\n",
      "138670\n"
     ]
    }
   ],
   "source": [
    "print(len(df[\"text\"]))\n",
    "print(len(df['label']))"
   ]
  },
  {
   "cell_type": "code",
   "execution_count": 72,
   "metadata": {},
   "outputs": [],
   "source": [
    "# print(newdf.iloc[9,:])\n",
    "# #newdf['label'] = pd.to_numeric(newdf['label'], errors='coerce')\n",
    "# #newdf.iloc[9,:]\n",
    "# newdf = newdf.dropna()\n",
    "# print(newdf.iloc[9,:])"
   ]
  },
  {
   "cell_type": "markdown",
   "metadata": {},
   "source": [
    "# Spliting to training set and test set"
   ]
  },
  {
   "cell_type": "code",
   "execution_count": 73,
   "metadata": {},
   "outputs": [],
   "source": [
    "x_train , x_test , y_train , y_test = train_test_split(df['text'],df['label'],test_size=0.2 , shuffle=False)"
   ]
  },
  {
   "cell_type": "code",
   "execution_count": 74,
   "metadata": {},
   "outputs": [
    {
     "data": {
      "text/html": [
       "<div>\n",
       "<style scoped>\n",
       "    .dataframe tbody tr th:only-of-type {\n",
       "        vertical-align: middle;\n",
       "    }\n",
       "\n",
       "    .dataframe tbody tr th {\n",
       "        vertical-align: top;\n",
       "    }\n",
       "\n",
       "    .dataframe thead th {\n",
       "        text-align: right;\n",
       "    }\n",
       "</style>\n",
       "<table border=\"1\" class=\"dataframe\">\n",
       "  <thead>\n",
       "    <tr style=\"text-align: right;\">\n",
       "      <th></th>\n",
       "      <th>text</th>\n",
       "      <th>label</th>\n",
       "    </tr>\n",
       "  </thead>\n",
       "  <tbody>\n",
       "    <tr>\n",
       "      <th>0</th>\n",
       "      <td>u air strike afghanistan increase sun oct pm u...</td>\n",
       "      <td>1</td>\n",
       "    </tr>\n",
       "    <tr>\n",
       "      <th>1</th>\n",
       "      <td>senate republican leader obama politicize supr...</td>\n",
       "      <td>1</td>\n",
       "    </tr>\n",
       "    <tr>\n",
       "      <th>2</th>\n",
       "      <td>tunis reuters tunisian navy arrested 550 tunis...</td>\n",
       "      <td>1</td>\n",
       "    </tr>\n",
       "    <tr>\n",
       "      <th>3</th>\n",
       "      <td>donald trump conservative medium pushing consp...</td>\n",
       "      <td>0</td>\n",
       "    </tr>\n",
       "    <tr>\n",
       "      <th>4</th>\n",
       "      <td>senator graham agrees putin north korea sancti...</td>\n",
       "      <td>1</td>\n",
       "    </tr>\n",
       "    <tr>\n",
       "      <th>5</th>\n",
       "      <td>store guardian front page 16yearold migrant cr...</td>\n",
       "      <td>1</td>\n",
       "    </tr>\n",
       "    <tr>\n",
       "      <th>6</th>\n",
       "      <td>iraq relocate hundred foreign wife child suspe...</td>\n",
       "      <td>1</td>\n",
       "    </tr>\n",
       "    <tr>\n",
       "      <th>7</th>\n",
       "      <td>email increasing symbiosis political leading m...</td>\n",
       "      <td>1</td>\n",
       "    </tr>\n",
       "    <tr>\n",
       "      <th>8</th>\n",
       "      <td>mike situation sorrentino thanked jersey shore...</td>\n",
       "      <td>0</td>\n",
       "    </tr>\n",
       "    <tr>\n",
       "      <th>9</th>\n",
       "      <td>never underestimate impact single person last ...</td>\n",
       "      <td>0</td>\n",
       "    </tr>\n",
       "  </tbody>\n",
       "</table>\n",
       "</div>"
      ],
      "text/plain": [
       "                                                text  label\n",
       "0  u air strike afghanistan increase sun oct pm u...      1\n",
       "1  senate republican leader obama politicize supr...      1\n",
       "2  tunis reuters tunisian navy arrested 550 tunis...      1\n",
       "3  donald trump conservative medium pushing consp...      0\n",
       "4  senator graham agrees putin north korea sancti...      1\n",
       "5  store guardian front page 16yearold migrant cr...      1\n",
       "6  iraq relocate hundred foreign wife child suspe...      1\n",
       "7  email increasing symbiosis political leading m...      1\n",
       "8  mike situation sorrentino thanked jersey shore...      0\n",
       "9  never underestimate impact single person last ...      0"
      ]
     },
     "execution_count": 74,
     "metadata": {},
     "output_type": "execute_result"
    }
   ],
   "source": [
    "df.head(10)"
   ]
  },
  {
   "cell_type": "code",
   "execution_count": 75,
   "metadata": {},
   "outputs": [
    {
     "data": {
      "text/plain": [
       "0    u air strike afghanistan increase sun oct pm u...\n",
       "1    senate republican leader obama politicize supr...\n",
       "2    tunis reuters tunisian navy arrested 550 tunis...\n",
       "3    donald trump conservative medium pushing consp...\n",
       "4    senator graham agrees putin north korea sancti...\n",
       "5    store guardian front page 16yearold migrant cr...\n",
       "6    iraq relocate hundred foreign wife child suspe...\n",
       "7    email increasing symbiosis political leading m...\n",
       "8    mike situation sorrentino thanked jersey shore...\n",
       "9    never underestimate impact single person last ...\n",
       "Name: text, dtype: object"
      ]
     },
     "execution_count": 75,
     "metadata": {},
     "output_type": "execute_result"
    }
   ],
   "source": [
    "x_train.head(10)"
   ]
  },
  {
   "cell_type": "code",
   "execution_count": 76,
   "metadata": {},
   "outputs": [
    {
     "data": {
      "text/plain": [
       "0    1\n",
       "1    1\n",
       "2    1\n",
       "3    0\n",
       "4    1\n",
       "5    1\n",
       "6    1\n",
       "7    1\n",
       "8    0\n",
       "9    0\n",
       "Name: label, dtype: int32"
      ]
     },
     "execution_count": 76,
     "metadata": {},
     "output_type": "execute_result"
    }
   ],
   "source": [
    "y_train.head(10)"
   ]
  },
  {
   "cell_type": "markdown",
   "metadata": {},
   "source": [
    "# TF-IDF"
   ]
  },
  {
   "cell_type": "code",
   "execution_count": 77,
   "metadata": {},
   "outputs": [],
   "source": [
    "t1 = TfidfVectorizer()\n",
    "t2 = TfidfVectorizer()\n",
    "\n",
    "x_train_new_text_matrix = t1.fit_transform(x_train)\n",
    "x_test_new_text_matrix = t2.fit_transform(x_test)"
   ]
  },
  {
   "cell_type": "code",
   "execution_count": 78,
   "metadata": {},
   "outputs": [
    {
     "data": {
      "text/plain": [
       "0         u air strike afghanistan increase sun oct pm u...\n",
       "1         senate republican leader obama politicize supr...\n",
       "2         tunis reuters tunisian navy arrested 550 tunis...\n",
       "3         donald trump conservative medium pushing consp...\n",
       "4         senator graham agrees putin north korea sancti...\n",
       "                                ...                        \n",
       "110931    reuters new york time co increase spending cov...\n",
       "110932    cruz gain online bet trump still republican fa...\n",
       "110933    terrorist attack killed 49 wounded 53 orlando ...\n",
       "110934    detroit terrible school unconstitutional geoff...\n",
       "110935    washington reuters senior trump administration...\n",
       "Name: text, Length: 110936, dtype: object"
      ]
     },
     "execution_count": 78,
     "metadata": {},
     "output_type": "execute_result"
    }
   ],
   "source": [
    "x_train"
   ]
  },
  {
   "cell_type": "code",
   "execution_count": 79,
   "metadata": {},
   "outputs": [
    {
     "name": "stdout",
     "output_type": "stream",
     "text": [
      "  (0, 185235)\t0.1856189252279844\n",
      "  (0, 123359)\t0.07823018389893932\n",
      "  (0, 306088)\t0.0697746922787704\n",
      "  (0, 349186)\t0.07864356233109247\n",
      "  (0, 136966)\t0.06900670175211888\n",
      "  (0, 314554)\t0.1297491656271809\n",
      "  (0, 119731)\t0.08948641050072435\n",
      "  (0, 81600)\t0.06047778286019309\n",
      "  (0, 47353)\t0.08034303487053765\n",
      "  (0, 150326)\t0.08178125599250623\n",
      "  (0, 23856)\t0.1657701380356941\n",
      "  (0, 353806)\t0.05094571628441886\n",
      "  (0, 178561)\t0.05829191515963804\n",
      "  (0, 76064)\t0.13893795165564468\n",
      "  (0, 233433)\t0.08486814283312229\n",
      "  (0, 289403)\t0.06800534099858067\n",
      "  (0, 119814)\t0.10400754770720065\n",
      "  (0, 260334)\t0.15126988080411785\n",
      "  (0, 77141)\t0.14190805931698466\n",
      "  (0, 30225)\t0.07565569708083911\n",
      "  (0, 89862)\t0.1328933387395471\n",
      "  (0, 221679)\t0.13837414370957093\n",
      "  (0, 200032)\t0.08638689036749964\n",
      "  (0, 219096)\t0.08091819703699259\n",
      "  (0, 168878)\t0.19103995042023514\n",
      "  :\t:\n",
      "  (110935, 325899)\t0.09569474951651218\n",
      "  (110935, 99103)\t0.015205576988920699\n",
      "  (110935, 107897)\t0.01992597341110392\n",
      "  (110935, 314308)\t0.04954695062693541\n",
      "  (110935, 283364)\t0.0238446560054659\n",
      "  (110935, 199577)\t0.02197970641261058\n",
      "  (110935, 213519)\t0.0202128055507581\n",
      "  (110935, 285190)\t0.02484214296734018\n",
      "  (110935, 22496)\t0.027355961523316076\n",
      "  (110935, 181681)\t0.02258010209945844\n",
      "  (110935, 162097)\t0.019604809088470114\n",
      "  (110935, 319574)\t0.013618332650902096\n",
      "  (110935, 158384)\t0.02434448011022677\n",
      "  (110935, 225075)\t0.021971717924363584\n",
      "  (110935, 283826)\t0.03440870948358078\n",
      "  (110935, 257696)\t0.0200556479027013\n",
      "  (110935, 251821)\t0.026855565533558813\n",
      "  (110935, 269915)\t0.015950691215715882\n",
      "  (110935, 343258)\t0.01835394905822671\n",
      "  (110935, 267958)\t0.03546450327587606\n",
      "  (110935, 306088)\t0.01865803437137583\n",
      "  (110935, 136966)\t0.018452670604440027\n",
      "  (110935, 81600)\t0.032344006528952106\n",
      "  (110935, 221679)\t0.0185009022979841\n",
      "  (110935, 155832)\t0.026785221414582852\n"
     ]
    }
   ],
   "source": [
    "print(x_train_new_text_matrix)"
   ]
  },
  {
   "cell_type": "code",
   "execution_count": 82,
   "metadata": {},
   "outputs": [
    {
     "data": {
      "text/plain": [
       "{'air': 25641,\n",
       " 'strike': 303138,\n",
       " 'afghanistan': 23863,\n",
       " 'increase': 155832,\n",
       " 'sun': 305298,\n",
       " 'oct': 220909,\n",
       " 'pm': 246474,\n",
       " 'drone': 101208,\n",
       " 'aircraft': 25684,\n",
       " 'land': 177780,\n",
       " 'jalalabad': 163932,\n",
       " 'airport': 25790,\n",
       " 'afp': 23962,\n",
       " 'amin': 30764,\n",
       " 'alemipress': 26997,\n",
       " 'tv': 328020,\n",
       " 'kabul': 168878,\n",
       " 'number': 219096,\n",
       " 'military': 200032,\n",
       " 'official': 221679,\n",
       " 'declared': 89862,\n",
       " 'america': 30225,\n",
       " 'conducted': 77141,\n",
       " 'raid': 260334,\n",
       " 'figure': 119814,\n",
       " 'show': 289403,\n",
       " 'percent': 233433,\n",
       " 'compared': 76064,\n",
       " 'last': 178561,\n",
       " 'year': 353806,\n",
       " 'afghan': 23856,\n",
       " 'however': 150326,\n",
       " 'believe': 47353,\n",
       " 'country': 81600,\n",
       " 'fight': 119731,\n",
       " 'terror': 314554,\n",
       " 'group': 136966,\n",
       " 'without': 349186,\n",
       " 'support': 306088,\n",
       " 'force': 123359,\n",
       " 'loading': 185235,\n",
       " 'senate': 285120,\n",
       " 'republican': 267958,\n",
       " 'leader': 179846,\n",
       " 'obama': 219873,\n",
       " 'politicize': 247587,\n",
       " 'supreme': 306337,\n",
       " 'court': 82034,\n",
       " 'process': 253723,\n",
       " 'washington': 343258,\n",
       " 'reuters': 269915,\n",
       " 'mitch': 202221,\n",
       " 'mcconnell': 194827,\n",
       " 'say': 280128,\n",
       " 'wednesday': 344778,\n",
       " 'president': 251821,\n",
       " 'barack': 44119,\n",
       " 'nomination': 215802,\n",
       " 'put': 257696,\n",
       " 'forward': 124194,\n",
       " 'veteran': 337914,\n",
       " 'appellate': 35035,\n",
       " 'judge': 167873,\n",
       " 'merrick': 197888,\n",
       " 'garland': 128835,\n",
       " 'presidential': 251962,\n",
       " 'election': 105552,\n",
       " 'seem': 283912,\n",
       " 'clear': 71803,\n",
       " 'make': 189974,\n",
       " 'intent': 158941,\n",
       " 'see': 283826,\n",
       " 'nominee': 215882,\n",
       " 'confirm': 77352,\n",
       " 'order': 225075,\n",
       " 'purpose': 257541,\n",
       " 'floor': 122163,\n",
       " 'democrat': 91543,\n",
       " 'announce': 32496,\n",
       " 'choice': 69388,\n",
       " 'white': 347012,\n",
       " 'house': 149945,\n",
       " 'instead': 158384,\n",
       " 'spending': 297506,\n",
       " 'time': 319574,\n",
       " 'debate': 89111,\n",
       " 'issue': 162097,\n",
       " 'agree': 25075,\n",
       " 'let': 181681,\n",
       " 'keep': 170896,\n",
       " 'work': 350275,\n",
       " 'address': 22496,\n",
       " 'senator': 285190,\n",
       " 'kentucky': 171383,\n",
       " 'appropriately': 35316,\n",
       " 'revisit': 270432,\n",
       " 'matter': 193773,\n",
       " 'considers': 78289,\n",
       " 'qualification': 258427,\n",
       " 'next': 213519,\n",
       " 'nominates': 215799,\n",
       " 'whoever': 347286,\n",
       " 'might': 199577,\n",
       " 'second': 283364,\n",
       " 'fouryear': 124634,\n",
       " 'term': 314308,\n",
       " 'end': 107897,\n",
       " 'january': 164277,\n",
       " 'campaign': 61585,\n",
       " 'choose': 69542,\n",
       " 'successor': 304502,\n",
       " 'hotly': 149786,\n",
       " 'contest': 78918,\n",
       " 'businessman': 59691,\n",
       " 'former': 123859,\n",
       " 'reality': 262527,\n",
       " 'personality': 234314,\n",
       " 'donald': 99103,\n",
       " 'trump': 325899,\n",
       " 'frontrunner': 126487,\n",
       " 'secretary': 283507,\n",
       " 'state': 299831,\n",
       " 'hillary': 146351,\n",
       " 'clinton': 72187,\n",
       " 'lead': 179830,\n",
       " 'democratic': 91571,\n",
       " 'party': 230758,\n",
       " 'race': 259504,\n",
       " 'run': 275522,\n",
       " 'nov': 218118,\n",
       " 'tunis': 327589,\n",
       " 'tunisian': 327593,\n",
       " 'navy': 210825,\n",
       " 'arrested': 37049,\n",
       " '550': 15349,\n",
       " 'african': 24012,\n",
       " 'migrant': 199620,\n",
       " 'trying': 326991,\n",
       " 'sail': 277877,\n",
       " 'europe': 111772,\n",
       " 'september': 285699,\n",
       " 'nearly': 211364,\n",
       " 'three': 318560,\n",
       " 'month': 204305,\n",
       " 'data': 87516,\n",
       " 'showed': 289470,\n",
       " 'human': 150913,\n",
       " 'trafficker': 323537,\n",
       " 'increasingly': 155856,\n",
       " 'use': 334684,\n",
       " 'tunisia': 327590,\n",
       " 'launch': 179061,\n",
       " 'pad': 228526,\n",
       " 'heading': 142895,\n",
       " 'libya': 182595,\n",
       " 'coast': 73462,\n",
       " 'guard': 137583,\n",
       " 'aided': 25491,\n",
       " 'armed': 36685,\n",
       " 'tightened': 319384,\n",
       " 'control': 79377,\n",
       " 'stopped': 302161,\n",
       " 'boat': 53191,\n",
       " 'departing': 92244,\n",
       " 'beach': 45823,\n",
       " 'south': 296498,\n",
       " 'north': 217360,\n",
       " 'arresting': 37090,\n",
       " '555': 15391,\n",
       " 'people': 233096,\n",
       " 'august': 40111,\n",
       " '170': 3915,\n",
       " 'caught': 64969,\n",
       " 'depart': 92238,\n",
       " 'succeeded': 304438,\n",
       " 'foiling': 122793,\n",
       " 'many': 191444,\n",
       " 'attempt': 39512,\n",
       " 'increased': 155836,\n",
       " 'significantly': 290615,\n",
       " 'weather': 344531,\n",
       " 'improves': 155054,\n",
       " 'smuggler': 293950,\n",
       " 'promoting': 254932,\n",
       " 'journey': 167543,\n",
       " 'coming': 75163,\n",
       " 'safe': 276942,\n",
       " 'destination': 93469,\n",
       " 'colonel': 74584,\n",
       " 'major': 189879,\n",
       " 'khelifa': 172063,\n",
       " 'chibani': 68533,\n",
       " 'national': 210216,\n",
       " 'told': 321669,\n",
       " 'said': 277221,\n",
       " 'pregnant': 251177,\n",
       " 'woman': 349671,\n",
       " 'child': 68717,\n",
       " 'among': 30923,\n",
       " 'conservative': 78143,\n",
       " 'medium': 196247,\n",
       " 'pushing': 257641,\n",
       " 'conspiracy': 78380,\n",
       " 'theory': 316866,\n",
       " 'bernie': 48727,\n",
       " 'sander': 278831,\n",
       " 'supporter': 306113,\n",
       " 'responsible': 269120,\n",
       " 'shutting': 289960,\n",
       " 'rally': 260629,\n",
       " 'chicago': 68538,\n",
       " 'fridayduring': 125998,\n",
       " 'segment': 284038,\n",
       " 'cnn': 73159,\n",
       " 'union': 332249,\n",
       " 'fired': 120669,\n",
       " 'back': 42121,\n",
       " 'absurd': 20425,\n",
       " 'claim': 71252,\n",
       " 'primary': 252840,\n",
       " 'made': 188932,\n",
       " 'start': 299712,\n",
       " 'take': 308866,\n",
       " 'mr': 206477,\n",
       " 'word': 350163,\n",
       " 'grain': 135491,\n",
       " 'salt': 278340,\n",
       " 'host': 149658,\n",
       " 'jake': 163889,\n",
       " 'tapper': 309675,\n",
       " 'think': 317608,\n",
       " 'almost': 28630,\n",
       " 'everybody': 112467,\n",
       " 'know': 174021,\n",
       " 'man': 190605,\n",
       " 'stop': 302110,\n",
       " 'lying': 188222,\n",
       " 'anything': 34281,\n",
       " 'call': 61091,\n",
       " 'communist': 75772,\n",
       " 'lie': 182741,\n",
       " 'talk': 309087,\n",
       " 'organization': 225373,\n",
       " 'disrupting': 97205,\n",
       " 'meeting': 196374,\n",
       " 'previously': 252577,\n",
       " 'pointed': 246884,\n",
       " 'decided': 89673,\n",
       " 'cancel': 62067,\n",
       " 'event': 112119,\n",
       " 'open': 224219,\n",
       " 'public': 256695,\n",
       " 'could': 81182,\n",
       " 'handle': 140539,\n",
       " 'note': 217636,\n",
       " 'rival': 272327,\n",
       " 'even': 112074,\n",
       " 'got': 134692,\n",
       " 'asking': 38026,\n",
       " 'colleague': 74330,\n",
       " 'point': 246855,\n",
       " 'went': 346034,\n",
       " 'language': 178026,\n",
       " 'intonation': 159819,\n",
       " 'carrying': 63914,\n",
       " 'stretcher': 303065,\n",
       " 'suckerpunched': 304584,\n",
       " 'folk': 122844,\n",
       " 'kick': 172270,\n",
       " 'implying': 154825,\n",
       " 'violence': 339348,\n",
       " 'getting': 131251,\n",
       " 'drawing': 100741,\n",
       " 'comment': 75314,\n",
       " 'marco': 191783,\n",
       " 'rubio': 275070,\n",
       " 'like': 183360,\n",
       " 'whatever': 346603,\n",
       " 'want': 342550,\n",
       " 'feel': 118472,\n",
       " 'saying': 280198,\n",
       " 'understand': 331472,\n",
       " 'consequence': 78075,\n",
       " 'often': 222034,\n",
       " 'life': 182946,\n",
       " 'death': 88948,\n",
       " 'real': 262416,\n",
       " 'world': 350576,\n",
       " 'fact': 115654,\n",
       " 'frequently': 125867,\n",
       " 'encouraged': 107851,\n",
       " 'follower': 122905,\n",
       " 'inflict': 156899,\n",
       " 'protest': 255679,\n",
       " 'focused': 122722,\n",
       " 'friday': 125976,\n",
       " 'chaos': 67157,\n",
       " 'unleashed': 332614,\n",
       " 'st': 298858,\n",
       " 'louis': 186743,\n",
       " 'earlier': 103000,\n",
       " 'day': 88038,\n",
       " 'tell': 313766,\n",
       " 'united': 332373,\n",
       " 'go': 133283,\n",
       " 'beating': 46015,\n",
       " 'right': 271464,\n",
       " 'peacefully': 232229,\n",
       " 'hope': 149211,\n",
       " 'becomes': 46243,\n",
       " 'tone': 321979,\n",
       " 'watch': 343532,\n",
       " 'interview': 159634,\n",
       " 'full': 126926,\n",
       " 'image': 153895,\n",
       " 'via': 338107,\n",
       " 'video': 338501,\n",
       " 'screen': 282514,\n",
       " 'capture': 62960,\n",
       " 'graham': 135473,\n",
       " 'agrees': 25153,\n",
       " 'putin': 257720,\n",
       " 'korea': 174874,\n",
       " 'sanction': 278762,\n",
       " 'wo': 349482,\n",
       " 'nt': 218864,\n",
       " 'lindsey': 183756,\n",
       " 'tuesday': 327336,\n",
       " 'russian': 275877,\n",
       " 'vladimir': 340120,\n",
       " 'unlikely': 332634,\n",
       " 'summit': 305256,\n",
       " 'china': 69000,\n",
       " 'diplomacy': 95761,\n",
       " 'solution': 295298,\n",
       " 'tension': 314146,\n",
       " 'pyongyang': 257954,\n",
       " 'appear': 34979,\n",
       " 'escalated': 110482,\n",
       " 'nuclear': 218947,\n",
       " 'program': 254377,\n",
       " 'recent': 263291,\n",
       " 'twitter': 328605,\n",
       " 'store': 302226,\n",
       " 'guardian': 137604,\n",
       " 'front': 126429,\n",
       " 'page': 228640,\n",
       " '16yearold': 3910,\n",
       " 'cry': 84495,\n",
       " 'currently': 85318,\n",
       " 'plastered': 245802,\n",
       " 'nothing': 217728,\n",
       " 'short': 289146,\n",
       " 'laughable': 178981,\n",
       " 'chris': 69678,\n",
       " 'menahan': 197299,\n",
       " 'information': 157001,\n",
       " 'liberation': 182456,\n",
       " 'october': 220933,\n",
       " '27': 11323,\n",
       " '2016': 7030,\n",
       " 'pity': 245161,\n",
       " 'poor': 248372,\n",
       " 'innocent': 157720,\n",
       " 'little': 184523,\n",
       " 'ethiopia': 111384,\n",
       " 'awaits': 41152,\n",
       " 'registration': 265228,\n",
       " 'processing': 253770,\n",
       " 'centre': 66019,\n",
       " 'makeshift': 190030,\n",
       " 'refugee': 264859,\n",
       " 'camp': 61572,\n",
       " 'near': 211286,\n",
       " 'calais': 60820,\n",
       " 'photo': 235503,\n",
       " 'caption': 62929,\n",
       " 'read': 262203,\n",
       " 'placed': 245331,\n",
       " 'headline': 142917,\n",
       " 'reading': 262248,\n",
       " 'council': 81234,\n",
       " 'resist': 268643,\n",
       " 'pressure': 252315,\n",
       " 'supposed': 306259,\n",
       " 'brit': 57086,\n",
       " 'guilty': 137956,\n",
       " 'demand': 91286,\n",
       " 'government': 134878,\n",
       " 'allow': 28289,\n",
       " 'nation': 210211,\n",
       " 'fake': 116192,\n",
       " 'used': 334698,\n",
       " 'satirically': 279678,\n",
       " 'come': 74918,\n",
       " 'associated': 38548,\n",
       " 'press': 252180,\n",
       " 'emilio': 107166,\n",
       " 'morenatti': 204920,\n",
       " 'four': 124492,\n",
       " 'picture': 235930,\n",
       " 'sale': 278123,\n",
       " 'website': 344637,\n",
       " 'clearly': 71837,\n",
       " '40': 13447,\n",
       " 'yet': 354586,\n",
       " 'editor': 104066,\n",
       " 'evidently': 112676,\n",
       " 'reader': 262219,\n",
       " 'incredibly': 155869,\n",
       " 'stupid': 303750,\n",
       " 'actually': 22075,\n",
       " 'looking': 186226,\n",
       " 'boy': 55379,\n",
       " 'look': 186200,\n",
       " 'emilios': 107167,\n",
       " 'one': 223388,\n",
       " 'person': 234286,\n",
       " 'appears': 35018,\n",
       " 'bought': 55089,\n",
       " 'morenatti2004': 204921,\n",
       " 'imposible': 154905,\n",
       " 'hacernos': 139091,\n",
       " 'mirar': 201390,\n",
       " 'luego': 187636,\n",
       " 'un': 330562,\n",
       " 'nudo': 219010,\n",
       " 'en': 107667,\n",
       " 'la': 176874,\n",
       " 'garganta': 128810,\n",
       " 'pictwittercoma7zvz5440q': 236798,\n",
       " 'lujn': 187724,\n",
       " 'artola': 37461,\n",
       " 'paulos': 231759,\n",
       " 'rowley_bel': 274624,\n",
       " '25': 10968,\n",
       " 'impossible': 154912,\n",
       " 'lump': 187836,\n",
       " 'throat': 318748,\n",
       " 'tweet': 328152,\n",
       " 'incidentally': 155503,\n",
       " 'war': 342674,\n",
       " 'zone': 357615,\n",
       " 'sure': 306397,\n",
       " '45yearold': 14258,\n",
       " 'considered': 78273,\n",
       " 'newsletter': 213195,\n",
       " 'sign': 290526,\n",
       " 'iraq': 160888,\n",
       " 'relocate': 266330,\n",
       " 'hundred': 151242,\n",
       " 'foreign': 123524,\n",
       " 'wife': 347740,\n",
       " 'suspect': 306799,\n",
       " 'islamic': 161678,\n",
       " 'militant': 199984,\n",
       " 'baghdad': 42753,\n",
       " 'erbilbaghdad': 109900,\n",
       " 'iraqi': 160911,\n",
       " 'authority': 40546,\n",
       " 'move': 206161,\n",
       " 'detention': 93702,\n",
       " 'center': 65880,\n",
       " 'northern': 217395,\n",
       " 'cite': 70786,\n",
       " 'security': 283670,\n",
       " 'concern': 76753,\n",
       " 'difficulty': 95194,\n",
       " 'remote': 266591,\n",
       " 'location': 185405,\n",
       " 'local': 185346,\n",
       " 'aid': 25477,\n",
       " 'agency': 24550,\n",
       " 'source': 296392,\n",
       " 'mostly': 205597,\n",
       " 'turkey': 327731,\n",
       " 'soviet': 296613,\n",
       " 'secure': 283645,\n",
       " 'facility': 115616,\n",
       " 'around': 36910,\n",
       " 'still': 301645,\n",
       " 'hold': 148228,\n",
       " 'town': 323122,\n",
       " 'tal': 308985,\n",
       " 'keif': 170958,\n",
       " 'mohammed': 203175,\n",
       " 'albayati': 26642,\n",
       " 'head': 142828,\n",
       " 'mosul': 205667,\n",
       " 'provincial': 256034,\n",
       " 'defense': 90367,\n",
       " 'committee': 75570,\n",
       " 'since': 291219,\n",
       " 'aug': 40078,\n",
       " 'surrender': 306611,\n",
       " 'kurdish': 176310,\n",
       " 'peshmerga': 234604,\n",
       " 'expel': 114006,\n",
       " 'jihadist': 165977,\n",
       " 'afar': 23646,\n",
       " 'remain': 266354,\n",
       " 'stronghold': 303305,\n",
       " 'swell': 307364,\n",
       " 'sara': 279287,\n",
       " 'alzawqari': 29741,\n",
       " 'spokesperson': 298005,\n",
       " 'international': 159331,\n",
       " 'red': 264043,\n",
       " 'cross': 83970,\n",
       " 'icrc': 152549,\n",
       " 'continue': 79027,\n",
       " 'operation': 224366,\n",
       " 'rout': 274525,\n",
       " 'remaining': 266366,\n",
       " 'pocket': 246652,\n",
       " 'western': 346247,\n",
       " 'anbar': 31422,\n",
       " 'begin': 46680,\n",
       " 'family': 116613,\n",
       " 'several': 286630,\n",
       " 'ago': 24902,\n",
       " 'bayati': 45523,\n",
       " 'add': 22282,\n",
       " 'intend': 158895,\n",
       " 'detainee': 93645,\n",
       " 'within': 349152,\n",
       " 'capital': 62737,\n",
       " 'coincides': 74028,\n",
       " 'push': 257622,\n",
       " 'legal': 180728,\n",
       " 'proceeding': 253705,\n",
       " 'determine': 93743,\n",
       " 'fate': 117470,\n",
       " 'prolong': 254802,\n",
       " 'find': 120329,\n",
       " 'way': 343974,\n",
       " 'decide': 89672,\n",
       " 'future': 127572,\n",
       " 'abdul': 19624,\n",
       " 'rahman': 260306,\n",
       " 'alwagga': 29640,\n",
       " 'councillor': 81257,\n",
       " 'live': 184609,\n",
       " 'selfproclaimed': 284688,\n",
       " 'caliphate': 61078,\n",
       " 'fair': 116035,\n",
       " 'trial': 324855,\n",
       " 'zawqari': 356638,\n",
       " 'whose': 347389,\n",
       " 'grant': 135683,\n",
       " 'consistent': 78321,\n",
       " 'access': 20784,\n",
       " 'provide': 255988,\n",
       " 'humanitarian': 150943,\n",
       " 'service': 286175,\n",
       " 'need': 211587,\n",
       " 'repatriated': 266993,\n",
       " 'involve': 160460,\n",
       " 'also': 29223,\n",
       " 'ensure': 108915,\n",
       " 'treat': 324526,\n",
       " 'respect': 268835,\n",
       " 'dignity': 95295,\n",
       " 'gravely': 135880,\n",
       " 'concerned': 76761,\n",
       " 'initial': 157459,\n",
       " 'warn': 342943,\n",
       " 'transit': 324011,\n",
       " 'site': 291778,\n",
       " 'initially': 157465,\n",
       " 'email': 106729,\n",
       " 'increasing': 155853,\n",
       " 'symbiosis': 307715,\n",
       " 'political': 247475,\n",
       " 'leading': 179956,\n",
       " 'mainstream': 189760,\n",
       " 'implies': 154798,\n",
       " 'grosso': 136857,\n",
       " 'modo': 203035,\n",
       " 'russia': 275768,\n",
       " 'blamed': 51964,\n",
       " 'caused': 65017,\n",
       " 'new': 212848,\n",
       " 'situation': 291886,\n",
       " 'certainly': 66261,\n",
       " 'usually': 335159,\n",
       " 'two': 329142,\n",
       " 'conflict': 77430,\n",
       " 'blame': 51959,\n",
       " 'rather': 261558,\n",
       " 'diminishing': 95500,\n",
       " 'capacity': 62676,\n",
       " 'knowledge': 174065,\n",
       " 'economic': 103718,\n",
       " 'intellectual': 158809,\n",
       " 'independence': 156016,\n",
       " 'courage': 81941,\n",
       " 'ask': 37937,\n",
       " 'critical': 83734,\n",
       " 'question': 258850,\n",
       " 'characterise': 67279,\n",
       " 'corporate': 80479,\n",
       " 'defence': 90321,\n",
       " 'news': 212991,\n",
       " 'coverage': 82253,\n",
       " 'journalistic': 167478,\n",
       " 'editing': 104059,\n",
       " 'commentary': 75324,\n",
       " 'sunk': 305474,\n",
       " 'level': 181875,\n",
       " 'considerably': 78256,\n",
       " 'lower': 187056,\n",
       " 'first': 120878,\n",
       " 'cold': 74135,\n",
       " 'entire': 109077,\n",
       " 'field': 119597,\n",
       " 'given': 132390,\n",
       " 'low': 186994,\n",
       " 'priority': 253086,\n",
       " 'domestic': 98976,\n",
       " 'sport': 298088,\n",
       " 'entertainment': 108997,\n",
       " 'lifestyle': 183125,\n",
       " 'etc': 111282,\n",
       " 'top': 322365,\n",
       " 'sync': 307816,\n",
       " 'globalising': 132863,\n",
       " '12': 2093,\n",
       " 'global': 132845,\n",
       " 'affair': 23680,\n",
       " '4050': 13527,\n",
       " 'base': 44821,\n",
       " 'material': 193536,\n",
       " 'handful': 140490,\n",
       " 'bureau': 59160,\n",
       " 'double': 99932,\n",
       " 'checking': 67922,\n",
       " 'variety': 336362,\n",
       " 'versatility': 337648,\n",
       " 'multiperspective': 207529,\n",
       " 'thing': 317457,\n",
       " 'past': 231183,\n",
       " 'uniformity': 332150,\n",
       " 'subjectivity': 304110,\n",
       " 'ever': 112284,\n",
       " 'nato': 210517,\n",
       " 'engage': 108412,\n",
       " 'management': 190635,\n",
       " 'propaganda': 255049,\n",
       " 'tax': 310277,\n",
       " 'payer': 231920,\n",
       " 'footing': 123243,\n",
       " 'bill': 50402,\n",
       " 'squeeze': 298609,\n",
       " 'comprehensive': 76475,\n",
       " 'unbiased': 330803,\n",
       " 'analysis': 31274,\n",
       " 'well': 345500,\n",
       " 'angle': 32025,\n",
       " 'policy': 247310,\n",
       " 'action': 21660,\n",
       " 'hot': 149717,\n",
       " 'fought': 124325,\n",
       " 'battle': 45338,\n",
       " 'soul': 296269,\n",
       " 'citizen': 70841,\n",
       " 'fearology': 118189,\n",
       " 'therefore': 317002,\n",
       " 'become': 46227,\n",
       " 'dominant': 99012,\n",
       " 'ingredient': 157316,\n",
       " 'equally': 109720,\n",
       " 'counterproductive': 81446,\n",
       " 'selfdefeating': 284430,\n",
       " 'fear': 118135,\n",
       " 'submit': 304173,\n",
       " 'surveillance': 306658,\n",
       " 'authoritarian': 40498,\n",
       " 'law': 179276,\n",
       " 'selfcensorship': 284384,\n",
       " 'turn': 327823,\n",
       " 'away': 41262,\n",
       " 'activism': 21837,\n",
       " 'trend': 324710,\n",
       " 'eventually': 112267,\n",
       " 'dissolution': 97292,\n",
       " 'democracy': 91504,\n",
       " 'tensionincreasing': 314149,\n",
       " 'confrontation': 77517,\n",
       " 'boomerang': 54310,\n",
       " 'society': 294669,\n",
       " 'frightening': 126229,\n",
       " 'understated': 331496,\n",
       " 'crudely': 84303,\n",
       " 'significant': 290611,\n",
       " 'destructive': 93554,\n",
       " 'effect': 104360,\n",
       " 'diminish': 95494,\n",
       " 'creativity': 82991,\n",
       " 'narrow': 209959,\n",
       " 'spectrum': 297236,\n",
       " 'opinion': 224493,\n",
       " 'bring': 57007,\n",
       " 'globally': 132900,\n",
       " 'desired': 93231,\n",
       " 'goal': 133296,\n",
       " 'freedom': 125492,\n",
       " 'living': 184801,\n",
       " 'peaceful': 232225,\n",
       " 'politics': 247668,\n",
       " 'mean': 195557,\n",
       " 'destruction': 93534,\n",
       " 'core': 80264,\n",
       " 'fibre': 119502,\n",
       " 'secured': 283649,\n",
       " 'paradoxically': 229841,\n",
       " 'promotes': 254930,\n",
       " 'closing': 72806,\n",
       " 'addition': 22474,\n",
       " 'squandering': 298541,\n",
       " '1700': 3916,\n",
       " 'billion': 50492,\n",
       " '30': 11911,\n",
       " 'budget': 58335,\n",
       " 'worldwide': 350832,\n",
       " 'failed': 115943,\n",
       " 'greatest': 136008,\n",
       " 'importance': 154842,\n",
       " 'humanity': 150952,\n",
       " 'survival': 306703,\n",
       " 'mike': 199718,\n",
       " 'sorrentino': 296066,\n",
       " 'thanked': 315336,\n",
       " 'jersey': 165441,\n",
       " 'shore': 289119,\n",
       " 'vacation': 335517,\n",
       " 'costars': 80979,\n",
       " 'popping': 248525,\n",
       " 'lauren': 179118,\n",
       " 'pesce': 234588,\n",
       " 'mtv': 206851,\n",
       " 'series': 285890,\n",
       " 'file': 119885,\n",
       " 'jim': 166048,\n",
       " 'ruymenupi': 276212,\n",
       " 'license': 182638,\n",
       " 'june': 168268,\n",
       " '22': 10296,\n",
       " 'upi': 333846,\n",
       " 'proposed': 255291,\n",
       " 'longtime': 186155,\n",
       " 'girlfriend': 132209,\n",
       " 'thursday': 318973,\n",
       " 'episode': 109590,\n",
       " '35yearold': 12896,\n",
       " 'television': 313713,\n",
       " 'announced': 32497,\n",
       " 'engagement': 108416,\n",
       " 'april': 35427,\n",
       " 'shown': 289536,\n",
       " 'much': 206891,\n",
       " 'love': 186849,\n",
       " 'roomy': 273918,\n",
       " 'thank': 315335,\n",
       " 'helping': 144174,\n",
       " 'pull': 257091,\n",
       " 'epic': 109527,\n",
       " 'jenniwoww': 165284,\n",
       " 'djpaulyd': 97861,\n",
       " 'vinnyguadagnino': 339276,\n",
       " 'snooki': 294232,\n",
       " 'deenanicolemtv': 90134,\n",
       " 'realronniemagro': 262711,\n",
       " 'jsfamilyvacation': 167740,\n",
       " 'wrote': 351689,\n",
       " 'jenni': 165252,\n",
       " 'jwoww': 168769,\n",
       " 'farley': 117090,\n",
       " 'paul': 231689,\n",
       " 'pauly': 231782,\n",
       " 'delvecchio': 91256,\n",
       " 'nicole': 214021,\n",
       " 'polizzi': 247840,\n",
       " 'ronnie': 273794,\n",
       " 'ortizmagro': 225802,\n",
       " 'vinny': 339275,\n",
       " 'guadagnino': 137518,\n",
       " 'deena': 90131,\n",
       " 'cortese': 80826,\n",
       " 'helped': 144149,\n",
       " 'prepare': 251438,\n",
       " 'dinner': 95637,\n",
       " 'couple': 81897,\n",
       " 'returned': 269777,\n",
       " 'played': 245983,\n",
       " 'slideshow': 293114,\n",
       " 'knee': 173835,\n",
       " 'best': 49032,\n",
       " 'friend': 126095,\n",
       " 'college': 74393,\n",
       " 'sweetheart': 307334,\n",
       " 'better': 49315,\n",
       " 'half': 139735,\n",
       " 'please': 246118,\n",
       " 'happiest': 141141,\n",
       " 'earth': 103136,\n",
       " 'marry': 192648,\n",
       " 'pulled': 257095,\n",
       " 'dream': 100797,\n",
       " 'proposal': 255265,\n",
       " 'ring': 271907,\n",
       " 'asked': 37957,\n",
       " 'itsthesituation': 163012,\n",
       " 'amazing': 29929,\n",
       " 'beyond': 49573,\n",
       " 'miami': 198740,\n",
       " 'blessed': 52263,\n",
       " 'pictwittercom7tlc504odn': 236590,\n",
       " 'lauren_pesce': 179121,\n",
       " '2018': 9607,\n",
       " 'came': 61427,\n",
       " 'fame': 116535,\n",
       " 'ended': 107955,\n",
       " '2012': 6506,\n",
       " 'sixseason': 292039,\n",
       " 'cast': 64454,\n",
       " 'season': 283096,\n",
       " 'finale': 120157,\n",
       " '28': 11480,\n",
       " 'never': 212784,\n",
       " 'underestimate': 331295,\n",
       " 'impact': 154506,\n",
       " 'single': 291344,\n",
       " 'weekend': 344918,\n",
       " 'powerful': 250149,\n",
       " 'stand': 299335,\n",
       " 'racism': 259699,\n",
       " 'seen': 283935,\n",
       " 'performed': 233792,\n",
       " 'lone': 185899,\n",
       " 'black': 51650,\n",
       " 'womantess': 349739,\n",
       " 'asplund': 38173,\n",
       " '42yearold': 13865,\n",
       " 'antiracism': 33737,\n",
       " 'activist': 21844,\n",
       " 'sweden': 307264,\n",
       " 'took': 322206,\n",
       " 'courageous': 81945,\n",
       " 'neonazis': 212199,\n",
       " 'farright': 117200,\n",
       " 'nordic': 217172,\n",
       " 'resistance': 268645,\n",
       " 'movement': 206185,\n",
       " 'saw': 280072,\n",
       " '300': 11912,\n",
       " 'men': 197277,\n",
       " 'marching': 191736,\n",
       " 'street': 302894,\n",
       " 'protested': 255712,\n",
       " 'standing': 299410,\n",
       " 'advancing': 23296,\n",
       " 'looked': 186216,\n",
       " 'dead': 88647,\n",
       " 'eye': 115006,\n",
       " 'raised': 260449,\n",
       " 'fist': 121096,\n",
       " 'act': 21582,\n",
       " 'defiance': 90447,\n",
       " 'pushed': 257634,\n",
       " 'iconic': 152529,\n",
       " 'moment': 203466,\n",
       " 'captured': 62962,\n",
       " 'camera': 61452,\n",
       " 'photograph': 235537,\n",
       " 'shared': 287564,\n",
       " 'worldtwittertessasplund': 350802,\n",
       " 'sfida': 286889,\n",
       " 'nazisti': 210971,\n",
       " 'svedesi': 307037,\n",
       " 'con': 76647,\n",
       " 'pugno': 257034,\n",
       " 'chiuso': 69286,\n",
       " 'immagine': 154208,\n",
       " 'simbolo': 290973,\n",
       " 'dell': 91126,\n",
       " 'antifascismo': 33333,\n",
       " 'pictwittercomvq7x3nb4sm': 242976,\n",
       " 'antonio': 34048,\n",
       " 'sicilia': 290102,\n",
       " 'siciliantonio': 290107,\n",
       " 'may': 194266,\n",
       " '2016even': 7354,\n",
       " 'famous': 116741,\n",
       " 'author': 40485,\n",
       " 'jk': 166237,\n",
       " 'rowling': 274626,\n",
       " 'inspired': 158194,\n",
       " 'messagetwittertwitterwhat': 198055,\n",
       " 'felt': 118772,\n",
       " 'bold': 53677,\n",
       " 'impulse': 155089,\n",
       " 'angry': 32096,\n",
       " 'thinking': 317634,\n",
       " 'hell': 144011,\n",
       " 'march': 191695,\n",
       " 'adrenaline': 23157,\n",
       " 'nazi': 210914,\n",
       " 'going': 133654,\n",
       " 'okay': 222438,\n",
       " 'although': 29426,\n",
       " 'overwhelmed': 227990,\n",
       " 'extremely': 114854,\n",
       " 'embarrassed': 106912,\n",
       " 'amount': 30957,\n",
       " 'attention': 39581,\n",
       " 'gotten': 134762,\n",
       " 'inspire': 158193,\n",
       " 'others': 226220,\n",
       " '26': 11175,\n",
       " '42': 13734,\n",
       " 'pay': 231880,\n",
       " 'xenophobia': 352863,\n",
       " 'good': 134126,\n",
       " 'symbol': 307719,\n",
       " 'lot': 186625,\n",
       " 'racist': 259741,\n",
       " 'borlange': 54668,\n",
       " 'reveals': 270207,\n",
       " 'safety': 277014,\n",
       " 'small': 293509,\n",
       " 'price': 252661,\n",
       " 'get': 131147,\n",
       " 'hate': 142148,\n",
       " 'circus': 70716,\n",
       " 'shock': 288817,\n",
       " 'oh': 222172,\n",
       " 'shit': 288672,\n",
       " 'maybe': 194295,\n",
       " 'done': 99227,\n",
       " 'peace': 232205,\n",
       " 'quiet': 259078,\n",
       " 'guy': 138628,\n",
       " 'big': 50071,\n",
       " 'crazy': 82856,\n",
       " 'mixed': 202362,\n",
       " 'feeling': 118482,\n",
       " 'stay': 300772,\n",
       " 'calm': 61280,\n",
       " 'dare': 87228,\n",
       " 'must': 208354,\n",
       " 'unite': 332369,\n",
       " 'becoming': 46251,\n",
       " 'normalized': 217266,\n",
       " 'fascist': 117284,\n",
       " 'running': 275589,\n",
       " 'david': 87831,\n",
       " 'lagerlof': 177355,\n",
       " 'happened': 140951,\n",
       " 'photographer': 235542,\n",
       " 'scene': 280920,\n",
       " 'moved': 206172,\n",
       " 'place': 245294,\n",
       " 'reacting': 262168,\n",
       " 'really': 262646,\n",
       " 'pose': 248917,\n",
       " 'threat': 318467,\n",
       " 'dangerous': 86916,\n",
       " 'violent': 339467,\n",
       " 'alone': 28767,\n",
       " 'face': 115315,\n",
       " 'goliath': 133953,\n",
       " 'incident': 155496,\n",
       " 'far': 116947,\n",
       " 'something': 295441,\n",
       " 'happen': 140931,\n",
       " 'rise': 272113,\n",
       " 'presumptive': 252389,\n",
       " 'massive': 193267,\n",
       " 'following': 122933,\n",
       " 'supremacist': 306299,\n",
       " 'expect': 113934,\n",
       " 'bigotry': 50194,\n",
       " 'ramp': 260837,\n",
       " 'closer': 72778,\n",
       " 'general': 130109,\n",
       " 'inspiration': 158186,\n",
       " 'brilliant': 56966,\n",
       " 'reminder': 266513,\n",
       " 'win': 348327,\n",
       " 'excuse': 113311,\n",
       " 'divisive': 97709,\n",
       " 'rhetoricfeatured': 270797,\n",
       " 'hyperloop': 151909,\n",
       " 'link': 183949,\n",
       " 'originally': 225557,\n",
       " 'post': 249185,\n",
       " 'kashai': 170149,\n",
       " 'transportation': 324167,\n",
       " 'system': 308129,\n",
       " ...}"
      ]
     },
     "execution_count": 82,
     "metadata": {},
     "output_type": "execute_result"
    }
   ],
   "source": [
    "t1.vocabulary_"
   ]
  }
 ],
 "metadata": {
  "colab": {
   "provenance": []
  },
  "kernelspec": {
   "display_name": "Python 3 (ipykernel)",
   "language": "python",
   "name": "python3"
  },
  "language_info": {
   "codemirror_mode": {
    "name": "ipython",
    "version": 3
   },
   "file_extension": ".py",
   "mimetype": "text/x-python",
   "name": "python",
   "nbconvert_exporter": "python",
   "pygments_lexer": "ipython3",
   "version": "3.11.7"
  }
 },
 "nbformat": 4,
 "nbformat_minor": 1
}
