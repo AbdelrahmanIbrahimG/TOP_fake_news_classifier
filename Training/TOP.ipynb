{
 "cells": [
  {
   "cell_type": "markdown",
   "metadata": {
    "id": "9WFwa7M7xrsw"
   },
   "source": [
    "# Importing the libs"
   ]
  },
  {
   "cell_type": "code",
   "execution_count": 1,
   "metadata": {
    "colab": {
     "base_uri": "https://localhost:8080/"
    },
    "id": "AoMFY-4RxxKP",
    "outputId": "917c8b82-aa70-4bbb-aaf3-847606ac4a00"
   },
   "outputs": [
    {
     "name": "stderr",
     "output_type": "stream",
     "text": [
      "[nltk_data] Downloading package stopwords to\n",
      "[nltk_data]     C:\\Users\\alihi\\AppData\\Roaming\\nltk_data...\n",
      "[nltk_data]   Package stopwords is already up-to-date!\n"
     ]
    },
    {
     "data": {
      "text/plain": [
       "True"
      ]
     },
     "execution_count": 1,
     "metadata": {},
     "output_type": "execute_result"
    }
   ],
   "source": [
    "import numpy as np\n",
    "import pandas as pd\n",
    "import matplotlib.pyplot as plt\n",
    "import re\n",
    "import nltk\n",
    "import contractions\n",
    "from textblob import TextBlob\n",
    "from nltk.corpus import stopwords\n",
    "from nltk.tokenize import word_tokenize\n",
    "from nltk.stem import WordNetLemmatizer\n",
    "from sklearn.feature_extraction.text import TfidfVectorizer\n",
    "from sklearn.model_selection import train_test_split\n",
    "from sklearn.metrics import accuracy_score, confusion_matrix, classification_report, ConfusionMatrixDisplay, roc_curve\n",
    "from sklearn.linear_model import LogisticRegressionCV\n",
    "from sklearn.tree import DecisionTreeClassifier\n",
    "from sklearn.naive_bayes import MultinomialNB, GaussianNB, ComplementNB\n",
    "from sklearn.svm import SVC\n",
    "from sklearn.linear_model import SGDClassifier\n",
    "from sklearn.ensemble import RandomForestClassifier\n",
    "from sklearn.linear_model import PassiveAggressiveClassifier\n",
    "import pickle\n",
    "\n",
    "# !pip install contractions\n",
    "nltk.download('stopwords')"
   ]
  },
  {
   "cell_type": "markdown",
   "metadata": {
    "id": "eKwx-2awzIzJ"
   },
   "source": [
    "# Defined methods"
   ]
  },
  {
   "cell_type": "code",
   "execution_count": 2,
   "metadata": {
    "id": "wzUZN53izM9o"
   },
   "outputs": [],
   "source": [
    "def clean_text(text):\n",
    "    # \\S matches any character that is non-whitespace characters\n",
    "    text = re.sub(r'http\\S+', '', text)\n",
    "    #remove emojis\n",
    "    text = text.encode('ascii', 'ignore').decode('ascii')\n",
    "    # encode the text to ascii and ignore the non ascii and convert it to text again\n",
    "    # remove html tags  => . any char except newline\n",
    "    text = re.sub(r'<.*>', '', text)\n",
    "    # remove not a word or space\n",
    "    text = re.sub(r'[^\\w\\s]', '', text)\n",
    "    return text\n",
    "\n",
    "def remove_stopwords(text):\n",
    "    words = word_tokenize(text)\n",
    "    english_stopwords = set(stopwords.words('english'))\n",
    "    filtered_words = []\n",
    "    for word in words:\n",
    "        if word.lower() not in english_stopwords:\n",
    "            filtered_words.append(word)\n",
    "    filtered_text = ' '.join(filtered_words)\n",
    "    return filtered_text\n",
    "\n",
    "def spell_check_and_correction(text):\n",
    "    blob = TextBlob(text)\n",
    "    corrected_text = str(blob.correct())\n",
    "    return corrected_text\n",
    "\n",
    "def to_lower(s):\n",
    "    return s.lower()\n",
    "\n",
    "#can't => cannot , I'll => I will\n",
    "def expanding_contractions(text):\n",
    "    return contractions.fix(text)\n",
    "\n",
    "def lemmatization(text):\n",
    "    text_tokenized = []\n",
    "    \n",
    "    words = nltk.word_tokenize(text) #Tokenize\n",
    "\n",
    "    lemmatizer = WordNetLemmatizer()\n",
    "    \n",
    "    for word in words:\n",
    "        text_tokenized.append(lemmatizer.lemmatize(word)) #lemmatize\n",
    "    \n",
    "    text_tokenized = ' '.join(text_tokenized)\n",
    "    \n",
    "    return text_tokenized"
   ]
  },
  {
   "cell_type": "code",
   "execution_count": 3,
   "metadata": {
    "id": "VDf9tZIZ_mWy",
    "scrolled": false
   },
   "outputs": [],
   "source": [
    "def preprocess_text(text):\n",
    "    text = clean_text(text)\n",
    "#     text = spell_check_and_correction(text)\n",
    "    text = expanding_contractions(text)\n",
    "    text = remove_stopwords(text)\n",
    "    text = to_lower(text)\n",
    "    text = lemmatization(text)\n",
    "    return text\n",
    "\n",
    "# Testing the methods\n",
    "# print(preprocess_text(\"print they should pay all the back all the money plus interest the entire family and everyone who came in with them need to be deported asap why didn't it take two years to bust them here we go again another group stealing from the government and taxpayers a group of somalis stole over four million in government benefits over just  months weve reported on numerous cases like this one where the muslim refugeesimmigrants commit fraud by scamming our systemits way out of control more related\"))"
   ]
  },
  {
   "cell_type": "markdown",
   "metadata": {},
   "source": [
    "# Data analysis"
   ]
  },
  {
   "cell_type": "code",
   "execution_count": 4,
   "metadata": {
    "colab": {
     "base_uri": "https://localhost:8080/",
     "height": 112
    },
    "id": "jeCPjdzYyYfy",
    "outputId": "b4c76d63-386b-4433-c83e-63ab88865fe2"
   },
   "outputs": [
    {
     "data": {
      "text/html": [
       "<div>\n",
       "<style scoped>\n",
       "    .dataframe tbody tr th:only-of-type {\n",
       "        vertical-align: middle;\n",
       "    }\n",
       "\n",
       "    .dataframe tbody tr th {\n",
       "        vertical-align: top;\n",
       "    }\n",
       "\n",
       "    .dataframe thead th {\n",
       "        text-align: right;\n",
       "    }\n",
       "</style>\n",
       "<table border=\"1\" class=\"dataframe\">\n",
       "  <thead>\n",
       "    <tr style=\"text-align: right;\">\n",
       "      <th></th>\n",
       "      <th>text</th>\n",
       "      <th>label</th>\n",
       "    </tr>\n",
       "  </thead>\n",
       "  <tbody>\n",
       "    <tr>\n",
       "      <th>0</th>\n",
       "      <td>Print They should pay all the back all the mon...</td>\n",
       "      <td>0.0</td>\n",
       "    </tr>\n",
       "    <tr>\n",
       "      <th>1</th>\n",
       "      <td>Why Did Attorney General Loretta Lynch Plead T...</td>\n",
       "      <td>0.0</td>\n",
       "    </tr>\n",
       "    <tr>\n",
       "      <th>2</th>\n",
       "      <td>Red State : \\nFox News Sunday reported this mo...</td>\n",
       "      <td>0.0</td>\n",
       "    </tr>\n",
       "    <tr>\n",
       "      <th>3</th>\n",
       "      <td>Email Kayla Mueller was a prisoner and torture...</td>\n",
       "      <td>0.0</td>\n",
       "    </tr>\n",
       "    <tr>\n",
       "      <th>4</th>\n",
       "      <td>Email HEALTHCARE REFORM TO MAKE AMERICA GREAT ...</td>\n",
       "      <td>0.0</td>\n",
       "    </tr>\n",
       "    <tr>\n",
       "      <th>...</th>\n",
       "      <td>...</td>\n",
       "      <td>...</td>\n",
       "    </tr>\n",
       "    <tr>\n",
       "      <th>156785</th>\n",
       "      <td>LONDON (Reuters) - LexisNexis, a provider of l...</td>\n",
       "      <td>1.0</td>\n",
       "    </tr>\n",
       "    <tr>\n",
       "      <th>156786</th>\n",
       "      <td>MINSK (Reuters) - In the shadow of disused Sov...</td>\n",
       "      <td>1.0</td>\n",
       "    </tr>\n",
       "    <tr>\n",
       "      <th>156787</th>\n",
       "      <td>MOSCOW (Reuters) - Vatican Secretary of State ...</td>\n",
       "      <td>1.0</td>\n",
       "    </tr>\n",
       "    <tr>\n",
       "      <th>156788</th>\n",
       "      <td>JAKARTA (Reuters) - Indonesia will buy 11 Sukh...</td>\n",
       "      <td>1.0</td>\n",
       "    </tr>\n",
       "    <tr>\n",
       "      <th>156789</th>\n",
       "      <td>\u001a</td>\n",
       "      <td>NaN</td>\n",
       "    </tr>\n",
       "  </tbody>\n",
       "</table>\n",
       "<p>156790 rows × 2 columns</p>\n",
       "</div>"
      ],
      "text/plain": [
       "                                                     text  label\n",
       "0       Print They should pay all the back all the mon...    0.0\n",
       "1       Why Did Attorney General Loretta Lynch Plead T...    0.0\n",
       "2       Red State : \\nFox News Sunday reported this mo...    0.0\n",
       "3       Email Kayla Mueller was a prisoner and torture...    0.0\n",
       "4       Email HEALTHCARE REFORM TO MAKE AMERICA GREAT ...    0.0\n",
       "...                                                   ...    ...\n",
       "156785  LONDON (Reuters) - LexisNexis, a provider of l...    1.0\n",
       "156786  MINSK (Reuters) - In the shadow of disused Sov...    1.0\n",
       "156787  MOSCOW (Reuters) - Vatican Secretary of State ...    1.0\n",
       "156788  JAKARTA (Reuters) - Indonesia will buy 11 Sukh...    1.0\n",
       "156789                                                  \u001a    NaN\n",
       "\n",
       "[156790 rows x 2 columns]"
      ]
     },
     "execution_count": 4,
     "metadata": {},
     "output_type": "execute_result"
    }
   ],
   "source": [
    "df = pd.read_csv(\"..\\..\\dataset.csv\", encoding = \"latin1\")\n",
    "df"
   ]
  },
  {
   "cell_type": "code",
   "execution_count": 5,
   "metadata": {
    "colab": {
     "base_uri": "https://localhost:8080/"
    },
    "id": "GvH5D7O2TUqc",
    "outputId": "eb48a68d-5754-45ab-9968-14c746d4e60c"
   },
   "outputs": [
    {
     "name": "stdout",
     "output_type": "stream",
     "text": [
      "<class 'pandas.core.frame.DataFrame'>\n",
      "RangeIndex: 156790 entries, 0 to 156789\n",
      "Data columns (total 2 columns):\n",
      " #   Column  Non-Null Count   Dtype  \n",
      "---  ------  --------------   -----  \n",
      " 0   text    153247 non-null  object \n",
      " 1   label   151791 non-null  float64\n",
      "dtypes: float64(1), object(1)\n",
      "memory usage: 2.4+ MB\n"
     ]
    }
   ],
   "source": [
    "# specify a small information about the data\n",
    "df.info()"
   ]
  },
  {
   "cell_type": "code",
   "execution_count": 6,
   "metadata": {
    "colab": {
     "base_uri": "https://localhost:8080/"
    },
    "id": "BFNFgS9YTP18",
    "outputId": "50fd6438-e8e0-4fd1-9b62-6eca1c196a5f"
   },
   "outputs": [
    {
     "data": {
      "text/plain": [
       "label\n",
       "0.0    84308\n",
       "1.0    67483\n",
       "Name: count, dtype: int64"
      ]
     },
     "execution_count": 6,
     "metadata": {},
     "output_type": "execute_result"
    }
   ],
   "source": [
    "# display the number of each category with its data type\n",
    "df[\"label\"].value_counts()"
   ]
  },
  {
   "cell_type": "code",
   "execution_count": 7,
   "metadata": {
    "colab": {
     "base_uri": "https://localhost:8080/"
    },
    "id": "ptDzMYALTSzk",
    "outputId": "54f0c921-08ce-4257-b912-4d55aa627ec5"
   },
   "outputs": [
    {
     "data": {
      "text/plain": [
       "text     3543\n",
       "label    4999\n",
       "dtype: int64"
      ]
     },
     "execution_count": 7,
     "metadata": {},
     "output_type": "execute_result"
    }
   ],
   "source": [
    "# display the number of the nan values in each column\n",
    "df.isna().sum()"
   ]
  },
  {
   "cell_type": "code",
   "execution_count": 8,
   "metadata": {},
   "outputs": [
    {
     "data": {
      "text/plain": [
       "16621"
      ]
     },
     "execution_count": 8,
     "metadata": {},
     "output_type": "execute_result"
    }
   ],
   "source": [
    "# display the number of the duplicated rows\n",
    "df.duplicated().sum()"
   ]
  },
  {
   "cell_type": "code",
   "execution_count": 9,
   "metadata": {},
   "outputs": [
    {
     "name": "stdout",
     "output_type": "stream",
     "text": [
      "The minimum number of words: 0\n",
      "The maximum number of words: 5965\n"
     ]
    }
   ],
   "source": [
    "# display the minimum and maximum number of words in a row of the dataset\n",
    "word_count = df['text'].str.split().str.len()\n",
    "print(f\"The minimum number of words: {int(word_count.min())}\")\n",
    "print(f\"The maximum number of words: {int(word_count.max())}\")"
   ]
  },
  {
   "cell_type": "markdown",
   "metadata": {
    "id": "gKFisU-OyP2Q"
   },
   "source": [
    "# Data preprocssing"
   ]
  },
  {
   "cell_type": "code",
   "execution_count": 10,
   "metadata": {},
   "outputs": [
    {
     "data": {
      "text/plain": [
       "text     0\n",
       "label    0\n",
       "dtype: int64"
      ]
     },
     "execution_count": 10,
     "metadata": {},
     "output_type": "execute_result"
    }
   ],
   "source": [
    "# remove nan and -inf values\n",
    "df = df.dropna()\n",
    "df.isna().sum()"
   ]
  },
  {
   "cell_type": "code",
   "execution_count": 11,
   "metadata": {},
   "outputs": [
    {
     "data": {
      "text/plain": [
       "label\n",
       "0.0    84232\n",
       "1.0    67401\n",
       "Name: count, dtype: int64"
      ]
     },
     "execution_count": 11,
     "metadata": {},
     "output_type": "execute_result"
    }
   ],
   "source": [
    "# change the type of the label column to int\n",
    "df.loc[:, 'label'] = df['label'].astype(int)\n",
    "df['label'].value_counts()"
   ]
  },
  {
   "cell_type": "code",
   "execution_count": 12,
   "metadata": {},
   "outputs": [
    {
     "data": {
      "text/plain": [
       "0"
      ]
     },
     "execution_count": 12,
     "metadata": {},
     "output_type": "execute_result"
    }
   ],
   "source": [
    "# drop the duplicates\n",
    "df = df.drop_duplicates()\n",
    "df.duplicated().sum()"
   ]
  },
  {
   "cell_type": "code",
   "execution_count": 13,
   "metadata": {},
   "outputs": [
    {
     "data": {
      "text/html": [
       "<div>\n",
       "<style scoped>\n",
       "    .dataframe tbody tr th:only-of-type {\n",
       "        vertical-align: middle;\n",
       "    }\n",
       "\n",
       "    .dataframe tbody tr th {\n",
       "        vertical-align: top;\n",
       "    }\n",
       "\n",
       "    .dataframe thead th {\n",
       "        text-align: right;\n",
       "    }\n",
       "</style>\n",
       "<table border=\"1\" class=\"dataframe\">\n",
       "  <thead>\n",
       "    <tr style=\"text-align: right;\">\n",
       "      <th></th>\n",
       "      <th>text</th>\n",
       "      <th>label</th>\n",
       "    </tr>\n",
       "  </thead>\n",
       "  <tbody>\n",
       "    <tr>\n",
       "      <th>0</th>\n",
       "      <td>MEXICO CITY (Reuters) - Fourteen people were s...</td>\n",
       "      <td>1.0</td>\n",
       "    </tr>\n",
       "    <tr>\n",
       "      <th>1</th>\n",
       "      <td>Another successful cleansing of our history   ...</td>\n",
       "      <td>0.0</td>\n",
       "    </tr>\n",
       "    <tr>\n",
       "      <th>2</th>\n",
       "      <td>HAVANA (Reuters) - Cuba is willing to talk wit...</td>\n",
       "      <td>1.0</td>\n",
       "    </tr>\n",
       "    <tr>\n",
       "      <th>3</th>\n",
       "      <td>Celebrity News  Will Smith has cut off his son...</td>\n",
       "      <td>0.0</td>\n",
       "    </tr>\n",
       "    <tr>\n",
       "      <th>4</th>\n",
       "      <td>Every website has a 404 page that you land on ...</td>\n",
       "      <td>0.0</td>\n",
       "    </tr>\n",
       "    <tr>\n",
       "      <th>...</th>\n",
       "      <td>...</td>\n",
       "      <td>...</td>\n",
       "    </tr>\n",
       "    <tr>\n",
       "      <th>138665</th>\n",
       "      <td>trump get electric chair cheat debate like hil...</td>\n",
       "      <td>0.0</td>\n",
       "    </tr>\n",
       "    <tr>\n",
       "      <th>138666</th>\n",
       "      <td>barack obama delay suspend election hillary fo...</td>\n",
       "      <td>0.0</td>\n",
       "    </tr>\n",
       "    <tr>\n",
       "      <th>138667</th>\n",
       "      <td>STRASBOURG/PARIS (Reuters) - President Emmanue...</td>\n",
       "      <td>1.0</td>\n",
       "    </tr>\n",
       "    <tr>\n",
       "      <th>138668</th>\n",
       "      <td>WASHINGTON (Reuters) - President Donald TrumpÃ...</td>\n",
       "      <td>1.0</td>\n",
       "    </tr>\n",
       "    <tr>\n",
       "      <th>138669</th>\n",
       "      <td>(Want to get this briefing by email? HereÃ¢ÂÂ...</td>\n",
       "      <td>0.0</td>\n",
       "    </tr>\n",
       "  </tbody>\n",
       "</table>\n",
       "<p>138670 rows × 2 columns</p>\n",
       "</div>"
      ],
      "text/plain": [
       "                                                     text  label\n",
       "0       MEXICO CITY (Reuters) - Fourteen people were s...    1.0\n",
       "1       Another successful cleansing of our history   ...    0.0\n",
       "2       HAVANA (Reuters) - Cuba is willing to talk wit...    1.0\n",
       "3       Celebrity News  Will Smith has cut off his son...    0.0\n",
       "4       Every website has a 404 page that you land on ...    0.0\n",
       "...                                                   ...    ...\n",
       "138665  trump get electric chair cheat debate like hil...    0.0\n",
       "138666  barack obama delay suspend election hillary fo...    0.0\n",
       "138667  STRASBOURG/PARIS (Reuters) - President Emmanue...    1.0\n",
       "138668  WASHINGTON (Reuters) - President Donald TrumpÃ...    1.0\n",
       "138669  (Want to get this briefing by email? HereÃ¢ÂÂ...    0.0\n",
       "\n",
       "[138670 rows x 2 columns]"
      ]
     },
     "execution_count": 13,
     "metadata": {},
     "output_type": "execute_result"
    }
   ],
   "source": [
    "# shuffle the rows\n",
    "df = df.sample(frac=1)\n",
    "df = df.reset_index(drop=True)\n",
    "df"
   ]
  },
  {
   "cell_type": "code",
   "execution_count": 14,
   "metadata": {
    "id": "zMbR2Z6JTfFU",
    "scrolled": true
   },
   "outputs": [
    {
     "data": {
      "text/html": [
       "<div>\n",
       "<style scoped>\n",
       "    .dataframe tbody tr th:only-of-type {\n",
       "        vertical-align: middle;\n",
       "    }\n",
       "\n",
       "    .dataframe tbody tr th {\n",
       "        vertical-align: top;\n",
       "    }\n",
       "\n",
       "    .dataframe thead th {\n",
       "        text-align: right;\n",
       "    }\n",
       "</style>\n",
       "<table border=\"1\" class=\"dataframe\">\n",
       "  <thead>\n",
       "    <tr style=\"text-align: right;\">\n",
       "      <th></th>\n",
       "      <th>text</th>\n",
       "      <th>label</th>\n",
       "    </tr>\n",
       "  </thead>\n",
       "  <tbody>\n",
       "    <tr>\n",
       "      <th>0</th>\n",
       "      <td>mexico city reuters fourteen people shot dead ...</td>\n",
       "      <td>1.0</td>\n",
       "    </tr>\n",
       "    <tr>\n",
       "      <th>1</th>\n",
       "      <td>another successful cleansing history like next...</td>\n",
       "      <td>0.0</td>\n",
       "    </tr>\n",
       "    <tr>\n",
       "      <th>2</th>\n",
       "      <td>havana reuters cuba willing talk united state ...</td>\n",
       "      <td>1.0</td>\n",
       "    </tr>\n",
       "    <tr>\n",
       "      <th>3</th>\n",
       "      <td>celebrity news smith cut son jadens dreadlock ...</td>\n",
       "      <td>0.0</td>\n",
       "    </tr>\n",
       "    <tr>\n",
       "      <th>4</th>\n",
       "      <td>every website 404 page land type wrong address...</td>\n",
       "      <td>0.0</td>\n",
       "    </tr>\n",
       "    <tr>\n",
       "      <th>...</th>\n",
       "      <td>...</td>\n",
       "      <td>...</td>\n",
       "    </tr>\n",
       "    <tr>\n",
       "      <th>138665</th>\n",
       "      <td>trump get electric chair cheat debate like hil...</td>\n",
       "      <td>0.0</td>\n",
       "    </tr>\n",
       "    <tr>\n",
       "      <th>138666</th>\n",
       "      <td>barack obama delay suspend election hillary fo...</td>\n",
       "      <td>0.0</td>\n",
       "    </tr>\n",
       "    <tr>\n",
       "      <th>138667</th>\n",
       "      <td>strasbourgparis reuters president emmanuel mac...</td>\n",
       "      <td>1.0</td>\n",
       "    </tr>\n",
       "    <tr>\n",
       "      <th>138668</th>\n",
       "      <td>washington reuters president donald trump admi...</td>\n",
       "      <td>1.0</td>\n",
       "    </tr>\n",
       "    <tr>\n",
       "      <th>138669</th>\n",
       "      <td>want get briefing email good evening latest 1 ...</td>\n",
       "      <td>0.0</td>\n",
       "    </tr>\n",
       "  </tbody>\n",
       "</table>\n",
       "<p>138670 rows × 2 columns</p>\n",
       "</div>"
      ],
      "text/plain": [
       "                                                     text  label\n",
       "0       mexico city reuters fourteen people shot dead ...    1.0\n",
       "1       another successful cleansing history like next...    0.0\n",
       "2       havana reuters cuba willing talk united state ...    1.0\n",
       "3       celebrity news smith cut son jadens dreadlock ...    0.0\n",
       "4       every website 404 page land type wrong address...    0.0\n",
       "...                                                   ...    ...\n",
       "138665  trump get electric chair cheat debate like hil...    0.0\n",
       "138666  barack obama delay suspend election hillary fo...    0.0\n",
       "138667  strasbourgparis reuters president emmanuel mac...    1.0\n",
       "138668  washington reuters president donald trump admi...    1.0\n",
       "138669  want get briefing email good evening latest 1 ...    0.0\n",
       "\n",
       "[138670 rows x 2 columns]"
      ]
     },
     "execution_count": 14,
     "metadata": {},
     "output_type": "execute_result"
    }
   ],
   "source": [
    "df[\"text\"] = df[\"text\"].apply(preprocess_text)\n",
    "# df = df.dropna()\n",
    "df"
   ]
  },
  {
   "cell_type": "code",
   "execution_count": 15,
   "metadata": {},
   "outputs": [
    {
     "name": "stdout",
     "output_type": "stream",
     "text": [
      "Number of words before filtering: minimum=0   maximum=5105\n",
      "Number of words before filtering: minimum=10   maximum=550\n"
     ]
    }
   ],
   "source": [
    "# filter the rows with less than 20 words\n",
    "word_count = df['text'].str.split().str.len()\n",
    "print(f\"Number of words before filtering: minimum={int(word_count.min())}   maximum={int(word_count.max())}\")\n",
    "df = df[df['text'].str.split().str.len().gt(9) & df['text'].str.split().str.len().lt(551)]\n",
    "word_count = df['text'].str.split().str.len()\n",
    "print(f\"Number of words before filtering: minimum={int(word_count.min())}   maximum={int(word_count.max())}\")"
   ]
  },
  {
   "cell_type": "code",
   "execution_count": 16,
   "metadata": {},
   "outputs": [
    {
     "data": {
      "image/png": "[encoded data removed]",
      "text/plain": [
       "<Figure size 1500x700 with 1 Axes>"
      ]
     },
     "metadata": {},
     "output_type": "display_data"
    }
   ],
   "source": [
    "# Check for outliers after filtering\n",
    "plt.figure(figsize=(15, 7))\n",
    "plt.boxplot(df['text'].str.split().str.len(), labels=[\"word_count\"], vert=False, patch_artist=True)\n",
    "plt.xlabel(\"Series Name\")\n",
    "plt.ylabel(\"Value\")\n",
    "plt.title(\"Boxplot of number of words after filtering\")\n",
    "plt.grid(True)\n",
    "boxes = plt.gca().get_children()[0]\n",
    "boxes.set_facecolor('lightblue')\n",
    "plt.show()"
   ]
  },
  {
   "cell_type": "code",
   "execution_count": 17,
   "metadata": {
    "scrolled": false
   },
   "outputs": [
    {
     "data": {
      "text/plain": [
       "label\n",
       "0.0    61251\n",
       "1.0    57967\n",
       "Name: count, dtype: int64"
      ]
     },
     "execution_count": 17,
     "metadata": {},
     "output_type": "execute_result"
    }
   ],
   "source": [
    "df['label'].value_counts()"
   ]
  },
  {
   "cell_type": "code",
   "execution_count": 18,
   "metadata": {},
   "outputs": [
    {
     "data": {
      "text/plain": [
       "label\n",
       "1.0    57967\n",
       "0.0    57967\n",
       "Name: count, dtype: int64"
      ]
     },
     "execution_count": 18,
     "metadata": {},
     "output_type": "execute_result"
    }
   ],
   "source": [
    "num_to_drop = 3284\n",
    "\n",
    "# Get indices of the first 'num_to_drop' rows with label 0\n",
    "drop_indices = df[df['label'] == 0].index[:num_to_drop]\n",
    "\n",
    "# Drop rows based on indices\n",
    "df = df.drop(drop_indices)\n",
    "df['label'].value_counts()"
   ]
  },
  {
   "cell_type": "code",
   "execution_count": 19,
   "metadata": {},
   "outputs": [
    {
     "data": {
      "text/html": [
       "<div>\n",
       "<style scoped>\n",
       "    .dataframe tbody tr th:only-of-type {\n",
       "        vertical-align: middle;\n",
       "    }\n",
       "\n",
       "    .dataframe tbody tr th {\n",
       "        vertical-align: top;\n",
       "    }\n",
       "\n",
       "    .dataframe thead th {\n",
       "        text-align: right;\n",
       "    }\n",
       "</style>\n",
       "<table border=\"1\" class=\"dataframe\">\n",
       "  <thead>\n",
       "    <tr style=\"text-align: right;\">\n",
       "      <th></th>\n",
       "      <th>text</th>\n",
       "      <th>label</th>\n",
       "    </tr>\n",
       "  </thead>\n",
       "  <tbody>\n",
       "    <tr>\n",
       "      <th>0</th>\n",
       "      <td>mexico city reuters fourteen people shot dead ...</td>\n",
       "      <td>1.0</td>\n",
       "    </tr>\n",
       "    <tr>\n",
       "      <th>2</th>\n",
       "      <td>havana reuters cuba willing talk united state ...</td>\n",
       "      <td>1.0</td>\n",
       "    </tr>\n",
       "    <tr>\n",
       "      <th>7</th>\n",
       "      <td>military aircraft crash syria injure two offic...</td>\n",
       "      <td>1.0</td>\n",
       "    </tr>\n",
       "    <tr>\n",
       "      <th>9</th>\n",
       "      <td>syria syrian force patrol area awijah advance ...</td>\n",
       "      <td>1.0</td>\n",
       "    </tr>\n",
       "    <tr>\n",
       "      <th>11</th>\n",
       "      <td>actor mandy patinkin maybe white men military ...</td>\n",
       "      <td>1.0</td>\n",
       "    </tr>\n",
       "    <tr>\n",
       "      <th>...</th>\n",
       "      <td>...</td>\n",
       "      <td>...</td>\n",
       "    </tr>\n",
       "    <tr>\n",
       "      <th>138663</th>\n",
       "      <td>happens lung brain mood use himalayan salt lam...</td>\n",
       "      <td>0.0</td>\n",
       "    </tr>\n",
       "    <tr>\n",
       "      <th>138664</th>\n",
       "      <td>report copyright violation sense giant earthqu...</td>\n",
       "      <td>0.0</td>\n",
       "    </tr>\n",
       "    <tr>\n",
       "      <th>138665</th>\n",
       "      <td>trump get electric chair cheat debate like hil...</td>\n",
       "      <td>0.0</td>\n",
       "    </tr>\n",
       "    <tr>\n",
       "      <th>138667</th>\n",
       "      <td>strasbourgparis reuters president emmanuel mac...</td>\n",
       "      <td>1.0</td>\n",
       "    </tr>\n",
       "    <tr>\n",
       "      <th>138669</th>\n",
       "      <td>want get briefing email good evening latest 1 ...</td>\n",
       "      <td>0.0</td>\n",
       "    </tr>\n",
       "  </tbody>\n",
       "</table>\n",
       "<p>115934 rows × 2 columns</p>\n",
       "</div>"
      ],
      "text/plain": [
       "                                                     text  label\n",
       "0       mexico city reuters fourteen people shot dead ...    1.0\n",
       "2       havana reuters cuba willing talk united state ...    1.0\n",
       "7       military aircraft crash syria injure two offic...    1.0\n",
       "9       syria syrian force patrol area awijah advance ...    1.0\n",
       "11      actor mandy patinkin maybe white men military ...    1.0\n",
       "...                                                   ...    ...\n",
       "138663  happens lung brain mood use himalayan salt lam...    0.0\n",
       "138664  report copyright violation sense giant earthqu...    0.0\n",
       "138665  trump get electric chair cheat debate like hil...    0.0\n",
       "138667  strasbourgparis reuters president emmanuel mac...    1.0\n",
       "138669  want get briefing email good evening latest 1 ...    0.0\n",
       "\n",
       "[115934 rows x 2 columns]"
      ]
     },
     "execution_count": 19,
     "metadata": {},
     "output_type": "execute_result"
    }
   ],
   "source": [
    "df"
   ]
  },
  {
   "cell_type": "code",
   "execution_count": 20,
   "metadata": {},
   "outputs": [],
   "source": [
    "df.to_csv(\"..\\..\\df_processed.csv\", index=False)"
   ]
  },
  {
   "cell_type": "code",
   "execution_count": 21,
   "metadata": {},
   "outputs": [
    {
     "data": {
      "text/html": [
       "<div>\n",
       "<style scoped>\n",
       "    .dataframe tbody tr th:only-of-type {\n",
       "        vertical-align: middle;\n",
       "    }\n",
       "\n",
       "    .dataframe tbody tr th {\n",
       "        vertical-align: top;\n",
       "    }\n",
       "\n",
       "    .dataframe thead th {\n",
       "        text-align: right;\n",
       "    }\n",
       "</style>\n",
       "<table border=\"1\" class=\"dataframe\">\n",
       "  <thead>\n",
       "    <tr style=\"text-align: right;\">\n",
       "      <th></th>\n",
       "      <th>text</th>\n",
       "      <th>label</th>\n",
       "    </tr>\n",
       "  </thead>\n",
       "  <tbody>\n",
       "    <tr>\n",
       "      <th>0</th>\n",
       "      <td>mexico city reuters fourteen people shot dead ...</td>\n",
       "      <td>1.0</td>\n",
       "    </tr>\n",
       "    <tr>\n",
       "      <th>1</th>\n",
       "      <td>havana reuters cuba willing talk united state ...</td>\n",
       "      <td>1.0</td>\n",
       "    </tr>\n",
       "    <tr>\n",
       "      <th>2</th>\n",
       "      <td>military aircraft crash syria injure two offic...</td>\n",
       "      <td>1.0</td>\n",
       "    </tr>\n",
       "    <tr>\n",
       "      <th>3</th>\n",
       "      <td>syria syrian force patrol area awijah advance ...</td>\n",
       "      <td>1.0</td>\n",
       "    </tr>\n",
       "    <tr>\n",
       "      <th>4</th>\n",
       "      <td>actor mandy patinkin maybe white men military ...</td>\n",
       "      <td>1.0</td>\n",
       "    </tr>\n",
       "    <tr>\n",
       "      <th>...</th>\n",
       "      <td>...</td>\n",
       "      <td>...</td>\n",
       "    </tr>\n",
       "    <tr>\n",
       "      <th>115929</th>\n",
       "      <td>happens lung brain mood use himalayan salt lam...</td>\n",
       "      <td>0.0</td>\n",
       "    </tr>\n",
       "    <tr>\n",
       "      <th>115930</th>\n",
       "      <td>report copyright violation sense giant earthqu...</td>\n",
       "      <td>0.0</td>\n",
       "    </tr>\n",
       "    <tr>\n",
       "      <th>115931</th>\n",
       "      <td>trump get electric chair cheat debate like hil...</td>\n",
       "      <td>0.0</td>\n",
       "    </tr>\n",
       "    <tr>\n",
       "      <th>115932</th>\n",
       "      <td>strasbourgparis reuters president emmanuel mac...</td>\n",
       "      <td>1.0</td>\n",
       "    </tr>\n",
       "    <tr>\n",
       "      <th>115933</th>\n",
       "      <td>want get briefing email good evening latest 1 ...</td>\n",
       "      <td>0.0</td>\n",
       "    </tr>\n",
       "  </tbody>\n",
       "</table>\n",
       "<p>115934 rows × 2 columns</p>\n",
       "</div>"
      ],
      "text/plain": [
       "                                                     text  label\n",
       "0       mexico city reuters fourteen people shot dead ...    1.0\n",
       "1       havana reuters cuba willing talk united state ...    1.0\n",
       "2       military aircraft crash syria injure two offic...    1.0\n",
       "3       syria syrian force patrol area awijah advance ...    1.0\n",
       "4       actor mandy patinkin maybe white men military ...    1.0\n",
       "...                                                   ...    ...\n",
       "115929  happens lung brain mood use himalayan salt lam...    0.0\n",
       "115930  report copyright violation sense giant earthqu...    0.0\n",
       "115931  trump get electric chair cheat debate like hil...    0.0\n",
       "115932  strasbourgparis reuters president emmanuel mac...    1.0\n",
       "115933  want get briefing email good evening latest 1 ...    0.0\n",
       "\n",
       "[115934 rows x 2 columns]"
      ]
     },
     "execution_count": 21,
     "metadata": {},
     "output_type": "execute_result"
    }
   ],
   "source": [
    "df = pd.read_csv(\"..\\..\\df_processed.csv\")\n",
    "# df = df.dropna()\n",
    "df"
   ]
  },
  {
   "cell_type": "markdown",
   "metadata": {},
   "source": [
    "# TF-IDF"
   ]
  },
  {
   "cell_type": "code",
   "execution_count": 22,
   "metadata": {
    "scrolled": false
   },
   "outputs": [
    {
     "name": "stdout",
     "output_type": "stream",
     "text": [
      "  (0, 282539)\t0.0681051269442242\n",
      "  (0, 278397)\t0.06164326617148735\n",
      "  (0, 277045)\t0.09764903970459088\n",
      "  (0, 275415)\t0.03419864854103555\n",
      "  (0, 271138)\t0.052737657409840245\n",
      "  (0, 271039)\t0.044983701879157185\n",
      "  (0, 265691)\t0.029144221771033388\n",
      "  (0, 263231)\t0.05295162702066629\n",
      "  (0, 261569)\t0.03392451755344192\n",
      "  (0, 257382)\t0.08550110063810172\n",
      "  (0, 251149)\t0.10974306260675874\n",
      "  (0, 241336)\t0.04335171158290333\n",
      "  (0, 238840)\t0.08585530781063674\n",
      "  (0, 237383)\t0.08247592957068804\n",
      "  (0, 237324)\t0.10798944902257927\n",
      "  (0, 234694)\t0.05489981625551812\n",
      "  (0, 234212)\t0.08510732854473775\n",
      "  (0, 232031)\t0.05821240779802415\n",
      "  (0, 232022)\t0.10171259049973642\n",
      "  (0, 230458)\t0.048232244664834605\n",
      "  (0, 230216)\t0.05700863430534782\n",
      "  (0, 220958)\t0.11866926498770082\n",
      "  (0, 220153)\t0.10193552873414906\n",
      "  (0, 218870)\t0.1275370113672957\n",
      "  (0, 218501)\t0.10798944902257927\n",
      "  :\t:\n",
      "  (115933, 33853)\t0.03950135525493983\n",
      "  (115933, 33701)\t0.03587018303132377\n",
      "  (115933, 32386)\t0.046784085275570875\n",
      "  (115933, 31904)\t0.02763115547410559\n",
      "  (115933, 31813)\t0.03033631697145219\n",
      "  (115933, 29706)\t0.020888055526042944\n",
      "  (115933, 29453)\t0.06198558967249288\n",
      "  (115933, 28278)\t0.03210881618651566\n",
      "  (115933, 28260)\t0.03313051085054674\n",
      "  (115933, 28240)\t0.05106281084816391\n",
      "  (115933, 28232)\t0.0313812033501751\n",
      "  (115933, 27665)\t0.026127690494138645\n",
      "  (115933, 25980)\t0.0389113818486148\n",
      "  (115933, 23719)\t0.013525489925630381\n",
      "  (115933, 22242)\t0.16489218035074174\n",
      "  (115933, 20771)\t0.030891186615293473\n",
      "  (115933, 20002)\t0.031375867867622316\n",
      "  (115933, 17975)\t0.034874424680670285\n",
      "  (115933, 16727)\t0.05985029902685143\n",
      "  (115933, 15558)\t0.5075446433080865\n",
      "  (115933, 14885)\t0.054320424633182034\n",
      "  (115933, 13382)\t0.0772257624937185\n",
      "  (115933, 10305)\t0.04455774353640431\n",
      "  (115933, 2414)\t0.05374352903593729\n",
      "  (115933, 1228)\t0.03343863336050301\n"
     ]
    }
   ],
   "source": [
    "from sklearn.feature_extraction.text import CountVectorizer\n",
    "from sklearn.feature_extraction.text import TfidfTransformer\n",
    "count_vectorizer = CountVectorizer(ngram_range=(1, 1))\n",
    "#1 1 unigrams only , 1 2 uniand bigrams ,  3 3 trigrams only\n",
    "tfidf_transformer = TfidfTransformer(smooth_idf=False)\n",
    "counts = count_vectorizer.fit_transform(df['text'].values)\n",
    "#matrix of token counts // sparse matrix \n",
    "tfidf = tfidf_transformer.fit_transform(counts)\n",
    "print(tfidf)"
   ]
  },
  {
   "cell_type": "code",
   "execution_count": 23,
   "metadata": {},
   "outputs": [
    {
     "data": {
      "text/plain": [
       "{'mexico': 156315,\n",
       " 'city': 56519,\n",
       " 'reuters': 215254,\n",
       " 'fourteen': 98484,\n",
       " 'people': 183567,\n",
       " 'shot': 230458,\n",
       " 'dead': 70457,\n",
       " 'tuesday': 261569,\n",
       " 'night': 168568,\n",
       " 'drug': 80399}"
      ]
     },
     "execution_count": 23,
     "metadata": {},
     "output_type": "execute_result"
    }
   ],
   "source": [
    "import itertools\n",
    "dict(itertools.islice(count_vectorizer.vocabulary_.items(), 10)) "
   ]
  },
  {
   "cell_type": "markdown",
   "metadata": {},
   "source": [
    "# Spliting to training set and test set"
   ]
  },
  {
   "cell_type": "code",
   "execution_count": 24,
   "metadata": {},
   "outputs": [],
   "source": [
    "x_train, x_test, y_train, y_test = train_test_split(tfidf, df['label'], test_size=0.2 , shuffle=False)"
   ]
  },
  {
   "cell_type": "code",
   "execution_count": 25,
   "metadata": {},
   "outputs": [],
   "source": [
    "def train(model , name):\n",
    "    model.fit(x_train,y_train)\n",
    "    print(f\"Training accuracy of {name} is {round(model.score(x_train, y_train) * 100, 3)}%\")\n",
    "    print(f\"Testing accuracy of {name} is {round(model.score(x_test, y_test) * 100, 3)}%\")\n",
    "    print()\n",
    "    return round(model.score(x_test, y_test) * 100, 3)\n",
    "    \n",
    "def conf_matrix(model):\n",
    "    ConfusionMatrixDisplay.from_estimator(model, x_test, y_test)\n",
    "    \n",
    "def class_report(model):\n",
    "    print(classification_report(y_test, model.predict(x_test)))"
   ]
  },
  {
   "cell_type": "markdown",
   "metadata": {},
   "source": [
    "Recall = TP / (TP + FN)\n",
    "Precision = TP / (TP + FP)\n",
    "F1 = 2 * (Precision * Recall) / (Precision + Recall)\n",
    "\n",
    "\n",
    "True Positive (TP)       |        True Negative (TN)\n",
    "-------               -------\n",
    "True Negative (FN)        |        False Positive (FP)"
   ]
  },
  {
   "cell_type": "markdown",
   "metadata": {},
   "source": [
    "# Decision Tree"
   ]
  },
  {
   "cell_type": "code",
   "execution_count": 26,
   "metadata": {},
   "outputs": [
    {
     "name": "stdout",
     "output_type": "stream",
     "text": [
      "Training accuracy of Decision Tree is 89.646%\n",
      "Testing accuracy of Decision Tree is 88.808%\n",
      "\n",
      "              precision    recall  f1-score   support\n",
      "\n",
      "         0.0       0.84      0.96      0.90     11836\n",
      "         1.0       0.95      0.82      0.88     11351\n",
      "\n",
      "    accuracy                           0.89     23187\n",
      "   macro avg       0.90      0.89      0.89     23187\n",
      "weighted avg       0.90      0.89      0.89     23187\n",
      "\n"
     ]
    },
    {
     "data": {
      "image/png": "[encoded data removed]",
      "text/plain": [
       "<Figure size 640x480 with 2 Axes>"
      ]
     },
     "metadata": {},
     "output_type": "display_data"
    }
   ],
   "source": [
    "dt = DecisionTreeClassifier(criterion=\"entropy\",max_depth=10,random_state=42)\n",
    "dt_acc = train(dt, \"Decision Tree\")\n",
    "conf_matrix(dt)\n",
    "class_report(dt)"
   ]
  },
  {
   "cell_type": "markdown",
   "metadata": {},
   "source": [
    "# Random Forest"
   ]
  },
  {
   "cell_type": "code",
   "execution_count": 27,
   "metadata": {},
   "outputs": [
    {
     "name": "stdout",
     "output_type": "stream",
     "text": [
      "Training accuracy of Random Forest is 93.342%\n",
      "Testing accuracy of Random Forest is 77.957%\n",
      "\n",
      "              precision    recall  f1-score   support\n",
      "\n",
      "         0.0       0.78      0.80      0.79     11836\n",
      "         1.0       0.78      0.76      0.77     11351\n",
      "\n",
      "    accuracy                           0.78     23187\n",
      "   macro avg       0.78      0.78      0.78     23187\n",
      "weighted avg       0.78      0.78      0.78     23187\n",
      "\n"
     ]
    },
    {
     "data": {
      "image/png": "[encoded data removed]",
      "text/plain": [
       "<Figure size 640x480 with 2 Axes>"
      ]
     },
     "metadata": {},
     "output_type": "display_data"
    }
   ],
   "source": [
    "rf = RandomForestClassifier(criterion=\"entropy\", max_depth=100, n_estimators=10, n_jobs=-1, random_state=42)\n",
    "rf_acc = train(rf, \"Random Forest\")\n",
    "conf_matrix(rf)\n",
    "class_report(rf)"
   ]
  },
  {
   "cell_type": "markdown",
   "metadata": {},
   "source": [
    "# Choosing the best model"
   ]
  },
  {
   "cell_type": "code",
   "execution_count": 28,
   "metadata": {},
   "outputs": [
    {
     "data": {
      "image/png": "[encoded data removed]",
      "text/plain": [
       "<Figure size 1250x500 with 1 Axes>"
      ]
     },
     "metadata": {},
     "output_type": "display_data"
    }
   ],
   "source": [
    "models = [\"Decision Tree\", \"Random Forest\"]\n",
    "\n",
    "accuracies = [dt_acc, rf_acc]\n",
    "\n",
    "colors = [\"blue\", \"orange\"]\n",
    "\n",
    "plt.figure(figsize=(12.5, 5))\n",
    "plt.bar(models, accuracies, color=colors)\n",
    "plt.xlabel(\"Models\")\n",
    "plt.ylabel(\"Accuracy\")\n",
    "plt.title(\"Model Accuracy Comparison\")\n",
    "for i in range(len(models)):\n",
    "        plt.text(i, accuracies[i], accuracies[i], ha = 'center')\n",
    "plt.tight_layout()\n",
    "plt.show()"
   ]
  },
  {
   "cell_type": "markdown",
   "metadata": {},
   "source": [
    "### Clearly Decision Tree has the hightest accuracy so we will save it for deployment"
   ]
  },
  {
   "cell_type": "markdown",
   "metadata": {},
   "source": [
    "# Save the TF-IDF and model objects"
   ]
  },
  {
   "cell_type": "code",
   "execution_count": 29,
   "metadata": {},
   "outputs": [],
   "source": [
    "# pickle.dump(count_vectorizer, open('../api/vectorizer.pkl', 'wb'))"
   ]
  },
  {
   "cell_type": "code",
   "execution_count": 30,
   "metadata": {},
   "outputs": [],
   "source": [
    "# pickle.dump(tfidf_transformer, open('../api/transformer.pkl', 'wb'))"
   ]
  },
  {
   "cell_type": "code",
   "execution_count": 31,
   "metadata": {},
   "outputs": [],
   "source": [
    "# pickle.dump(dt, open('../api/dt.pkl', 'wb'))"
   ]
  },
  {
   "cell_type": "markdown",
   "metadata": {},
   "source": [
    "# Load the TF-IDF and model objects"
   ]
  },
  {
   "cell_type": "code",
   "execution_count": 32,
   "metadata": {},
   "outputs": [],
   "source": [
    "vectorizer = pickle.load(open('../api/vectorizer.pkl', 'rb'))"
   ]
  },
  {
   "cell_type": "code",
   "execution_count": 33,
   "metadata": {},
   "outputs": [],
   "source": [
    "transformer = pickle.load(open('../api/transformer.pkl', 'rb'))"
   ]
  },
  {
   "cell_type": "code",
   "execution_count": 34,
   "metadata": {},
   "outputs": [],
   "source": [
    "model = pickle.load(open('../api/dt.pkl', 'rb'))"
   ]
  },
  {
   "cell_type": "markdown",
   "metadata": {},
   "source": [
    "# Classifing a single news article"
   ]
  },
  {
   "cell_type": "code",
   "execution_count": 35,
   "metadata": {},
   "outputs": [],
   "source": [
    "def fake_news(article):\n",
    "    article = preprocess_text(article)\n",
    "    article = [article]\n",
    "    article = vectorizer.transform(article)\n",
    "    article = transformer.transform(article)\n",
    "    prediction = model.predict(article)\n",
    "    return prediction[0]"
   ]
  },
  {
   "cell_type": "code",
   "execution_count": 36,
   "metadata": {},
   "outputs": [
    {
     "name": "stdout",
     "output_type": "stream",
     "text": [
      "FALSE NEWS!!!\n"
     ]
    }
   ],
   "source": [
    "article = \"\"\"There is a lot more than meets the eye to this mob , wait till you read this . &quot;Soon thereafter I resigned from Yang and took another job at the Florida Department of Transportation (FDOT). While there, I discovered some other illegal activities of Yang, who had contracts with FDOT, involving over-billing and defrauding of the State of Florida regarding contracts Nee was sentenced on October 7, 2004 by U.S. District Judge Gregory A. Presenell to three years of supervised probation and $100 fine. An illegal Chinese alien admitting to what is paramount to corporate if not treasonable espionage, and the guy gets a slap on the wrist. http://www.bradblog.com/?page_id=3526  now finding the connection to Serco via contracts ....\"\"\"\n",
    "ans = fake_news(article)\n",
    "if(ans == 0):\n",
    "    print(\"FALSE NEWS!!!\")\n",
    "else:\n",
    "    print(\"TRUE NEWS\")"
   ]
  },
  {
   "cell_type": "code",
   "execution_count": null,
   "metadata": {},
   "outputs": [],
   "source": [
    "article = \"\"\"patrick stewart literally pay guy vote donald trump image patrick stewart despise donald trump much make feel well pay guy vote himthe actor know captain picard star trek next generation xmen film franchise new orleans earlier week spot homeless man hold sign state exchange would vote trumpnot stewart give give four dollar top extra measure make forget humidity moment worth buck stewart write twitter complete image man signmade forget humidity moment worth buck pictwittercomlrveozmf patrick stewart sirpatstew may first time stewart slam donald trump week ago express vice believe anyone take trump antic seriously well course idea dreadful trump would antic call antic could possibly take seriously stewart make remark response ask donald trump extremism support among white supremacist group make late film green room stewart portray neonazi timelyclearly patrick stewart donald trump supporter blame donald trump scary political candidate presidential race fact man strong support white supremacist racist hate group could well end become leader free world nightmare close turn realityfaced kind person office perhaps give five dollar people keep voting trumpfeatured image via wikimedia\"\"\"\n",
    "article = preprocess_text(article)\n",
    "print(len(article.split()))\n",
    "article = [article]\n",
    "counts = count_vectorizer.transform(article)\n",
    "tfidf = tfidf_transformer.transform(counts)\n",
    "# print(f\"pac: {pac.predict(tfidf)}\")\n",
    "print(f\"dt: {dt.predict(tfidf)}\")\n",
    "leaf_node = model.apply(tfidf)\n",
    "probabilities = model.predict_proba(tfidf)\n",
    "print()\n",
    "# print(f\"lr: {lr.predict(tfidf)}\")\n",
    "# print(f\"sgd: {sgd.predict(tfidf)}\")\n",
    "# print(f\"mnb: {mnb.predict(tfidf)}\")\n",
    "# print(f\"abc: {abc.predict(tfidf)}\")"
   ]
  }
 ],
 "metadata": {
  "colab": {
   "provenance": []
  },
  "kernelspec": {
   "display_name": "Python 3 (ipykernel)",
   "language": "python",
   "name": "python3"
  },
  "language_info": {
   "codemirror_mode": {
    "name": "ipython",
    "version": 3
   },
   "file_extension": ".py",
   "mimetype": "text/x-python",
   "name": "python",
   "nbconvert_exporter": "python",
   "pygments_lexer": "ipython3",
   "version": "3.11.7"
  }
 },
 "nbformat": 4,
 "nbformat_minor": 1
}
