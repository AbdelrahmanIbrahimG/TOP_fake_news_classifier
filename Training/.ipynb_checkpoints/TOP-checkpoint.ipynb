{
 "cells": [
  {
   "cell_type": "markdown",
   "metadata": {
    "id": "9WFwa7M7xrsw"
   },
   "source": [
    "# Importing the libs"
   ]
  },
  {
   "cell_type": "code",
   "execution_count": 1,
   "metadata": {
    "colab": {
     "base_uri": "https://localhost:8080/"
    },
    "id": "AoMFY-4RxxKP",
    "outputId": "917c8b82-aa70-4bbb-aaf3-847606ac4a00"
   },
   "outputs": [
    {
     "name": "stderr",
     "output_type": "stream",
     "text": [
      "[nltk_data] Downloading package stopwords to\n",
      "[nltk_data]     C:\\Users\\alihi\\AppData\\Roaming\\nltk_data...\n",
      "[nltk_data]   Package stopwords is already up-to-date!\n"
     ]
    },
    {
     "data": {
      "text/plain": [
       "True"
      ]
     },
     "execution_count": 1,
     "metadata": {},
     "output_type": "execute_result"
    }
   ],
   "source": [
    "import numpy as np\n",
    "import pandas as pd\n",
    "import matplotlib.pyplot as plt\n",
    "import re\n",
    "import nltk\n",
    "import contractions\n",
    "from textblob import TextBlob\n",
    "from nltk.corpus import stopwords\n",
    "from nltk.tokenize import word_tokenize\n",
    "from nltk.stem import WordNetLemmatizer\n",
    "from sklearn.feature_extraction.text import TfidfVectorizer\n",
    "from sklearn.model_selection import train_test_split\n",
    "from sklearn.metrics import accuracy_score, confusion_matrix, classification_report, ConfusionMatrixDisplay, roc_curve\n",
    "from sklearn.linear_model import LogisticRegressionCV\n",
    "from sklearn.tree import DecisionTreeClassifier\n",
    "from sklearn.naive_bayes import MultinomialNB, GaussianNB, ComplementNB\n",
    "from sklearn.svm import SVC\n",
    "from sklearn.linear_model import SGDClassifier\n",
    "from sklearn.ensemble import RandomForestClassifier\n",
    "from sklearn.linear_model import PassiveAggressiveClassifier\n",
    "import pickle\n",
    "\n",
    "# !pip install contractions\n",
    "nltk.download('stopwords')"
   ]
  },
  {
   "cell_type": "markdown",
   "metadata": {
    "id": "eKwx-2awzIzJ"
   },
   "source": [
    "# Defined methods"
   ]
  },
  {
   "cell_type": "code",
   "execution_count": 2,
   "metadata": {
    "id": "wzUZN53izM9o"
   },
   "outputs": [],
   "source": [
    "def clean_text(text):\n",
    "    # \\S matches any character that is not a space tab newline\n",
    "    text = re.sub(r'http\\S+', '', text)\n",
    "    #remove emojis\n",
    "    text = text.encode('ascii', 'ignore').decode('ascii')\n",
    "    # igore => specifies how to handle characters that cannot be represented in ASCII\n",
    "    # remove htmk tags  => . any char except newline\n",
    "    text = re.sub(r'<.*>', '', text)\n",
    "    # remove punctiuations\n",
    "    text = re.sub(r'[^\\w\\s]', '', text)\n",
    "    return text\n",
    "\n",
    "def remove_stopwords(text):\n",
    "    words = word_tokenize(text)\n",
    "    english_stopwords = set(stopwords.words('english'))\n",
    "    filtered_words = []\n",
    "    for word in words:\n",
    "        if word.lower() not in english_stopwords:\n",
    "            filtered_words.append(word)\n",
    "    filtered_text = ' '.join(filtered_words)\n",
    "    return filtered_text\n",
    "\n",
    "def spell_check_and_correction(text):\n",
    "    blob = TextBlob(text)\n",
    "    corrected_text = str(blob.correct())\n",
    "    return corrected_text\n",
    "\n",
    "def to_lower(s):\n",
    "    return s.lower()\n",
    "\n",
    "def expanding_contractions(text):\n",
    "    return contractions.fix(text)\n",
    "\n",
    "def lemmatization(text):\n",
    "    text_tokenized = []\n",
    "    \n",
    "    words = nltk.word_tokenize(text) #Tokenize\n",
    "\n",
    "    lemmatizer = WordNetLemmatizer()\n",
    "    \n",
    "    for word in words:\n",
    "        text_tokenized.append(lemmatizer.lemmatize(word)) #lemmatize\n",
    "    \n",
    "    text_tokenized = ' '.join(text_tokenized)\n",
    "    \n",
    "    return text_tokenized"
   ]
  },
  {
   "cell_type": "code",
   "execution_count": 3,
   "metadata": {
    "id": "VDf9tZIZ_mWy",
    "scrolled": false
   },
   "outputs": [],
   "source": [
    "def preprocess_text(text):\n",
    "    text = clean_text(text)\n",
    "#     text = spell_check_and_correction(text)\n",
    "    text = expanding_contractions(text)\n",
    "    text = remove_stopwords(text)\n",
    "    text = to_lower(text)\n",
    "    text = lemmatization(text)\n",
    "    return text\n",
    "\n",
    "# Testing the methods\n",
    "# print(preprocess_text(\"print they should pay all the back all the money plus interest the entire family and everyone who came in with them need to be deported asap why didn't it take two years to bust them here we go again another group stealing from the government and taxpayers a group of somalis stole over four million in government benefits over just  months weve reported on numerous cases like this one where the muslim refugeesimmigrants commit fraud by scamming our systemits way out of control more related\"))"
   ]
  },
  {
   "cell_type": "markdown",
   "metadata": {},
   "source": [
    "# Data analysis"
   ]
  },
  {
   "cell_type": "code",
   "execution_count": 4,
   "metadata": {
    "colab": {
     "base_uri": "https://localhost:8080/",
     "height": 112
    },
    "id": "jeCPjdzYyYfy",
    "outputId": "b4c76d63-386b-4433-c83e-63ab88865fe2"
   },
   "outputs": [
    {
     "data": {
      "text/html": [
       "<div>\n",
       "<style scoped>\n",
       "    .dataframe tbody tr th:only-of-type {\n",
       "        vertical-align: middle;\n",
       "    }\n",
       "\n",
       "    .dataframe tbody tr th {\n",
       "        vertical-align: top;\n",
       "    }\n",
       "\n",
       "    .dataframe thead th {\n",
       "        text-align: right;\n",
       "    }\n",
       "</style>\n",
       "<table border=\"1\" class=\"dataframe\">\n",
       "  <thead>\n",
       "    <tr style=\"text-align: right;\">\n",
       "      <th></th>\n",
       "      <th>text</th>\n",
       "      <th>label</th>\n",
       "    </tr>\n",
       "  </thead>\n",
       "  <tbody>\n",
       "    <tr>\n",
       "      <th>0</th>\n",
       "      <td>Print They should pay all the back all the mon...</td>\n",
       "      <td>0.0</td>\n",
       "    </tr>\n",
       "    <tr>\n",
       "      <th>1</th>\n",
       "      <td>Why Did Attorney General Loretta Lynch Plead T...</td>\n",
       "      <td>0.0</td>\n",
       "    </tr>\n",
       "    <tr>\n",
       "      <th>2</th>\n",
       "      <td>Red State : \\nFox News Sunday reported this mo...</td>\n",
       "      <td>0.0</td>\n",
       "    </tr>\n",
       "    <tr>\n",
       "      <th>3</th>\n",
       "      <td>Email Kayla Mueller was a prisoner and torture...</td>\n",
       "      <td>0.0</td>\n",
       "    </tr>\n",
       "    <tr>\n",
       "      <th>4</th>\n",
       "      <td>Email HEALTHCARE REFORM TO MAKE AMERICA GREAT ...</td>\n",
       "      <td>0.0</td>\n",
       "    </tr>\n",
       "    <tr>\n",
       "      <th>...</th>\n",
       "      <td>...</td>\n",
       "      <td>...</td>\n",
       "    </tr>\n",
       "    <tr>\n",
       "      <th>156785</th>\n",
       "      <td>LONDON (Reuters) - LexisNexis, a provider of l...</td>\n",
       "      <td>1.0</td>\n",
       "    </tr>\n",
       "    <tr>\n",
       "      <th>156786</th>\n",
       "      <td>MINSK (Reuters) - In the shadow of disused Sov...</td>\n",
       "      <td>1.0</td>\n",
       "    </tr>\n",
       "    <tr>\n",
       "      <th>156787</th>\n",
       "      <td>MOSCOW (Reuters) - Vatican Secretary of State ...</td>\n",
       "      <td>1.0</td>\n",
       "    </tr>\n",
       "    <tr>\n",
       "      <th>156788</th>\n",
       "      <td>JAKARTA (Reuters) - Indonesia will buy 11 Sukh...</td>\n",
       "      <td>1.0</td>\n",
       "    </tr>\n",
       "    <tr>\n",
       "      <th>156789</th>\n",
       "      <td>\u001a</td>\n",
       "      <td>NaN</td>\n",
       "    </tr>\n",
       "  </tbody>\n",
       "</table>\n",
       "<p>156790 rows × 2 columns</p>\n",
       "</div>"
      ],
      "text/plain": [
       "                                                     text  label\n",
       "0       Print They should pay all the back all the mon...    0.0\n",
       "1       Why Did Attorney General Loretta Lynch Plead T...    0.0\n",
       "2       Red State : \\nFox News Sunday reported this mo...    0.0\n",
       "3       Email Kayla Mueller was a prisoner and torture...    0.0\n",
       "4       Email HEALTHCARE REFORM TO MAKE AMERICA GREAT ...    0.0\n",
       "...                                                   ...    ...\n",
       "156785  LONDON (Reuters) - LexisNexis, a provider of l...    1.0\n",
       "156786  MINSK (Reuters) - In the shadow of disused Sov...    1.0\n",
       "156787  MOSCOW (Reuters) - Vatican Secretary of State ...    1.0\n",
       "156788  JAKARTA (Reuters) - Indonesia will buy 11 Sukh...    1.0\n",
       "156789                                                  \u001a    NaN\n",
       "\n",
       "[156790 rows x 2 columns]"
      ]
     },
     "execution_count": 4,
     "metadata": {},
     "output_type": "execute_result"
    }
   ],
   "source": [
    "df = pd.read_csv(\"..\\..\\dataset.csv\", encoding = \"latin1\")\n",
    "df"
   ]
  },
  {
   "cell_type": "code",
   "execution_count": 5,
   "metadata": {
    "colab": {
     "base_uri": "https://localhost:8080/"
    },
    "id": "GvH5D7O2TUqc",
    "outputId": "eb48a68d-5754-45ab-9968-14c746d4e60c"
   },
   "outputs": [
    {
     "name": "stdout",
     "output_type": "stream",
     "text": [
      "<class 'pandas.core.frame.DataFrame'>\n",
      "RangeIndex: 156790 entries, 0 to 156789\n",
      "Data columns (total 2 columns):\n",
      " #   Column  Non-Null Count   Dtype  \n",
      "---  ------  --------------   -----  \n",
      " 0   text    153247 non-null  object \n",
      " 1   label   151791 non-null  float64\n",
      "dtypes: float64(1), object(1)\n",
      "memory usage: 2.4+ MB\n"
     ]
    }
   ],
   "source": [
    "# specify a small information about the data\n",
    "df.info()"
   ]
  },
  {
   "cell_type": "code",
   "execution_count": 6,
   "metadata": {
    "colab": {
     "base_uri": "https://localhost:8080/"
    },
    "id": "BFNFgS9YTP18",
    "outputId": "50fd6438-e8e0-4fd1-9b62-6eca1c196a5f"
   },
   "outputs": [
    {
     "data": {
      "text/plain": [
       "label\n",
       "0.0    84308\n",
       "1.0    67483\n",
       "Name: count, dtype: int64"
      ]
     },
     "execution_count": 6,
     "metadata": {},
     "output_type": "execute_result"
    }
   ],
   "source": [
    "# display the number of each category with its data type\n",
    "df[\"label\"].value_counts()"
   ]
  },
  {
   "cell_type": "code",
   "execution_count": 7,
   "metadata": {
    "colab": {
     "base_uri": "https://localhost:8080/"
    },
    "id": "ptDzMYALTSzk",
    "outputId": "54f0c921-08ce-4257-b912-4d55aa627ec5"
   },
   "outputs": [
    {
     "data": {
      "text/plain": [
       "text     3543\n",
       "label    4999\n",
       "dtype: int64"
      ]
     },
     "execution_count": 7,
     "metadata": {},
     "output_type": "execute_result"
    }
   ],
   "source": [
    "# display the number of the nan values in each column\n",
    "df.isna().sum()"
   ]
  },
  {
   "cell_type": "code",
   "execution_count": 8,
   "metadata": {},
   "outputs": [
    {
     "data": {
      "text/plain": [
       "16621"
      ]
     },
     "execution_count": 8,
     "metadata": {},
     "output_type": "execute_result"
    }
   ],
   "source": [
    "# display the number of the duplicated rows\n",
    "df.duplicated().sum()"
   ]
  },
  {
   "cell_type": "code",
   "execution_count": 9,
   "metadata": {},
   "outputs": [
    {
     "name": "stdout",
     "output_type": "stream",
     "text": [
      "The minimum number of words: 0\n",
      "The maximum number of words: 5965\n"
     ]
    }
   ],
   "source": [
    "# display the minimum and maximum number of words in a row of the dataset\n",
    "word_count = df['text'].str.split().str.len()\n",
    "print(f\"The minimum number of words: {int(word_count.min())}\")\n",
    "print(f\"The maximum number of words: {int(word_count.max())}\")"
   ]
  },
  {
   "cell_type": "markdown",
   "metadata": {
    "id": "gKFisU-OyP2Q"
   },
   "source": [
    "# Data preprocssing"
   ]
  },
  {
   "cell_type": "code",
   "execution_count": 10,
   "metadata": {},
   "outputs": [
    {
     "data": {
      "text/plain": [
       "text     0\n",
       "label    0\n",
       "dtype: int64"
      ]
     },
     "execution_count": 10,
     "metadata": {},
     "output_type": "execute_result"
    }
   ],
   "source": [
    "# remove nan and -inf values\n",
    "df = df.dropna()\n",
    "df.isna().sum()"
   ]
  },
  {
   "cell_type": "code",
   "execution_count": 11,
   "metadata": {},
   "outputs": [
    {
     "name": "stderr",
     "output_type": "stream",
     "text": [
      "C:\\Users\\alihi\\AppData\\Local\\Temp\\ipykernel_11712\\922830353.py:2: SettingWithCopyWarning: \n",
      "A value is trying to be set on a copy of a slice from a DataFrame.\n",
      "Try using .loc[row_indexer,col_indexer] = value instead\n",
      "\n",
      "See the caveats in the documentation: https://pandas.pydata.org/pandas-docs/stable/user_guide/indexing.html#returning-a-view-versus-a-copy\n",
      "  df['label'] = df['label'].astype(int)\n"
     ]
    },
    {
     "data": {
      "text/plain": [
       "label\n",
       "0    84232\n",
       "1    67401\n",
       "Name: count, dtype: int64"
      ]
     },
     "execution_count": 11,
     "metadata": {},
     "output_type": "execute_result"
    }
   ],
   "source": [
    "# change the type of the label column to int\n",
    "df['label'] = df['label'].astype(int)\n",
    "df['label'].value_counts()"
   ]
  },
  {
   "cell_type": "code",
   "execution_count": 12,
   "metadata": {},
   "outputs": [
    {
     "data": {
      "text/plain": [
       "0"
      ]
     },
     "execution_count": 12,
     "metadata": {},
     "output_type": "execute_result"
    }
   ],
   "source": [
    "# drop the duplicates\n",
    "df = df.drop_duplicates()\n",
    "df.duplicated().sum()"
   ]
  },
  {
   "cell_type": "code",
   "execution_count": 13,
   "metadata": {},
   "outputs": [
    {
     "data": {
      "text/html": [
       "<div>\n",
       "<style scoped>\n",
       "    .dataframe tbody tr th:only-of-type {\n",
       "        vertical-align: middle;\n",
       "    }\n",
       "\n",
       "    .dataframe tbody tr th {\n",
       "        vertical-align: top;\n",
       "    }\n",
       "\n",
       "    .dataframe thead th {\n",
       "        text-align: right;\n",
       "    }\n",
       "</style>\n",
       "<table border=\"1\" class=\"dataframe\">\n",
       "  <thead>\n",
       "    <tr style=\"text-align: right;\">\n",
       "      <th></th>\n",
       "      <th>text</th>\n",
       "      <th>label</th>\n",
       "    </tr>\n",
       "  </thead>\n",
       "  <tbody>\n",
       "    <tr>\n",
       "      <th>0</th>\n",
       "      <td>texas lt governor use fake statistic defend ne...</td>\n",
       "      <td>0</td>\n",
       "    </tr>\n",
       "    <tr>\n",
       "      <th>1</th>\n",
       "      <td>inside conservative push state amend constitut...</td>\n",
       "      <td>1</td>\n",
       "    </tr>\n",
       "    <tr>\n",
       "      <th>2</th>\n",
       "      <td>There may have been a time, many years ago, wh...</td>\n",
       "      <td>0</td>\n",
       "    </tr>\n",
       "    <tr>\n",
       "      <th>3</th>\n",
       "      <td>get use obama dhs secretary say illegals effec...</td>\n",
       "      <td>0</td>\n",
       "    </tr>\n",
       "    <tr>\n",
       "      <th>4</th>\n",
       "      <td>By Maxine Bernstein | The Oregonian/OregonLive...</td>\n",
       "      <td>0</td>\n",
       "    </tr>\n",
       "    <tr>\n",
       "      <th>...</th>\n",
       "      <td>...</td>\n",
       "      <td>...</td>\n",
       "    </tr>\n",
       "    <tr>\n",
       "      <th>138665</th>\n",
       "      <td>Wed, 26 Oct 2016 21:12 UTC ÃÂ© Alice Martins/...</td>\n",
       "      <td>1</td>\n",
       "    </tr>\n",
       "    <tr>\n",
       "      <th>138666</th>\n",
       "      <td>homeless trump supporter post guard trump holl...</td>\n",
       "      <td>0</td>\n",
       "    </tr>\n",
       "    <tr>\n",
       "      <th>138667</th>\n",
       "      <td>\\n\\n \\nUPDATE: HILLARY CLINTON IS AGAIN UNDER ...</td>\n",
       "      <td>0</td>\n",
       "    </tr>\n",
       "    <tr>\n",
       "      <th>138668</th>\n",
       "      <td>even author bush torture memo say trump go far...</td>\n",
       "      <td>0</td>\n",
       "    </tr>\n",
       "    <tr>\n",
       "      <th>138669</th>\n",
       "      <td>chris wallace inhouse moderate fox news less p...</td>\n",
       "      <td>1</td>\n",
       "    </tr>\n",
       "  </tbody>\n",
       "</table>\n",
       "<p>138670 rows × 2 columns</p>\n",
       "</div>"
      ],
      "text/plain": [
       "                                                     text  label\n",
       "0       texas lt governor use fake statistic defend ne...      0\n",
       "1       inside conservative push state amend constitut...      1\n",
       "2       There may have been a time, many years ago, wh...      0\n",
       "3       get use obama dhs secretary say illegals effec...      0\n",
       "4       By Maxine Bernstein | The Oregonian/OregonLive...      0\n",
       "...                                                   ...    ...\n",
       "138665  Wed, 26 Oct 2016 21:12 UTC ÃÂ© Alice Martins/...      1\n",
       "138666  homeless trump supporter post guard trump holl...      0\n",
       "138667  \\n\\n \\nUPDATE: HILLARY CLINTON IS AGAIN UNDER ...      0\n",
       "138668  even author bush torture memo say trump go far...      0\n",
       "138669  chris wallace inhouse moderate fox news less p...      1\n",
       "\n",
       "[138670 rows x 2 columns]"
      ]
     },
     "execution_count": 13,
     "metadata": {},
     "output_type": "execute_result"
    }
   ],
   "source": [
    "# shuffle the rows\n",
    "df = df.sample(frac=1)\n",
    "df = df.reset_index(drop=True)\n",
    "df"
   ]
  },
  {
   "cell_type": "code",
   "execution_count": 14,
   "metadata": {
    "id": "zMbR2Z6JTfFU",
    "scrolled": true
   },
   "outputs": [
    {
     "data": {
      "text/html": [
       "<div>\n",
       "<style scoped>\n",
       "    .dataframe tbody tr th:only-of-type {\n",
       "        vertical-align: middle;\n",
       "    }\n",
       "\n",
       "    .dataframe tbody tr th {\n",
       "        vertical-align: top;\n",
       "    }\n",
       "\n",
       "    .dataframe thead th {\n",
       "        text-align: right;\n",
       "    }\n",
       "</style>\n",
       "<table border=\"1\" class=\"dataframe\">\n",
       "  <thead>\n",
       "    <tr style=\"text-align: right;\">\n",
       "      <th></th>\n",
       "      <th>text</th>\n",
       "      <th>label</th>\n",
       "    </tr>\n",
       "  </thead>\n",
       "  <tbody>\n",
       "    <tr>\n",
       "      <th>0</th>\n",
       "      <td>texas lt governor use fake statistic defend ne...</td>\n",
       "      <td>0</td>\n",
       "    </tr>\n",
       "    <tr>\n",
       "      <th>1</th>\n",
       "      <td>inside conservative push state amend constitut...</td>\n",
       "      <td>1</td>\n",
       "    </tr>\n",
       "    <tr>\n",
       "      <th>2</th>\n",
       "      <td>may time many year ago republican party gave c...</td>\n",
       "      <td>0</td>\n",
       "    </tr>\n",
       "    <tr>\n",
       "      <th>3</th>\n",
       "      <td>get use obama dhs secretary say illegals effec...</td>\n",
       "      <td>0</td>\n",
       "    </tr>\n",
       "    <tr>\n",
       "      <th>4</th>\n",
       "      <td>maxine bernstein oregonianoregonlive october 2...</td>\n",
       "      <td>0</td>\n",
       "    </tr>\n",
       "    <tr>\n",
       "      <th>...</th>\n",
       "      <td>...</td>\n",
       "      <td>...</td>\n",
       "    </tr>\n",
       "    <tr>\n",
       "      <th>138665</th>\n",
       "      <td>wed 26 oct 2016 2112 utc alice martinsthe wash...</td>\n",
       "      <td>1</td>\n",
       "    </tr>\n",
       "    <tr>\n",
       "      <th>138666</th>\n",
       "      <td>homeless trump supporter post guard trump holl...</td>\n",
       "      <td>0</td>\n",
       "    </tr>\n",
       "    <tr>\n",
       "      <th>138667</th>\n",
       "      <td>update hillary clinton investigation fbi indic...</td>\n",
       "      <td>0</td>\n",
       "    </tr>\n",
       "    <tr>\n",
       "      <th>138668</th>\n",
       "      <td>even author bush torture memo say trump go far...</td>\n",
       "      <td>0</td>\n",
       "    </tr>\n",
       "    <tr>\n",
       "      <th>138669</th>\n",
       "      <td>chris wallace inhouse moderate fox news le pre...</td>\n",
       "      <td>1</td>\n",
       "    </tr>\n",
       "  </tbody>\n",
       "</table>\n",
       "<p>138670 rows × 2 columns</p>\n",
       "</div>"
      ],
      "text/plain": [
       "                                                     text  label\n",
       "0       texas lt governor use fake statistic defend ne...      0\n",
       "1       inside conservative push state amend constitut...      1\n",
       "2       may time many year ago republican party gave c...      0\n",
       "3       get use obama dhs secretary say illegals effec...      0\n",
       "4       maxine bernstein oregonianoregonlive october 2...      0\n",
       "...                                                   ...    ...\n",
       "138665  wed 26 oct 2016 2112 utc alice martinsthe wash...      1\n",
       "138666  homeless trump supporter post guard trump holl...      0\n",
       "138667  update hillary clinton investigation fbi indic...      0\n",
       "138668  even author bush torture memo say trump go far...      0\n",
       "138669  chris wallace inhouse moderate fox news le pre...      1\n",
       "\n",
       "[138670 rows x 2 columns]"
      ]
     },
     "execution_count": 14,
     "metadata": {},
     "output_type": "execute_result"
    }
   ],
   "source": [
    "df[\"text\"] = df[\"text\"].apply(preprocess_text)\n",
    "df = df.dropna()\n",
    "df"
   ]
  },
  {
   "cell_type": "code",
   "execution_count": 15,
   "metadata": {},
   "outputs": [
    {
     "name": "stdout",
     "output_type": "stream",
     "text": [
      "Number of words before filtering: minimum=0   maximum=5105\n",
      "Number of words before filtering: minimum=10   maximum=550\n"
     ]
    }
   ],
   "source": [
    "# filter the rows with less than 20 words\n",
    "word_count = df['text'].str.split().str.len()\n",
    "print(f\"Number of words before filtering: minimum={int(word_count.min())}   maximum={int(word_count.max())}\")\n",
    "df = df[df['text'].str.split().str.len().gt(9) & df['text'].str.split().str.len().lt(551)]\n",
    "word_count = df['text'].str.split().str.len()\n",
    "print(f\"Number of words before filtering: minimum={int(word_count.min())}   maximum={int(word_count.max())}\")"
   ]
  },
  {
   "cell_type": "code",
   "execution_count": 16,
   "metadata": {},
   "outputs": [
    {
     "data": {
      "image/png": "[encoded data removed]",
      "text/plain": [
       "<Figure size 1500x700 with 1 Axes>"
      ]
     },
     "metadata": {},
     "output_type": "display_data"
    }
   ],
   "source": [
    "# Check for outliers after filtering\n",
    "plt.figure(figsize=(15, 7))\n",
    "plt.boxplot(df['text'].str.split().str.len(), labels=[\"word_count\"], vert=False, patch_artist=True)\n",
    "plt.xlabel(\"Series Name\")\n",
    "plt.ylabel(\"Value\")\n",
    "plt.title(\"Boxplot of number of words after filtering\")\n",
    "plt.grid(True)\n",
    "boxes = plt.gca().get_children()[0]\n",
    "boxes.set_facecolor('lightblue')\n",
    "plt.show()"
   ]
  },
  {
   "cell_type": "code",
   "execution_count": 17,
   "metadata": {
    "scrolled": false
   },
   "outputs": [
    {
     "data": {
      "text/plain": [
       "label\n",
       "0    61251\n",
       "1    57967\n",
       "Name: count, dtype: int64"
      ]
     },
     "execution_count": 17,
     "metadata": {},
     "output_type": "execute_result"
    }
   ],
   "source": [
    "df['label'].value_counts()"
   ]
  },
  {
   "cell_type": "code",
   "execution_count": 18,
   "metadata": {},
   "outputs": [
    {
     "data": {
      "text/plain": [
       "label\n",
       "1    57967\n",
       "0    57967\n",
       "Name: count, dtype: int64"
      ]
     },
     "execution_count": 18,
     "metadata": {},
     "output_type": "execute_result"
    }
   ],
   "source": [
    "num_to_drop = 3284\n",
    "\n",
    "# Get indices of the first 'num_to_drop' rows with label 0\n",
    "drop_indices = df[df['label'] == 0].index[:num_to_drop]\n",
    "\n",
    "# Drop rows based on indices\n",
    "df = df.drop(drop_indices)\n",
    "df['label'].value_counts()"
   ]
  },
  {
   "cell_type": "code",
   "execution_count": 19,
   "metadata": {},
   "outputs": [
    {
     "data": {
      "text/html": [
       "<div>\n",
       "<style scoped>\n",
       "    .dataframe tbody tr th:only-of-type {\n",
       "        vertical-align: middle;\n",
       "    }\n",
       "\n",
       "    .dataframe tbody tr th {\n",
       "        vertical-align: top;\n",
       "    }\n",
       "\n",
       "    .dataframe thead th {\n",
       "        text-align: right;\n",
       "    }\n",
       "</style>\n",
       "<table border=\"1\" class=\"dataframe\">\n",
       "  <thead>\n",
       "    <tr style=\"text-align: right;\">\n",
       "      <th></th>\n",
       "      <th>text</th>\n",
       "      <th>label</th>\n",
       "    </tr>\n",
       "  </thead>\n",
       "  <tbody>\n",
       "    <tr>\n",
       "      <th>5</th>\n",
       "      <td>trump twitter aug manufacture council policy f...</td>\n",
       "      <td>1</td>\n",
       "    </tr>\n",
       "    <tr>\n",
       "      <th>7</th>\n",
       "      <td>hanoi reuters u president barack obama said mo...</td>\n",
       "      <td>1</td>\n",
       "    </tr>\n",
       "    <tr>\n",
       "      <th>14</th>\n",
       "      <td>washington reuters president donald trump decl...</td>\n",
       "      <td>1</td>\n",
       "    </tr>\n",
       "    <tr>\n",
       "      <th>15</th>\n",
       "      <td>china chongqing vow purge former leader vile i...</td>\n",
       "      <td>1</td>\n",
       "    </tr>\n",
       "    <tr>\n",
       "      <th>16</th>\n",
       "      <td>japan seek fund boost missile range day north ...</td>\n",
       "      <td>1</td>\n",
       "    </tr>\n",
       "    <tr>\n",
       "      <th>...</th>\n",
       "      <td>...</td>\n",
       "      <td>...</td>\n",
       "    </tr>\n",
       "    <tr>\n",
       "      <th>138662</th>\n",
       "      <td>break news susan rice admits unmask person int...</td>\n",
       "      <td>0</td>\n",
       "    </tr>\n",
       "    <tr>\n",
       "      <th>138663</th>\n",
       "      <td>watch veteran rip trump new one defended count...</td>\n",
       "      <td>0</td>\n",
       "    </tr>\n",
       "    <tr>\n",
       "      <th>138664</th>\n",
       "      <td>senator mccain opposes obamacare repeal bill p...</td>\n",
       "      <td>1</td>\n",
       "    </tr>\n",
       "    <tr>\n",
       "      <th>138666</th>\n",
       "      <td>homeless trump supporter post guard trump holl...</td>\n",
       "      <td>0</td>\n",
       "    </tr>\n",
       "    <tr>\n",
       "      <th>138668</th>\n",
       "      <td>even author bush torture memo say trump go far...</td>\n",
       "      <td>0</td>\n",
       "    </tr>\n",
       "  </tbody>\n",
       "</table>\n",
       "<p>115934 rows × 2 columns</p>\n",
       "</div>"
      ],
      "text/plain": [
       "                                                     text  label\n",
       "5       trump twitter aug manufacture council policy f...      1\n",
       "7       hanoi reuters u president barack obama said mo...      1\n",
       "14      washington reuters president donald trump decl...      1\n",
       "15      china chongqing vow purge former leader vile i...      1\n",
       "16      japan seek fund boost missile range day north ...      1\n",
       "...                                                   ...    ...\n",
       "138662  break news susan rice admits unmask person int...      0\n",
       "138663  watch veteran rip trump new one defended count...      0\n",
       "138664  senator mccain opposes obamacare repeal bill p...      1\n",
       "138666  homeless trump supporter post guard trump holl...      0\n",
       "138668  even author bush torture memo say trump go far...      0\n",
       "\n",
       "[115934 rows x 2 columns]"
      ]
     },
     "execution_count": 19,
     "metadata": {},
     "output_type": "execute_result"
    }
   ],
   "source": [
    "df"
   ]
  },
  {
   "cell_type": "code",
   "execution_count": 20,
   "metadata": {},
   "outputs": [],
   "source": [
    "df.to_csv(\"..\\..\\df_processed.csv\", index=False)"
   ]
  },
  {
   "cell_type": "code",
   "execution_count": 4,
   "metadata": {},
   "outputs": [
    {
     "data": {
      "text/html": [
       "<div>\n",
       "<style scoped>\n",
       "    .dataframe tbody tr th:only-of-type {\n",
       "        vertical-align: middle;\n",
       "    }\n",
       "\n",
       "    .dataframe tbody tr th {\n",
       "        vertical-align: top;\n",
       "    }\n",
       "\n",
       "    .dataframe thead th {\n",
       "        text-align: right;\n",
       "    }\n",
       "</style>\n",
       "<table border=\"1\" class=\"dataframe\">\n",
       "  <thead>\n",
       "    <tr style=\"text-align: right;\">\n",
       "      <th></th>\n",
       "      <th>text</th>\n",
       "      <th>label</th>\n",
       "    </tr>\n",
       "  </thead>\n",
       "  <tbody>\n",
       "    <tr>\n",
       "      <th>0</th>\n",
       "      <td>trump twitter aug manufacture council policy f...</td>\n",
       "      <td>1</td>\n",
       "    </tr>\n",
       "    <tr>\n",
       "      <th>1</th>\n",
       "      <td>hanoi reuters u president barack obama said mo...</td>\n",
       "      <td>1</td>\n",
       "    </tr>\n",
       "    <tr>\n",
       "      <th>2</th>\n",
       "      <td>washington reuters president donald trump decl...</td>\n",
       "      <td>1</td>\n",
       "    </tr>\n",
       "    <tr>\n",
       "      <th>3</th>\n",
       "      <td>china chongqing vow purge former leader vile i...</td>\n",
       "      <td>1</td>\n",
       "    </tr>\n",
       "    <tr>\n",
       "      <th>4</th>\n",
       "      <td>japan seek fund boost missile range day north ...</td>\n",
       "      <td>1</td>\n",
       "    </tr>\n",
       "    <tr>\n",
       "      <th>...</th>\n",
       "      <td>...</td>\n",
       "      <td>...</td>\n",
       "    </tr>\n",
       "    <tr>\n",
       "      <th>115929</th>\n",
       "      <td>break news susan rice admits unmask person int...</td>\n",
       "      <td>0</td>\n",
       "    </tr>\n",
       "    <tr>\n",
       "      <th>115930</th>\n",
       "      <td>watch veteran rip trump new one defended count...</td>\n",
       "      <td>0</td>\n",
       "    </tr>\n",
       "    <tr>\n",
       "      <th>115931</th>\n",
       "      <td>senator mccain opposes obamacare repeal bill p...</td>\n",
       "      <td>1</td>\n",
       "    </tr>\n",
       "    <tr>\n",
       "      <th>115932</th>\n",
       "      <td>homeless trump supporter post guard trump holl...</td>\n",
       "      <td>0</td>\n",
       "    </tr>\n",
       "    <tr>\n",
       "      <th>115933</th>\n",
       "      <td>even author bush torture memo say trump go far...</td>\n",
       "      <td>0</td>\n",
       "    </tr>\n",
       "  </tbody>\n",
       "</table>\n",
       "<p>115934 rows × 2 columns</p>\n",
       "</div>"
      ],
      "text/plain": [
       "                                                     text  label\n",
       "0       trump twitter aug manufacture council policy f...      1\n",
       "1       hanoi reuters u president barack obama said mo...      1\n",
       "2       washington reuters president donald trump decl...      1\n",
       "3       china chongqing vow purge former leader vile i...      1\n",
       "4       japan seek fund boost missile range day north ...      1\n",
       "...                                                   ...    ...\n",
       "115929  break news susan rice admits unmask person int...      0\n",
       "115930  watch veteran rip trump new one defended count...      0\n",
       "115931  senator mccain opposes obamacare repeal bill p...      1\n",
       "115932  homeless trump supporter post guard trump holl...      0\n",
       "115933  even author bush torture memo say trump go far...      0\n",
       "\n",
       "[115934 rows x 2 columns]"
      ]
     },
     "execution_count": 4,
     "metadata": {},
     "output_type": "execute_result"
    }
   ],
   "source": [
    "df = pd.read_csv(\"..\\..\\df_processed.csv\")\n",
    "# df = df.dropna()\n",
    "df"
   ]
  },
  {
   "cell_type": "markdown",
   "metadata": {},
   "source": [
    "# TF-IDF"
   ]
  },
  {
   "cell_type": "code",
   "execution_count": 5,
   "metadata": {
    "scrolled": false
   },
   "outputs": [
    {
     "name": "stdout",
     "output_type": "stream",
     "text": [
      "  (0, 283323)\t0.047986733065029825\n",
      "  (0, 280194)\t0.07107420359404337\n",
      "  (0, 280129)\t0.021599661849397718\n",
      "  (0, 278991)\t0.037665717422826726\n",
      "  (0, 278419)\t0.07829993327751582\n",
      "  (0, 275661)\t0.03179456949844783\n",
      "  (0, 272950)\t0.04829558795218461\n",
      "  (0, 269171)\t0.080815644760799\n",
      "  (0, 263937)\t0.07077542649532008\n",
      "  (0, 263921)\t0.05228906044091277\n",
      "  (0, 262898)\t0.028301287609359578\n",
      "  (0, 262335)\t0.07414828504172348\n",
      "  (0, 259946)\t0.04581003185815881\n",
      "  (0, 259935)\t0.059682788319489505\n",
      "  (0, 257802)\t0.05288897737094497\n",
      "  (0, 256304)\t0.0402653903535\n",
      "  (0, 254383)\t0.05572419989258661\n",
      "  (0, 251493)\t0.05880198246689216\n",
      "  (0, 246692)\t0.04728629053828399\n",
      "  (0, 243443)\t0.032811861823102174\n",
      "  (0, 241308)\t0.046916455029409734\n",
      "  (0, 240907)\t0.05718019312015277\n",
      "  (0, 240830)\t0.13943953439725543\n",
      "  (0, 238688)\t0.0681412442767091\n",
      "  (0, 238499)\t0.022940974842888505\n",
      "  :\t:\n",
      "  (115933, 44533)\t0.03428529439936195\n",
      "  (115933, 43836)\t0.03902948433049075\n",
      "  (115933, 43477)\t0.024198776944278567\n",
      "  (115933, 37376)\t0.023231994100247996\n",
      "  (115933, 37184)\t0.022461020884576872\n",
      "  (115933, 36822)\t0.01990254276396078\n",
      "  (115933, 34772)\t0.06664256488347113\n",
      "  (115933, 33135)\t0.05117993259781\n",
      "  (115933, 32924)\t0.021554750763184714\n",
      "  (115933, 32427)\t0.02287752969289806\n",
      "  (115933, 32378)\t0.05816634371949164\n",
      "  (115933, 30408)\t0.020596381275602087\n",
      "  (115933, 29957)\t0.04917890253960927\n",
      "  (115933, 29202)\t0.029265478395500137\n",
      "  (115933, 27710)\t0.07771243742449892\n",
      "  (115933, 27603)\t0.023142638584889307\n",
      "  (115933, 27573)\t0.04703230717719229\n",
      "  (115933, 19067)\t0.02650985362016838\n",
      "  (115933, 19039)\t0.03388900782753027\n",
      "  (115933, 18598)\t0.019242936496708427\n",
      "  (115933, 17965)\t0.02179732255287734\n",
      "  (115933, 17955)\t0.031651036653433016\n",
      "  (115933, 17644)\t0.020956595228104787\n",
      "  (115933, 17594)\t0.02090279237572342\n",
      "  (115933, 17075)\t0.02158157776951902\n"
     ]
    }
   ],
   "source": [
    "from sklearn.feature_extraction.text import CountVectorizer\n",
    "from sklearn.feature_extraction.text import TfidfTransformer\n",
    "tfidf_transformer = TfidfTransformer(smooth_idf=False)\n",
    "count_vectorizer = CountVectorizer(ngram_range=(1, 1))\n",
    "counts = count_vectorizer.fit_transform(df['text'].values)\n",
    "tfidf = tfidf_transformer.fit_transform(counts)\n",
    "print(tfidf)"
   ]
  },
  {
   "cell_type": "code",
   "execution_count": 23,
   "metadata": {},
   "outputs": [
    {
     "data": {
      "text/plain": [
       "{'trump': 259946,\n",
       " 'twitter': 262335,\n",
       " 'aug': 32102,\n",
       " 'manufacture': 150575,\n",
       " 'council': 64563,\n",
       " 'policy': 197083,\n",
       " 'forum': 97988,\n",
       " 'follow': 96978,\n",
       " 'statement': 238688,\n",
       " 'post': 198539}"
      ]
     },
     "execution_count": 23,
     "metadata": {},
     "output_type": "execute_result"
    }
   ],
   "source": [
    "import itertools\n",
    "dict(itertools.islice(count_vectorizer.vocabulary_.items(), 10)) "
   ]
  },
  {
   "cell_type": "markdown",
   "metadata": {},
   "source": [
    "# Spliting to training set and test set"
   ]
  },
  {
   "cell_type": "code",
   "execution_count": 7,
   "metadata": {},
   "outputs": [],
   "source": [
    "x_train, x_test, y_train, y_test = train_test_split(tfidf, df['label'], test_size=0.2 , shuffle=False)"
   ]
  },
  {
   "cell_type": "code",
   "execution_count": 8,
   "metadata": {},
   "outputs": [],
   "source": [
    "def train(model , name):\n",
    "    model.fit(x_train,y_train)\n",
    "    print(f\"Training accuracy of {name} is {round(model.score(x_train, y_train) * 100, 3)}%\")\n",
    "    print(f\"Testing accuracy of {name} is {round(model.score(x_test, y_test) * 100, 3)}%\")\n",
    "    print()\n",
    "    return round(model.score(x_test, y_test) * 100, 3)\n",
    "    \n",
    "def conf_matrix(model):\n",
    "    ConfusionMatrixDisplay.from_estimator(model, x_test, y_test)\n",
    "    \n",
    "def class_report(model):\n",
    "    print(classification_report(y_test, model.predict(x_test)))"
   ]
  },
  {
   "cell_type": "markdown",
   "metadata": {},
   "source": [
    "# Decision Tree"
   ]
  },
  {
   "cell_type": "code",
   "execution_count": 9,
   "metadata": {},
   "outputs": [
    {
     "name": "stdout",
     "output_type": "stream",
     "text": [
      "Training accuracy of Decision Tree is 89.535%\n",
      "Testing accuracy of Decision Tree is 88.895%\n",
      "\n",
      "              precision    recall  f1-score   support\n",
      "\n",
      "           0       0.84      0.96      0.90     11828\n",
      "           1       0.95      0.81      0.88     11359\n",
      "\n",
      "    accuracy                           0.89     23187\n",
      "   macro avg       0.90      0.89      0.89     23187\n",
      "weighted avg       0.90      0.89      0.89     23187\n",
      "\n"
     ]
    },
    {
     "data": {
      "image/png": "[encoded data removed]",
      "text/plain": [
       "<Figure size 640x480 with 2 Axes>"
      ]
     },
     "metadata": {},
     "output_type": "display_data"
    }
   ],
   "source": [
    "dt = DecisionTreeClassifier(criterion=\"entropy\",max_depth=10,random_state=42)\n",
    "dt_acc = train(dt, \"Decision Tree\")\n",
    "conf_matrix(dt)\n",
    "class_report(dt)"
   ]
  },
  {
   "cell_type": "markdown",
   "metadata": {},
   "source": [
    "# Random Forest"
   ]
  },
  {
   "cell_type": "code",
   "execution_count": 10,
   "metadata": {},
   "outputs": [
    {
     "name": "stdout",
     "output_type": "stream",
     "text": [
      "Training accuracy of Random Forest is 93.241%\n",
      "Testing accuracy of Random Forest is 78.277%\n",
      "\n",
      "              precision    recall  f1-score   support\n",
      "\n",
      "           0       0.77      0.81      0.79     11828\n",
      "           1       0.79      0.75      0.77     11359\n",
      "\n",
      "    accuracy                           0.78     23187\n",
      "   macro avg       0.78      0.78      0.78     23187\n",
      "weighted avg       0.78      0.78      0.78     23187\n",
      "\n"
     ]
    },
    {
     "data": {
      "image/png": "[encoded data removed]",
      "text/plain": [
       "<Figure size 640x480 with 2 Axes>"
      ]
     },
     "metadata": {},
     "output_type": "display_data"
    }
   ],
   "source": [
    "rf = RandomForestClassifier(criterion=\"entropy\", max_depth=100, n_estimators=10, n_jobs=-1, random_state=42)\n",
    "rf_acc = train(rf, \"Random Forest\")\n",
    "conf_matrix(rf)\n",
    "class_report(rf)"
   ]
  },
  {
   "cell_type": "markdown",
   "metadata": {},
   "source": [
    "# Choosing the best model"
   ]
  },
  {
   "cell_type": "code",
   "execution_count": 11,
   "metadata": {},
   "outputs": [
    {
     "data": {
      "image/png": "[encoded data removed]",
      "text/plain": [
       "<Figure size 1250x500 with 1 Axes>"
      ]
     },
     "metadata": {},
     "output_type": "display_data"
    }
   ],
   "source": [
    "models = [\"Decision Tree\", \"Random Forest\"]\n",
    "\n",
    "accuracies = [dt_acc, rf_acc]\n",
    "\n",
    "colors = [\"blue\", \"orange\"]\n",
    "\n",
    "plt.figure(figsize=(12.5, 5))\n",
    "plt.bar(models, accuracies, color=colors)\n",
    "plt.xlabel(\"Models\")\n",
    "plt.ylabel(\"Accuracy\")\n",
    "plt.title(\"Model Accuracy Comparison\")\n",
    "for i in range(len(models)):\n",
    "        plt.text(i, accuracies[i], accuracies[i], ha = 'center')\n",
    "plt.tight_layout()\n",
    "plt.show()"
   ]
  },
  {
   "cell_type": "markdown",
   "metadata": {},
   "source": [
    "### Clearly Decision Tree has the hightest accuracy so we will save it for deployment"
   ]
  },
  {
   "cell_type": "markdown",
   "metadata": {},
   "source": [
    "# Save the TF-IDF and model objects"
   ]
  },
  {
   "cell_type": "code",
   "execution_count": null,
   "metadata": {},
   "outputs": [],
   "source": [
    "# pickle.dump(count_vectorizer, open('vectorizer.pkl', 'wb'))"
   ]
  },
  {
   "cell_type": "code",
   "execution_count": null,
   "metadata": {},
   "outputs": [],
   "source": [
    "# pickle.dump(tfidf_transformer, open('transformer.pkl', 'wb'))"
   ]
  },
  {
   "cell_type": "code",
   "execution_count": null,
   "metadata": {},
   "outputs": [],
   "source": [
    "# pickle.dump(dt, open('dt.pkl', 'wb'))"
   ]
  },
  {
   "cell_type": "markdown",
   "metadata": {},
   "source": [
    "# Load the TF-IDF and model objects"
   ]
  },
  {
   "cell_type": "code",
   "execution_count": 12,
   "metadata": {},
   "outputs": [],
   "source": [
    "vectorizer = pickle.load(open('../api/vectorizer.pkl', 'rb'))"
   ]
  },
  {
   "cell_type": "code",
   "execution_count": 13,
   "metadata": {},
   "outputs": [],
   "source": [
    "transformer = pickle.load(open('../api/transformer.pkl', 'rb'))"
   ]
  },
  {
   "cell_type": "code",
   "execution_count": 14,
   "metadata": {},
   "outputs": [],
   "source": [
    "model = pickle.load(open('../api/dt.pkl', 'rb'))"
   ]
  },
  {
   "cell_type": "markdown",
   "metadata": {},
   "source": [
    "# Classifing a single news article"
   ]
  },
  {
   "cell_type": "code",
   "execution_count": 15,
   "metadata": {},
   "outputs": [],
   "source": [
    "def fake_news(article):\n",
    "    article = preprocess_text(article)\n",
    "    article = [article]\n",
    "    article = vectorizer.transform(article)\n",
    "    article = transformer.transform(article)\n",
    "    prediction = model.predict(article)\n",
    "    return prediction[0]"
   ]
  },
  {
   "cell_type": "code",
   "execution_count": 16,
   "metadata": {},
   "outputs": [
    {
     "name": "stdout",
     "output_type": "stream",
     "text": [
      "FALSE NEWS!!!\n"
     ]
    }
   ],
   "source": [
    "article = \"\"\"There is a lot more than meets the eye to this mob , wait till you read this . &quot;Soon thereafter I resigned from Yang and took another job at the Florida Department of Transportation (FDOT). While there, I discovered some other illegal activities of Yang, who had contracts with FDOT, involving over-billing and defrauding of the State of Florida regarding contracts Nee was sentenced on October 7, 2004 by U.S. District Judge Gregory A. Presenell to three years of supervised probation and $100 fine. An illegal Chinese alien admitting to what is paramount to corporate if not treasonable espionage, and the guy gets a slap on the wrist. http://www.bradblog.com/?page_id=3526  now finding the connection to Serco via contracts ....\"\"\"\n",
    "ans = fake_news(article)\n",
    "if(ans == 0):\n",
    "    print(\"FALSE NEWS!!!\")\n",
    "else:\n",
    "    print(\"TRUE NEWS\")"
   ]
  },
  {
   "cell_type": "code",
   "execution_count": null,
   "metadata": {},
   "outputs": [],
   "source": [
    "article = \"\"\"patrick stewart literally pay guy vote donald trump image patrick stewart despise donald trump much make feel well pay guy vote himthe actor know captain picard star trek next generation xmen film franchise new orleans earlier week spot homeless man hold sign state exchange would vote trumpnot stewart give give four dollar top extra measure make forget humidity moment worth buck stewart write twitter complete image man signmade forget humidity moment worth buck pictwittercomlrveozmf patrick stewart sirpatstew may first time stewart slam donald trump week ago express vice believe anyone take trump antic seriously well course idea dreadful trump would antic call antic could possibly take seriously stewart make remark response ask donald trump extremism support among white supremacist group make late film green room stewart portray neonazi timelyclearly patrick stewart donald trump supporter blame donald trump scary political candidate presidential race fact man strong support white supremacist racist hate group could well end become leader free world nightmare close turn realityfaced kind person office perhaps give five dollar people keep voting trumpfeatured image via wikimedia\"\"\"\n",
    "article = preprocess_text(article)\n",
    "print(len(article.split()))\n",
    "article = [article]\n",
    "counts = count_vectorizer.transform(article)\n",
    "tfidf = tfidf_transformer.transform(counts)\n",
    "# print(f\"pac: {pac.predict(tfidf)}\")\n",
    "print(f\"dt: {dt.predict(tfidf)}\")\n",
    "leaf_node = model.apply(tfidf)\n",
    "probabilities = model.predict_proba(tfidf)\n",
    "print()\n",
    "# print(f\"lr: {lr.predict(tfidf)}\")\n",
    "# print(f\"sgd: {sgd.predict(tfidf)}\")\n",
    "# print(f\"mnb: {mnb.predict(tfidf)}\")\n",
    "# print(f\"abc: {abc.predict(tfidf)}\")"
   ]
  }
 ],
 "metadata": {
  "colab": {
   "provenance": []
  },
  "kernelspec": {
   "display_name": "Python 3 (ipykernel)",
   "language": "python",
   "name": "python3"
  },
  "language_info": {
   "codemirror_mode": {
    "name": "ipython",
    "version": 3
   },
   "file_extension": ".py",
   "mimetype": "text/x-python",
   "name": "python",
   "nbconvert_exporter": "python",
   "pygments_lexer": "ipython3",
   "version": "3.11.7"
  }
 },
 "nbformat": 4,
 "nbformat_minor": 1
}
